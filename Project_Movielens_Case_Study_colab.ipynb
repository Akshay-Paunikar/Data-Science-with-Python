{
  "nbformat": 4,
  "nbformat_minor": 5,
  "metadata": {
    "accelerator": "GPU",
    "colab": {
      "name": "Project - Movielens Case Study.ipynb",
      "provenance": [],
      "collapsed_sections": [
        "76d30789",
        "bf689efc"
      ]
    },
    "kernelspec": {
      "display_name": "Python 3",
      "language": "python",
      "name": "python3"
    },
    "language_info": {
      "codemirror_mode": {
        "name": "ipython",
        "version": 3
      },
      "file_extension": ".py",
      "mimetype": "text/x-python",
      "name": "python",
      "nbconvert_exporter": "python",
      "pygments_lexer": "ipython3",
      "version": "3.8.8"
    }
  },
  "cells": [
    {
      "cell_type": "markdown",
      "metadata": {
        "id": "903eb16c"
      },
      "source": [
        "# Project - Movielens Case Study"
      ],
      "id": "903eb16c"
    },
    {
      "cell_type": "markdown",
      "metadata": {
        "id": "AVrk685jrOHO"
      },
      "source": [
        "# For this project we are using Google Colab as the dataset is very huge and some models will consume most of the CPU RAM during analysis "
      ],
      "id": "AVrk685jrOHO"
    },
    {
      "cell_type": "code",
      "metadata": {
        "id": "9b747a5f"
      },
      "source": [
        "# Import the required libraries\n",
        "import numpy as np\n",
        "import pandas as pd\n",
        "import matplotlib.pyplot as plt\n",
        "%matplotlib inline"
      ],
      "id": "9b747a5f",
      "execution_count": 2,
      "outputs": []
    },
    {
      "cell_type": "code",
      "metadata": {
        "colab": {
          "base_uri": "https://localhost:8080/",
          "height": 0
        },
        "id": "O9X6k8BYCMUT",
        "outputId": "81dba7b7-da93-428e-dff1-1daf9eb5f27e"
      },
      "source": [
        "# mount the drive\n",
        "from google.colab import drive\n",
        "drive.mount('/content/gdrive')"
      ],
      "id": "O9X6k8BYCMUT",
      "execution_count": 3,
      "outputs": [
        {
          "output_type": "stream",
          "text": [
            "Drive already mounted at /content/gdrive; to attempt to forcibly remount, call drive.mount(\"/content/gdrive\", force_remount=True).\n"
          ],
          "name": "stdout"
        }
      ]
    },
    {
      "cell_type": "code",
      "metadata": {
        "colab": {
          "base_uri": "https://localhost:8080/",
          "height": 0
        },
        "id": "964b64cb",
        "outputId": "92fa6517-9630-4b07-a2b1-b57f949ce530"
      },
      "source": [
        "# import the three datasets\n",
        "movies = pd.read_csv('/content/gdrive/MyDrive/Colab Notebooks/movies.dat',sep='::',header=None,names=['MovieID','Title','Genres'])\n",
        "ratings = pd.read_csv('/content/gdrive/MyDrive/Colab Notebooks/ratings.dat',sep=\"::\",header=None,names=['UserID','MovieID','Rating','Timestamp'])\n",
        "users = pd.read_csv('/content/gdrive/MyDrive/Colab Notebooks/users.dat',sep=\"::\",header=None,names=['UserID','Gender','Age','Occupation','Zip-code'])"
      ],
      "id": "964b64cb",
      "execution_count": 4,
      "outputs": [
        {
          "output_type": "stream",
          "text": [
            "/usr/local/lib/python3.7/dist-packages/ipykernel_launcher.py:1: ParserWarning: Falling back to the 'python' engine because the 'c' engine does not support regex separators (separators > 1 char and different from '\\s+' are interpreted as regex); you can avoid this warning by specifying engine='python'.\n",
            "  \"\"\"Entry point for launching an IPython kernel.\n",
            "/usr/local/lib/python3.7/dist-packages/ipykernel_launcher.py:2: ParserWarning: Falling back to the 'python' engine because the 'c' engine does not support regex separators (separators > 1 char and different from '\\s+' are interpreted as regex); you can avoid this warning by specifying engine='python'.\n",
            "  \n",
            "/usr/local/lib/python3.7/dist-packages/ipykernel_launcher.py:3: ParserWarning: Falling back to the 'python' engine because the 'c' engine does not support regex separators (separators > 1 char and different from '\\s+' are interpreted as regex); you can avoid this warning by specifying engine='python'.\n",
            "  This is separate from the ipykernel package so we can avoid doing imports until\n"
          ],
          "name": "stderr"
        }
      ]
    },
    {
      "cell_type": "code",
      "metadata": {
        "colab": {
          "base_uri": "https://localhost:8080/",
          "height": 0
        },
        "id": "c56c6152",
        "outputId": "2273bf07-eb24-4c96-df23-ef0351861487"
      },
      "source": [
        "# check shapes of datasets\n",
        "print(movies.shape)\n",
        "print(ratings.shape)\n",
        "print(users.shape)"
      ],
      "id": "c56c6152",
      "execution_count": 5,
      "outputs": [
        {
          "output_type": "stream",
          "text": [
            "(3883, 3)\n",
            "(1000209, 4)\n",
            "(6040, 5)\n"
          ],
          "name": "stdout"
        }
      ]
    },
    {
      "cell_type": "code",
      "metadata": {
        "colab": {
          "base_uri": "https://localhost:8080/",
          "height": 204
        },
        "id": "2658f9d3",
        "outputId": "6f510cd0-d04e-48ee-8bcc-e93f8790d847"
      },
      "source": [
        "movies.head() # first 5 records"
      ],
      "id": "2658f9d3",
      "execution_count": 6,
      "outputs": [
        {
          "output_type": "execute_result",
          "data": {
            "text/html": [
              "<div>\n",
              "<style scoped>\n",
              "    .dataframe tbody tr th:only-of-type {\n",
              "        vertical-align: middle;\n",
              "    }\n",
              "\n",
              "    .dataframe tbody tr th {\n",
              "        vertical-align: top;\n",
              "    }\n",
              "\n",
              "    .dataframe thead th {\n",
              "        text-align: right;\n",
              "    }\n",
              "</style>\n",
              "<table border=\"1\" class=\"dataframe\">\n",
              "  <thead>\n",
              "    <tr style=\"text-align: right;\">\n",
              "      <th></th>\n",
              "      <th>MovieID</th>\n",
              "      <th>Title</th>\n",
              "      <th>Genres</th>\n",
              "    </tr>\n",
              "  </thead>\n",
              "  <tbody>\n",
              "    <tr>\n",
              "      <th>0</th>\n",
              "      <td>1</td>\n",
              "      <td>Toy Story (1995)</td>\n",
              "      <td>Animation|Children's|Comedy</td>\n",
              "    </tr>\n",
              "    <tr>\n",
              "      <th>1</th>\n",
              "      <td>2</td>\n",
              "      <td>Jumanji (1995)</td>\n",
              "      <td>Adventure|Children's|Fantasy</td>\n",
              "    </tr>\n",
              "    <tr>\n",
              "      <th>2</th>\n",
              "      <td>3</td>\n",
              "      <td>Grumpier Old Men (1995)</td>\n",
              "      <td>Comedy|Romance</td>\n",
              "    </tr>\n",
              "    <tr>\n",
              "      <th>3</th>\n",
              "      <td>4</td>\n",
              "      <td>Waiting to Exhale (1995)</td>\n",
              "      <td>Comedy|Drama</td>\n",
              "    </tr>\n",
              "    <tr>\n",
              "      <th>4</th>\n",
              "      <td>5</td>\n",
              "      <td>Father of the Bride Part II (1995)</td>\n",
              "      <td>Comedy</td>\n",
              "    </tr>\n",
              "  </tbody>\n",
              "</table>\n",
              "</div>"
            ],
            "text/plain": [
              "   MovieID                               Title                        Genres\n",
              "0        1                    Toy Story (1995)   Animation|Children's|Comedy\n",
              "1        2                      Jumanji (1995)  Adventure|Children's|Fantasy\n",
              "2        3             Grumpier Old Men (1995)                Comedy|Romance\n",
              "3        4            Waiting to Exhale (1995)                  Comedy|Drama\n",
              "4        5  Father of the Bride Part II (1995)                        Comedy"
            ]
          },
          "metadata": {
            "tags": []
          },
          "execution_count": 6
        }
      ]
    },
    {
      "cell_type": "code",
      "metadata": {
        "colab": {
          "base_uri": "https://localhost:8080/",
          "height": 204
        },
        "id": "f1f05fdd",
        "outputId": "fa16f7b6-3fdd-42c4-d29f-a7bbc8672bd1"
      },
      "source": [
        "ratings.head() # first 5 records"
      ],
      "id": "f1f05fdd",
      "execution_count": 7,
      "outputs": [
        {
          "output_type": "execute_result",
          "data": {
            "text/html": [
              "<div>\n",
              "<style scoped>\n",
              "    .dataframe tbody tr th:only-of-type {\n",
              "        vertical-align: middle;\n",
              "    }\n",
              "\n",
              "    .dataframe tbody tr th {\n",
              "        vertical-align: top;\n",
              "    }\n",
              "\n",
              "    .dataframe thead th {\n",
              "        text-align: right;\n",
              "    }\n",
              "</style>\n",
              "<table border=\"1\" class=\"dataframe\">\n",
              "  <thead>\n",
              "    <tr style=\"text-align: right;\">\n",
              "      <th></th>\n",
              "      <th>UserID</th>\n",
              "      <th>MovieID</th>\n",
              "      <th>Rating</th>\n",
              "      <th>Timestamp</th>\n",
              "    </tr>\n",
              "  </thead>\n",
              "  <tbody>\n",
              "    <tr>\n",
              "      <th>0</th>\n",
              "      <td>1</td>\n",
              "      <td>1193</td>\n",
              "      <td>5</td>\n",
              "      <td>978300760</td>\n",
              "    </tr>\n",
              "    <tr>\n",
              "      <th>1</th>\n",
              "      <td>1</td>\n",
              "      <td>661</td>\n",
              "      <td>3</td>\n",
              "      <td>978302109</td>\n",
              "    </tr>\n",
              "    <tr>\n",
              "      <th>2</th>\n",
              "      <td>1</td>\n",
              "      <td>914</td>\n",
              "      <td>3</td>\n",
              "      <td>978301968</td>\n",
              "    </tr>\n",
              "    <tr>\n",
              "      <th>3</th>\n",
              "      <td>1</td>\n",
              "      <td>3408</td>\n",
              "      <td>4</td>\n",
              "      <td>978300275</td>\n",
              "    </tr>\n",
              "    <tr>\n",
              "      <th>4</th>\n",
              "      <td>1</td>\n",
              "      <td>2355</td>\n",
              "      <td>5</td>\n",
              "      <td>978824291</td>\n",
              "    </tr>\n",
              "  </tbody>\n",
              "</table>\n",
              "</div>"
            ],
            "text/plain": [
              "   UserID  MovieID  Rating  Timestamp\n",
              "0       1     1193       5  978300760\n",
              "1       1      661       3  978302109\n",
              "2       1      914       3  978301968\n",
              "3       1     3408       4  978300275\n",
              "4       1     2355       5  978824291"
            ]
          },
          "metadata": {
            "tags": []
          },
          "execution_count": 7
        }
      ]
    },
    {
      "cell_type": "code",
      "metadata": {
        "colab": {
          "base_uri": "https://localhost:8080/",
          "height": 204
        },
        "id": "f8b46fc3",
        "outputId": "14c8e115-3cce-4a79-e6ab-01d3c967f2b1"
      },
      "source": [
        "users.head() # first 5 records"
      ],
      "id": "f8b46fc3",
      "execution_count": 8,
      "outputs": [
        {
          "output_type": "execute_result",
          "data": {
            "text/html": [
              "<div>\n",
              "<style scoped>\n",
              "    .dataframe tbody tr th:only-of-type {\n",
              "        vertical-align: middle;\n",
              "    }\n",
              "\n",
              "    .dataframe tbody tr th {\n",
              "        vertical-align: top;\n",
              "    }\n",
              "\n",
              "    .dataframe thead th {\n",
              "        text-align: right;\n",
              "    }\n",
              "</style>\n",
              "<table border=\"1\" class=\"dataframe\">\n",
              "  <thead>\n",
              "    <tr style=\"text-align: right;\">\n",
              "      <th></th>\n",
              "      <th>UserID</th>\n",
              "      <th>Gender</th>\n",
              "      <th>Age</th>\n",
              "      <th>Occupation</th>\n",
              "      <th>Zip-code</th>\n",
              "    </tr>\n",
              "  </thead>\n",
              "  <tbody>\n",
              "    <tr>\n",
              "      <th>0</th>\n",
              "      <td>1</td>\n",
              "      <td>F</td>\n",
              "      <td>1</td>\n",
              "      <td>10</td>\n",
              "      <td>48067</td>\n",
              "    </tr>\n",
              "    <tr>\n",
              "      <th>1</th>\n",
              "      <td>2</td>\n",
              "      <td>M</td>\n",
              "      <td>56</td>\n",
              "      <td>16</td>\n",
              "      <td>70072</td>\n",
              "    </tr>\n",
              "    <tr>\n",
              "      <th>2</th>\n",
              "      <td>3</td>\n",
              "      <td>M</td>\n",
              "      <td>25</td>\n",
              "      <td>15</td>\n",
              "      <td>55117</td>\n",
              "    </tr>\n",
              "    <tr>\n",
              "      <th>3</th>\n",
              "      <td>4</td>\n",
              "      <td>M</td>\n",
              "      <td>45</td>\n",
              "      <td>7</td>\n",
              "      <td>02460</td>\n",
              "    </tr>\n",
              "    <tr>\n",
              "      <th>4</th>\n",
              "      <td>5</td>\n",
              "      <td>M</td>\n",
              "      <td>25</td>\n",
              "      <td>20</td>\n",
              "      <td>55455</td>\n",
              "    </tr>\n",
              "  </tbody>\n",
              "</table>\n",
              "</div>"
            ],
            "text/plain": [
              "   UserID Gender  Age  Occupation Zip-code\n",
              "0       1      F    1          10    48067\n",
              "1       2      M   56          16    70072\n",
              "2       3      M   25          15    55117\n",
              "3       4      M   45           7    02460\n",
              "4       5      M   25          20    55455"
            ]
          },
          "metadata": {
            "tags": []
          },
          "execution_count": 8
        }
      ]
    },
    {
      "cell_type": "code",
      "metadata": {
        "colab": {
          "base_uri": "https://localhost:8080/",
          "height": 0
        },
        "id": "22a09129",
        "outputId": "58f278e3-e220-4df0-87a0-77190c804a52"
      },
      "source": [
        "# Check the datatypes of data\n",
        "print(movies.dtypes)\n",
        "print(ratings.dtypes)\n",
        "print(users.dtypes)"
      ],
      "id": "22a09129",
      "execution_count": 9,
      "outputs": [
        {
          "output_type": "stream",
          "text": [
            "MovieID     int64\n",
            "Title      object\n",
            "Genres     object\n",
            "dtype: object\n",
            "UserID       int64\n",
            "MovieID      int64\n",
            "Rating       int64\n",
            "Timestamp    int64\n",
            "dtype: object\n",
            "UserID         int64\n",
            "Gender        object\n",
            "Age            int64\n",
            "Occupation     int64\n",
            "Zip-code      object\n",
            "dtype: object\n"
          ],
          "name": "stdout"
        }
      ]
    },
    {
      "cell_type": "code",
      "metadata": {
        "colab": {
          "base_uri": "https://localhost:8080/",
          "height": 0
        },
        "id": "ab5d1246",
        "outputId": "0bf24788-7b66-426b-950f-d14d4a6a9328"
      },
      "source": [
        "# Check for na values in movies\n",
        "movies.isnull().sum().sort_values(ascending=False)"
      ],
      "id": "ab5d1246",
      "execution_count": 9,
      "outputs": [
        {
          "output_type": "execute_result",
          "data": {
            "text/plain": [
              "Genres     0\n",
              "Title      0\n",
              "MovieID    0\n",
              "dtype: int64"
            ]
          },
          "metadata": {
            "tags": []
          },
          "execution_count": 9
        }
      ]
    },
    {
      "cell_type": "code",
      "metadata": {
        "colab": {
          "base_uri": "https://localhost:8080/",
          "height": 0
        },
        "id": "198967ba",
        "outputId": "8eef9d0f-1e85-4e09-827f-cdb7d46136bf"
      },
      "source": [
        "# check for na values in ratings\n",
        "ratings.isnull().sum().sort_values(ascending=False)"
      ],
      "id": "198967ba",
      "execution_count": 10,
      "outputs": [
        {
          "output_type": "execute_result",
          "data": {
            "text/plain": [
              "Timestamp    0\n",
              "Rating       0\n",
              "MovieID      0\n",
              "UserID       0\n",
              "dtype: int64"
            ]
          },
          "metadata": {
            "tags": []
          },
          "execution_count": 10
        }
      ]
    },
    {
      "cell_type": "code",
      "metadata": {
        "colab": {
          "base_uri": "https://localhost:8080/",
          "height": 0
        },
        "id": "3491aa00",
        "outputId": "6d416595-735c-4d5b-805e-97c828da995b"
      },
      "source": [
        "# check for na values in users\n",
        "users.isnull().sum().sort_values(ascending=False)"
      ],
      "id": "3491aa00",
      "execution_count": 11,
      "outputs": [
        {
          "output_type": "execute_result",
          "data": {
            "text/plain": [
              "Zip-code      0\n",
              "Occupation    0\n",
              "Age           0\n",
              "Gender        0\n",
              "UserID        0\n",
              "dtype: int64"
            ]
          },
          "metadata": {
            "tags": []
          },
          "execution_count": 11
        }
      ]
    },
    {
      "cell_type": "markdown",
      "metadata": {
        "id": "B1sU18L2cwqC"
      },
      "source": [
        "# There are no missing values in the dataset"
      ],
      "id": "B1sU18L2cwqC"
    },
    {
      "cell_type": "markdown",
      "metadata": {
        "id": "5a0d9eda"
      },
      "source": [
        "# Analysis Task - Create a new dataset [Master_Data]"
      ],
      "id": "5a0d9eda"
    },
    {
      "cell_type": "code",
      "metadata": {
        "id": "e458f255"
      },
      "source": [
        "# Merging the 3 datasets to create a Master_Data\n",
        "data = pd.merge(movies,ratings,on='MovieID')\n",
        "Master_Data = pd.merge(data,users,on='UserID')"
      ],
      "id": "e458f255",
      "execution_count": 10,
      "outputs": []
    },
    {
      "cell_type": "code",
      "metadata": {
        "colab": {
          "base_uri": "https://localhost:8080/",
          "height": 204
        },
        "id": "bf75f8b5",
        "outputId": "5fca67ea-b11f-4643-b178-da34ca9e5307"
      },
      "source": [
        "Master_Data.head() # first 5 records"
      ],
      "id": "bf75f8b5",
      "execution_count": 13,
      "outputs": [
        {
          "output_type": "execute_result",
          "data": {
            "text/html": [
              "<div>\n",
              "<style scoped>\n",
              "    .dataframe tbody tr th:only-of-type {\n",
              "        vertical-align: middle;\n",
              "    }\n",
              "\n",
              "    .dataframe tbody tr th {\n",
              "        vertical-align: top;\n",
              "    }\n",
              "\n",
              "    .dataframe thead th {\n",
              "        text-align: right;\n",
              "    }\n",
              "</style>\n",
              "<table border=\"1\" class=\"dataframe\">\n",
              "  <thead>\n",
              "    <tr style=\"text-align: right;\">\n",
              "      <th></th>\n",
              "      <th>MovieID</th>\n",
              "      <th>Title</th>\n",
              "      <th>Genres</th>\n",
              "      <th>UserID</th>\n",
              "      <th>Rating</th>\n",
              "      <th>Timestamp</th>\n",
              "      <th>Gender</th>\n",
              "      <th>Age</th>\n",
              "      <th>Occupation</th>\n",
              "      <th>Zip-code</th>\n",
              "    </tr>\n",
              "  </thead>\n",
              "  <tbody>\n",
              "    <tr>\n",
              "      <th>0</th>\n",
              "      <td>1</td>\n",
              "      <td>Toy Story (1995)</td>\n",
              "      <td>Animation|Children's|Comedy</td>\n",
              "      <td>1</td>\n",
              "      <td>5</td>\n",
              "      <td>978824268</td>\n",
              "      <td>F</td>\n",
              "      <td>1</td>\n",
              "      <td>10</td>\n",
              "      <td>48067</td>\n",
              "    </tr>\n",
              "    <tr>\n",
              "      <th>1</th>\n",
              "      <td>48</td>\n",
              "      <td>Pocahontas (1995)</td>\n",
              "      <td>Animation|Children's|Musical|Romance</td>\n",
              "      <td>1</td>\n",
              "      <td>5</td>\n",
              "      <td>978824351</td>\n",
              "      <td>F</td>\n",
              "      <td>1</td>\n",
              "      <td>10</td>\n",
              "      <td>48067</td>\n",
              "    </tr>\n",
              "    <tr>\n",
              "      <th>2</th>\n",
              "      <td>150</td>\n",
              "      <td>Apollo 13 (1995)</td>\n",
              "      <td>Drama</td>\n",
              "      <td>1</td>\n",
              "      <td>5</td>\n",
              "      <td>978301777</td>\n",
              "      <td>F</td>\n",
              "      <td>1</td>\n",
              "      <td>10</td>\n",
              "      <td>48067</td>\n",
              "    </tr>\n",
              "    <tr>\n",
              "      <th>3</th>\n",
              "      <td>260</td>\n",
              "      <td>Star Wars: Episode IV - A New Hope (1977)</td>\n",
              "      <td>Action|Adventure|Fantasy|Sci-Fi</td>\n",
              "      <td>1</td>\n",
              "      <td>4</td>\n",
              "      <td>978300760</td>\n",
              "      <td>F</td>\n",
              "      <td>1</td>\n",
              "      <td>10</td>\n",
              "      <td>48067</td>\n",
              "    </tr>\n",
              "    <tr>\n",
              "      <th>4</th>\n",
              "      <td>527</td>\n",
              "      <td>Schindler's List (1993)</td>\n",
              "      <td>Drama|War</td>\n",
              "      <td>1</td>\n",
              "      <td>5</td>\n",
              "      <td>978824195</td>\n",
              "      <td>F</td>\n",
              "      <td>1</td>\n",
              "      <td>10</td>\n",
              "      <td>48067</td>\n",
              "    </tr>\n",
              "  </tbody>\n",
              "</table>\n",
              "</div>"
            ],
            "text/plain": [
              "   MovieID                                      Title  ... Occupation  Zip-code\n",
              "0        1                           Toy Story (1995)  ...         10     48067\n",
              "1       48                          Pocahontas (1995)  ...         10     48067\n",
              "2      150                           Apollo 13 (1995)  ...         10     48067\n",
              "3      260  Star Wars: Episode IV - A New Hope (1977)  ...         10     48067\n",
              "4      527                    Schindler's List (1993)  ...         10     48067\n",
              "\n",
              "[5 rows x 10 columns]"
            ]
          },
          "metadata": {
            "tags": []
          },
          "execution_count": 13
        }
      ]
    },
    {
      "cell_type": "code",
      "metadata": {
        "colab": {
          "base_uri": "https://localhost:8080/",
          "height": 0
        },
        "id": "585604f4",
        "outputId": "fc21ebd6-2556-41fc-83e4-51f06cf9800a"
      },
      "source": [
        "# to get number of rows and columns\n",
        "Master_Data.shape"
      ],
      "id": "585604f4",
      "execution_count": 14,
      "outputs": [
        {
          "output_type": "execute_result",
          "data": {
            "text/plain": [
              "(1000209, 10)"
            ]
          },
          "metadata": {
            "tags": []
          },
          "execution_count": 14
        }
      ]
    },
    {
      "cell_type": "code",
      "metadata": {
        "colab": {
          "base_uri": "https://localhost:8080/",
          "height": 0
        },
        "id": "e1c77e8e",
        "outputId": "e3f03e41-3791-48a6-a71d-d7da29216029"
      },
      "source": [
        "Master_Data.dtypes # check the datatypes"
      ],
      "id": "e1c77e8e",
      "execution_count": 15,
      "outputs": [
        {
          "output_type": "execute_result",
          "data": {
            "text/plain": [
              "MovieID        int64\n",
              "Title         object\n",
              "Genres        object\n",
              "UserID         int64\n",
              "Rating         int64\n",
              "Timestamp      int64\n",
              "Gender        object\n",
              "Age            int64\n",
              "Occupation     int64\n",
              "Zip-code      object\n",
              "dtype: object"
            ]
          },
          "metadata": {
            "tags": []
          },
          "execution_count": 15
        }
      ]
    },
    {
      "cell_type": "code",
      "metadata": {
        "colab": {
          "base_uri": "https://localhost:8080/",
          "height": 0
        },
        "id": "6ceae8ab",
        "outputId": "0adfa6ab-5215-4e8d-bdac-3ca90f293a43"
      },
      "source": [
        "Master_Data.isnull().sum().sort_values(ascending=False) # check for missing values"
      ],
      "id": "6ceae8ab",
      "execution_count": 16,
      "outputs": [
        {
          "output_type": "execute_result",
          "data": {
            "text/plain": [
              "Zip-code      0\n",
              "Occupation    0\n",
              "Age           0\n",
              "Gender        0\n",
              "Timestamp     0\n",
              "Rating        0\n",
              "UserID        0\n",
              "Genres        0\n",
              "Title         0\n",
              "MovieID       0\n",
              "dtype: int64"
            ]
          },
          "metadata": {
            "tags": []
          },
          "execution_count": 16
        }
      ]
    },
    {
      "cell_type": "markdown",
      "metadata": {
        "id": "C437St0gdRPx"
      },
      "source": [
        "# There are no missing values in the Master_Data"
      ],
      "id": "C437St0gdRPx"
    },
    {
      "cell_type": "markdown",
      "metadata": {
        "id": "76d30789"
      },
      "source": [
        "# Explore the datasets using visual representations"
      ],
      "id": "76d30789"
    },
    {
      "cell_type": "markdown",
      "metadata": {
        "id": "bfba672c"
      },
      "source": [
        "# 1. User Age Distribution"
      ],
      "id": "bfba672c"
    },
    {
      "cell_type": "code",
      "metadata": {
        "id": "f4895ddd"
      },
      "source": [
        "# creating a variable for age\n",
        "age_data = Master_Data['Age']"
      ],
      "id": "f4895ddd",
      "execution_count": 17,
      "outputs": []
    },
    {
      "cell_type": "code",
      "metadata": {
        "colab": {
          "base_uri": "https://localhost:8080/",
          "height": 621
        },
        "id": "6ede1c4d",
        "outputId": "e817d5f5-d656-4c5b-edfc-445bd25cca5a"
      },
      "source": [
        "# Let's create a Histogram of Age Distribution\n",
        "plt.figure(figsize=(10,10))\n",
        "plt.hist(age_data,bins=[0,10,20,30,40,50,60,70],color='grey',edgecolor='black')\n",
        "plt.xlabel('Age Group')\n",
        "plt.ylabel('Frequency')\n",
        "plt.title('Age Distribution Histogram')\n",
        "plt.grid(False)\n",
        "plt.show()"
      ],
      "id": "6ede1c4d",
      "execution_count": 18,
      "outputs": [
        {
          "output_type": "display_data",
          "data": {
            "image/png": "[encoded data removed]",
            "text/plain": [
              "<Figure size 720x720 with 1 Axes>"
            ]
          },
          "metadata": {
            "tags": [],
            "needs_background": "light"
          }
        }
      ]
    },
    {
      "cell_type": "markdown",
      "metadata": {
        "id": "iKAAnrkQeivb"
      },
      "source": [
        "# From above histogram we found that the Master_Data has people from age group 20-30 who contribute highest and people from age group 0-10 who contribute lowest when it comes to watch movies and also the movie ratings"
      ],
      "id": "iKAAnrkQeivb"
    },
    {
      "cell_type": "markdown",
      "metadata": {
        "id": "100a82ac"
      },
      "source": [
        "# 2. User rating of the movie “Toy Story”"
      ],
      "id": "100a82ac"
    },
    {
      "cell_type": "code",
      "metadata": {
        "colab": {
          "base_uri": "https://localhost:8080/",
          "height": 0
        },
        "id": "be44a957",
        "scrolled": true,
        "outputId": "540889f6-9674-4ee5-e70e-78d93a24bf51"
      },
      "source": [
        "# Lets check for unique movie titles\n",
        "Unique_Titles = Master_Data.Title.unique()\n",
        "Unique_Titles"
      ],
      "id": "be44a957",
      "execution_count": 19,
      "outputs": [
        {
          "output_type": "execute_result",
          "data": {
            "text/plain": [
              "array(['Toy Story (1995)', 'Pocahontas (1995)', 'Apollo 13 (1995)', ...,\n",
              "       'Voyage to the Beginning of the World (1997)',\n",
              "       'Project Moon Base (1953)', \"Heaven's Burning (1997)\"],\n",
              "      dtype=object)"
            ]
          },
          "metadata": {
            "tags": []
          },
          "execution_count": 19
        }
      ]
    },
    {
      "cell_type": "code",
      "metadata": {
        "colab": {
          "base_uri": "https://localhost:8080/",
          "height": 0
        },
        "id": "318c960e",
        "outputId": "f3ed50c9-11b6-491b-bc28-2e397716358b"
      },
      "source": [
        "# check for toy story \n",
        "Toy_Story = []\n",
        "for i in Unique_Titles:\n",
        "    if i.startswith('Toy Story')==True:\n",
        "        Toy_Story.append(i)\n",
        "print(Toy_Story)"
      ],
      "id": "318c960e",
      "execution_count": 20,
      "outputs": [
        {
          "output_type": "stream",
          "text": [
            "['Toy Story (1995)', 'Toy Story 2 (1999)']\n"
          ],
          "name": "stdout"
        }
      ]
    },
    {
      "cell_type": "markdown",
      "metadata": {
        "id": "5wCP0z0agwHW"
      },
      "source": [
        "# from above analysis we can see that there are two toy story movies : 'Toy Story (1995)', 'Toy Story 2 (1999)'"
      ],
      "id": "5wCP0z0agwHW"
    },
    {
      "cell_type": "code",
      "metadata": {
        "id": "cf019db9"
      },
      "source": [
        "# Creating a separate data for the two toy sory versions\n",
        "ToyStory1995 = Master_Data[Master_Data.Title=='Toy Story (1995)']\n",
        "ToyStory1999 = Master_Data[Master_Data.Title=='Toy Story 2 (1999)']"
      ],
      "id": "cf019db9",
      "execution_count": 21,
      "outputs": []
    },
    {
      "cell_type": "code",
      "metadata": {
        "colab": {
          "base_uri": "https://localhost:8080/",
          "height": 0
        },
        "id": "8bc893a9",
        "outputId": "5c55e746-d3a8-4593-e1b1-49b441809e29"
      },
      "source": [
        "# Now we will group Toy Story 1995 by ratings count the how many users provided the ratings\n",
        "TS1995 = ToyStory1995.groupby('Rating')['UserID'].count()\n",
        "TS1995"
      ],
      "id": "8bc893a9",
      "execution_count": 22,
      "outputs": [
        {
          "output_type": "execute_result",
          "data": {
            "text/plain": [
              "Rating\n",
              "1     16\n",
              "2     61\n",
              "3    345\n",
              "4    835\n",
              "5    820\n",
              "Name: UserID, dtype: int64"
            ]
          },
          "metadata": {
            "tags": []
          },
          "execution_count": 22
        }
      ]
    },
    {
      "cell_type": "code",
      "metadata": {
        "colab": {
          "base_uri": "https://localhost:8080/",
          "height": 618
        },
        "id": "316dfc48",
        "scrolled": false,
        "outputId": "b2622350-562c-49e1-ba7b-cd77a32be169"
      },
      "source": [
        "# Lets create a Bar Graph of Toy Story (1995) Rating\n",
        "plt.figure(figsize=(10,10))\n",
        "TS1995.plot(kind='bar',color=['blue','red','green','orange','grey'])\n",
        "plt.xlabel('Ratings')\n",
        "plt.ylabel('Frequency')\n",
        "plt.title('Toy Story (1995) Rating Bar Graph')\n",
        "plt.show()"
      ],
      "id": "316dfc48",
      "execution_count": 23,
      "outputs": [
        {
          "output_type": "display_data",
          "data": {
            "image/png": "[encoded data removed]",
            "text/plain": [
              "<Figure size 720x720 with 1 Axes>"
            ]
          },
          "metadata": {
            "tags": [],
            "needs_background": "light"
          }
        }
      ]
    },
    {
      "cell_type": "markdown",
      "metadata": {
        "id": "Ypu_zmSahjO8"
      },
      "source": [
        "# From above analysis we can see that for Toy Story 1995 maximum users gave rating 5 and minimum as rating 1"
      ],
      "id": "Ypu_zmSahjO8"
    },
    {
      "cell_type": "code",
      "metadata": {
        "colab": {
          "base_uri": "https://localhost:8080/",
          "height": 0
        },
        "id": "a4621b57",
        "outputId": "f1e3a3b9-6577-4479-97ce-219a9d4356e9"
      },
      "source": [
        "# Now we will group Toy Story 1999 by ratings count the how many users provided the ratings\n",
        "TS1999 = ToyStory1999.groupby('Rating')['UserID'].count()\n",
        "TS1999"
      ],
      "id": "a4621b57",
      "execution_count": 24,
      "outputs": [
        {
          "output_type": "execute_result",
          "data": {
            "text/plain": [
              "Rating\n",
              "1     25\n",
              "2     44\n",
              "3    214\n",
              "4    578\n",
              "5    724\n",
              "Name: UserID, dtype: int64"
            ]
          },
          "metadata": {
            "tags": []
          },
          "execution_count": 24
        }
      ]
    },
    {
      "cell_type": "code",
      "metadata": {
        "colab": {
          "base_uri": "https://localhost:8080/",
          "height": 618
        },
        "id": "d4307a61",
        "outputId": "6b865b3f-ab98-4754-f644-5a145f641e7c"
      },
      "source": [
        "# Lets create a Bar Graph of Toy Story (1995) Rating\n",
        "plt.figure(figsize=(10,10))\n",
        "TS1999.plot(kind='bar',color=['blue','red','green','orange','grey'])\n",
        "plt.xlabel('Ratings')\n",
        "plt.ylabel('Frequency')\n",
        "plt.title('Toy Story 2 (1999) Rating Bar Graph')\n",
        "plt.show()"
      ],
      "id": "d4307a61",
      "execution_count": 25,
      "outputs": [
        {
          "output_type": "display_data",
          "data": {
            "image/png": "[encoded data removed]",
            "text/plain": [
              "<Figure size 720x720 with 1 Axes>"
            ]
          },
          "metadata": {
            "tags": [],
            "needs_background": "light"
          }
        }
      ]
    },
    {
      "cell_type": "markdown",
      "metadata": {
        "id": "V83rpOa3i5F4"
      },
      "source": [
        "# From above analysis we can see that for Toy Story 1999 maximum users gave rating 5 and minimum as rating 1"
      ],
      "id": "V83rpOa3i5F4"
    },
    {
      "cell_type": "markdown",
      "metadata": {
        "id": "71405a66"
      },
      "source": [
        "# 3. Top 25 movies by viewership rating"
      ],
      "id": "71405a66"
    },
    {
      "cell_type": "code",
      "metadata": {
        "colab": {
          "base_uri": "https://localhost:8080/",
          "height": 0
        },
        "id": "ed5e5f19",
        "scrolled": false,
        "outputId": "fd734a99-3392-4bd8-ea4c-198f0ee7c138"
      },
      "source": [
        "# Creating data for top 25 movies with higest number of ratings count\n",
        "Top25 = Master_Data.groupby('Title')['Rating'].count().nlargest(25)\n",
        "Top25"
      ],
      "id": "ed5e5f19",
      "execution_count": 26,
      "outputs": [
        {
          "output_type": "execute_result",
          "data": {
            "text/plain": [
              "Title\n",
              "American Beauty (1999)                                   3428\n",
              "Star Wars: Episode IV - A New Hope (1977)                2991\n",
              "Star Wars: Episode V - The Empire Strikes Back (1980)    2990\n",
              "Star Wars: Episode VI - Return of the Jedi (1983)        2883\n",
              "Jurassic Park (1993)                                     2672\n",
              "Saving Private Ryan (1998)                               2653\n",
              "Terminator 2: Judgment Day (1991)                        2649\n",
              "Matrix, The (1999)                                       2590\n",
              "Back to the Future (1985)                                2583\n",
              "Silence of the Lambs, The (1991)                         2578\n",
              "Men in Black (1997)                                      2538\n",
              "Raiders of the Lost Ark (1981)                           2514\n",
              "Fargo (1996)                                             2513\n",
              "Sixth Sense, The (1999)                                  2459\n",
              "Braveheart (1995)                                        2443\n",
              "Shakespeare in Love (1998)                               2369\n",
              "Princess Bride, The (1987)                               2318\n",
              "Schindler's List (1993)                                  2304\n",
              "L.A. Confidential (1997)                                 2288\n",
              "Groundhog Day (1993)                                     2278\n",
              "E.T. the Extra-Terrestrial (1982)                        2269\n",
              "Star Wars: Episode I - The Phantom Menace (1999)         2250\n",
              "Being John Malkovich (1999)                              2241\n",
              "Shawshank Redemption, The (1994)                         2227\n",
              "Godfather, The (1972)                                    2223\n",
              "Name: Rating, dtype: int64"
            ]
          },
          "metadata": {
            "tags": []
          },
          "execution_count": 26
        }
      ]
    },
    {
      "cell_type": "code",
      "metadata": {
        "colab": {
          "base_uri": "https://localhost:8080/",
          "height": 882
        },
        "id": "a63b294d",
        "outputId": "292c0f1c-bc9c-43d5-943c-c1397163f3cf"
      },
      "source": [
        "# Creating a Bar Graph of Top 25 Movies\n",
        "plt.figure(figsize=(10,10))\n",
        "Top25.plot(kind='bar',color = ['blue','red','green','orange','grey'])\n",
        "plt.xlabel('Movie Title')\n",
        "plt.ylabel('Frequency')\n",
        "plt.title('Top 25 Movies Bar Graph')\n",
        "plt.show()"
      ],
      "id": "a63b294d",
      "execution_count": 27,
      "outputs": [
        {
          "output_type": "display_data",
          "data": {
            "image/png": "[encoded data removed]",
            "text/plain": [
              "<Figure size 720x720 with 1 Axes>"
            ]
          },
          "metadata": {
            "tags": [],
            "needs_background": "light"
          }
        }
      ]
    },
    {
      "cell_type": "markdown",
      "metadata": {
        "id": "B_-9t7AFjcZ-"
      },
      "source": [
        "# From above analysis American Beauty (1999) has highest number of ratings and Godfather, The (1972) has lowest number of ratings"
      ],
      "id": "B_-9t7AFjcZ-"
    },
    {
      "cell_type": "markdown",
      "metadata": {
        "id": "03901b3f"
      },
      "source": [
        "# 4. Find the ratings for all the movies reviewed by for a particular user of user id = 2696"
      ],
      "id": "03901b3f"
    },
    {
      "cell_type": "code",
      "metadata": {
        "colab": {
          "base_uri": "https://localhost:8080/",
          "height": 669
        },
        "id": "1f859d39",
        "scrolled": false,
        "outputId": "58cdc663-2a8b-4bdc-9d66-2e7c9a5228a4"
      },
      "source": [
        "# Creating a data for user 2696\n",
        "user_2696 = Master_Data[Master_Data.UserID==2696]\n",
        "user_2696"
      ],
      "id": "1f859d39",
      "execution_count": 28,
      "outputs": [
        {
          "output_type": "execute_result",
          "data": {
            "text/html": [
              "<div>\n",
              "<style scoped>\n",
              "    .dataframe tbody tr th:only-of-type {\n",
              "        vertical-align: middle;\n",
              "    }\n",
              "\n",
              "    .dataframe tbody tr th {\n",
              "        vertical-align: top;\n",
              "    }\n",
              "\n",
              "    .dataframe thead th {\n",
              "        text-align: right;\n",
              "    }\n",
              "</style>\n",
              "<table border=\"1\" class=\"dataframe\">\n",
              "  <thead>\n",
              "    <tr style=\"text-align: right;\">\n",
              "      <th></th>\n",
              "      <th>MovieID</th>\n",
              "      <th>Title</th>\n",
              "      <th>Genres</th>\n",
              "      <th>UserID</th>\n",
              "      <th>Rating</th>\n",
              "      <th>Timestamp</th>\n",
              "      <th>Gender</th>\n",
              "      <th>Age</th>\n",
              "      <th>Occupation</th>\n",
              "      <th>Zip-code</th>\n",
              "    </tr>\n",
              "  </thead>\n",
              "  <tbody>\n",
              "    <tr>\n",
              "      <th>991035</th>\n",
              "      <td>350</td>\n",
              "      <td>Client, The (1994)</td>\n",
              "      <td>Drama|Mystery|Thriller</td>\n",
              "      <td>2696</td>\n",
              "      <td>3</td>\n",
              "      <td>973308886</td>\n",
              "      <td>M</td>\n",
              "      <td>25</td>\n",
              "      <td>7</td>\n",
              "      <td>24210</td>\n",
              "    </tr>\n",
              "    <tr>\n",
              "      <th>991036</th>\n",
              "      <td>800</td>\n",
              "      <td>Lone Star (1996)</td>\n",
              "      <td>Drama|Mystery</td>\n",
              "      <td>2696</td>\n",
              "      <td>5</td>\n",
              "      <td>973308842</td>\n",
              "      <td>M</td>\n",
              "      <td>25</td>\n",
              "      <td>7</td>\n",
              "      <td>24210</td>\n",
              "    </tr>\n",
              "    <tr>\n",
              "      <th>991037</th>\n",
              "      <td>1092</td>\n",
              "      <td>Basic Instinct (1992)</td>\n",
              "      <td>Mystery|Thriller</td>\n",
              "      <td>2696</td>\n",
              "      <td>4</td>\n",
              "      <td>973308886</td>\n",
              "      <td>M</td>\n",
              "      <td>25</td>\n",
              "      <td>7</td>\n",
              "      <td>24210</td>\n",
              "    </tr>\n",
              "    <tr>\n",
              "      <th>991038</th>\n",
              "      <td>1097</td>\n",
              "      <td>E.T. the Extra-Terrestrial (1982)</td>\n",
              "      <td>Children's|Drama|Fantasy|Sci-Fi</td>\n",
              "      <td>2696</td>\n",
              "      <td>3</td>\n",
              "      <td>973308690</td>\n",
              "      <td>M</td>\n",
              "      <td>25</td>\n",
              "      <td>7</td>\n",
              "      <td>24210</td>\n",
              "    </tr>\n",
              "    <tr>\n",
              "      <th>991039</th>\n",
              "      <td>1258</td>\n",
              "      <td>Shining, The (1980)</td>\n",
              "      <td>Horror</td>\n",
              "      <td>2696</td>\n",
              "      <td>4</td>\n",
              "      <td>973308710</td>\n",
              "      <td>M</td>\n",
              "      <td>25</td>\n",
              "      <td>7</td>\n",
              "      <td>24210</td>\n",
              "    </tr>\n",
              "    <tr>\n",
              "      <th>991040</th>\n",
              "      <td>1270</td>\n",
              "      <td>Back to the Future (1985)</td>\n",
              "      <td>Comedy|Sci-Fi</td>\n",
              "      <td>2696</td>\n",
              "      <td>2</td>\n",
              "      <td>973308676</td>\n",
              "      <td>M</td>\n",
              "      <td>25</td>\n",
              "      <td>7</td>\n",
              "      <td>24210</td>\n",
              "    </tr>\n",
              "    <tr>\n",
              "      <th>991041</th>\n",
              "      <td>1589</td>\n",
              "      <td>Cop Land (1997)</td>\n",
              "      <td>Crime|Drama|Mystery</td>\n",
              "      <td>2696</td>\n",
              "      <td>3</td>\n",
              "      <td>973308865</td>\n",
              "      <td>M</td>\n",
              "      <td>25</td>\n",
              "      <td>7</td>\n",
              "      <td>24210</td>\n",
              "    </tr>\n",
              "    <tr>\n",
              "      <th>991042</th>\n",
              "      <td>1617</td>\n",
              "      <td>L.A. Confidential (1997)</td>\n",
              "      <td>Crime|Film-Noir|Mystery|Thriller</td>\n",
              "      <td>2696</td>\n",
              "      <td>4</td>\n",
              "      <td>973308842</td>\n",
              "      <td>M</td>\n",
              "      <td>25</td>\n",
              "      <td>7</td>\n",
              "      <td>24210</td>\n",
              "    </tr>\n",
              "    <tr>\n",
              "      <th>991043</th>\n",
              "      <td>1625</td>\n",
              "      <td>Game, The (1997)</td>\n",
              "      <td>Mystery|Thriller</td>\n",
              "      <td>2696</td>\n",
              "      <td>4</td>\n",
              "      <td>973308842</td>\n",
              "      <td>M</td>\n",
              "      <td>25</td>\n",
              "      <td>7</td>\n",
              "      <td>24210</td>\n",
              "    </tr>\n",
              "    <tr>\n",
              "      <th>991044</th>\n",
              "      <td>1644</td>\n",
              "      <td>I Know What You Did Last Summer (1997)</td>\n",
              "      <td>Horror|Mystery|Thriller</td>\n",
              "      <td>2696</td>\n",
              "      <td>2</td>\n",
              "      <td>973308920</td>\n",
              "      <td>M</td>\n",
              "      <td>25</td>\n",
              "      <td>7</td>\n",
              "      <td>24210</td>\n",
              "    </tr>\n",
              "    <tr>\n",
              "      <th>991045</th>\n",
              "      <td>1645</td>\n",
              "      <td>Devil's Advocate, The (1997)</td>\n",
              "      <td>Crime|Horror|Mystery|Thriller</td>\n",
              "      <td>2696</td>\n",
              "      <td>4</td>\n",
              "      <td>973308904</td>\n",
              "      <td>M</td>\n",
              "      <td>25</td>\n",
              "      <td>7</td>\n",
              "      <td>24210</td>\n",
              "    </tr>\n",
              "    <tr>\n",
              "      <th>991046</th>\n",
              "      <td>1711</td>\n",
              "      <td>Midnight in the Garden of Good and Evil (1997)</td>\n",
              "      <td>Comedy|Crime|Drama|Mystery</td>\n",
              "      <td>2696</td>\n",
              "      <td>4</td>\n",
              "      <td>973308904</td>\n",
              "      <td>M</td>\n",
              "      <td>25</td>\n",
              "      <td>7</td>\n",
              "      <td>24210</td>\n",
              "    </tr>\n",
              "    <tr>\n",
              "      <th>991047</th>\n",
              "      <td>1783</td>\n",
              "      <td>Palmetto (1998)</td>\n",
              "      <td>Film-Noir|Mystery|Thriller</td>\n",
              "      <td>2696</td>\n",
              "      <td>4</td>\n",
              "      <td>973308865</td>\n",
              "      <td>M</td>\n",
              "      <td>25</td>\n",
              "      <td>7</td>\n",
              "      <td>24210</td>\n",
              "    </tr>\n",
              "    <tr>\n",
              "      <th>991048</th>\n",
              "      <td>1805</td>\n",
              "      <td>Wild Things (1998)</td>\n",
              "      <td>Crime|Drama|Mystery|Thriller</td>\n",
              "      <td>2696</td>\n",
              "      <td>4</td>\n",
              "      <td>973308886</td>\n",
              "      <td>M</td>\n",
              "      <td>25</td>\n",
              "      <td>7</td>\n",
              "      <td>24210</td>\n",
              "    </tr>\n",
              "    <tr>\n",
              "      <th>991049</th>\n",
              "      <td>1892</td>\n",
              "      <td>Perfect Murder, A (1998)</td>\n",
              "      <td>Mystery|Thriller</td>\n",
              "      <td>2696</td>\n",
              "      <td>4</td>\n",
              "      <td>973308904</td>\n",
              "      <td>M</td>\n",
              "      <td>25</td>\n",
              "      <td>7</td>\n",
              "      <td>24210</td>\n",
              "    </tr>\n",
              "    <tr>\n",
              "      <th>991050</th>\n",
              "      <td>2338</td>\n",
              "      <td>I Still Know What You Did Last Summer (1998)</td>\n",
              "      <td>Horror|Mystery|Thriller</td>\n",
              "      <td>2696</td>\n",
              "      <td>2</td>\n",
              "      <td>973308920</td>\n",
              "      <td>M</td>\n",
              "      <td>25</td>\n",
              "      <td>7</td>\n",
              "      <td>24210</td>\n",
              "    </tr>\n",
              "    <tr>\n",
              "      <th>991051</th>\n",
              "      <td>2389</td>\n",
              "      <td>Psycho (1998)</td>\n",
              "      <td>Crime|Horror|Thriller</td>\n",
              "      <td>2696</td>\n",
              "      <td>4</td>\n",
              "      <td>973308710</td>\n",
              "      <td>M</td>\n",
              "      <td>25</td>\n",
              "      <td>7</td>\n",
              "      <td>24210</td>\n",
              "    </tr>\n",
              "    <tr>\n",
              "      <th>991052</th>\n",
              "      <td>2713</td>\n",
              "      <td>Lake Placid (1999)</td>\n",
              "      <td>Horror|Thriller</td>\n",
              "      <td>2696</td>\n",
              "      <td>1</td>\n",
              "      <td>973308710</td>\n",
              "      <td>M</td>\n",
              "      <td>25</td>\n",
              "      <td>7</td>\n",
              "      <td>24210</td>\n",
              "    </tr>\n",
              "    <tr>\n",
              "      <th>991053</th>\n",
              "      <td>3176</td>\n",
              "      <td>Talented Mr. Ripley, The (1999)</td>\n",
              "      <td>Drama|Mystery|Thriller</td>\n",
              "      <td>2696</td>\n",
              "      <td>4</td>\n",
              "      <td>973308865</td>\n",
              "      <td>M</td>\n",
              "      <td>25</td>\n",
              "      <td>7</td>\n",
              "      <td>24210</td>\n",
              "    </tr>\n",
              "    <tr>\n",
              "      <th>991054</th>\n",
              "      <td>3386</td>\n",
              "      <td>JFK (1991)</td>\n",
              "      <td>Drama|Mystery</td>\n",
              "      <td>2696</td>\n",
              "      <td>1</td>\n",
              "      <td>973308842</td>\n",
              "      <td>M</td>\n",
              "      <td>25</td>\n",
              "      <td>7</td>\n",
              "      <td>24210</td>\n",
              "    </tr>\n",
              "  </tbody>\n",
              "</table>\n",
              "</div>"
            ],
            "text/plain": [
              "        MovieID  ... Zip-code\n",
              "991035      350  ...    24210\n",
              "991036      800  ...    24210\n",
              "991037     1092  ...    24210\n",
              "991038     1097  ...    24210\n",
              "991039     1258  ...    24210\n",
              "991040     1270  ...    24210\n",
              "991041     1589  ...    24210\n",
              "991042     1617  ...    24210\n",
              "991043     1625  ...    24210\n",
              "991044     1644  ...    24210\n",
              "991045     1645  ...    24210\n",
              "991046     1711  ...    24210\n",
              "991047     1783  ...    24210\n",
              "991048     1805  ...    24210\n",
              "991049     1892  ...    24210\n",
              "991050     2338  ...    24210\n",
              "991051     2389  ...    24210\n",
              "991052     2713  ...    24210\n",
              "991053     3176  ...    24210\n",
              "991054     3386  ...    24210\n",
              "\n",
              "[20 rows x 10 columns]"
            ]
          },
          "metadata": {
            "tags": []
          },
          "execution_count": 28
        }
      ]
    },
    {
      "cell_type": "code",
      "metadata": {
        "colab": {
          "base_uri": "https://localhost:8080/",
          "height": 0
        },
        "id": "2955d66f",
        "outputId": "eb54e63c-26fb-4152-84f7-5f56b93c68ef"
      },
      "source": [
        "# Now we will group data by rating and its counts\n",
        "user2696 = user_2696.groupby('Rating')['UserID'].count()\n",
        "user2696"
      ],
      "id": "2955d66f",
      "execution_count": 29,
      "outputs": [
        {
          "output_type": "execute_result",
          "data": {
            "text/plain": [
              "Rating\n",
              "1     2\n",
              "2     3\n",
              "3     3\n",
              "4    11\n",
              "5     1\n",
              "Name: UserID, dtype: int64"
            ]
          },
          "metadata": {
            "tags": []
          },
          "execution_count": 29
        }
      ]
    },
    {
      "cell_type": "code",
      "metadata": {
        "colab": {
          "base_uri": "https://localhost:8080/",
          "height": 618
        },
        "id": "c64f0202",
        "outputId": "8d248f3c-6fe3-4bf1-fe39-9debe90d035d"
      },
      "source": [
        "# Creating a Bar Graph of User 2696 movie ratings\n",
        "plt.figure(figsize=(10,10))\n",
        "user2696.plot(kind='bar',color = ['blue','red','green','orange','grey'])\n",
        "plt.xlabel('Ratings')\n",
        "plt.ylabel('Frequency')\n",
        "plt.title('User 2696 movie ratings')\n",
        "plt.show()"
      ],
      "id": "c64f0202",
      "execution_count": 30,
      "outputs": [
        {
          "output_type": "display_data",
          "data": {
            "image/png": "[encoded data removed]",
            "text/plain": [
              "<Figure size 720x720 with 1 Axes>"
            ]
          },
          "metadata": {
            "tags": [],
            "needs_background": "light"
          }
        }
      ]
    },
    {
      "cell_type": "markdown",
      "metadata": {
        "id": "aNmSgJMJkiWy"
      },
      "source": [
        "# From above analysis we can see that user 2696 gave maximum number of rating 4 and minimum number of rating 5 to the movies he watched"
      ],
      "id": "aNmSgJMJkiWy"
    },
    {
      "cell_type": "markdown",
      "metadata": {
        "id": "bf689efc"
      },
      "source": [
        "# Feature Engineering"
      ],
      "id": "bf689efc"
    },
    {
      "cell_type": "markdown",
      "metadata": {
        "id": "b0821925"
      },
      "source": [
        "# 1. Find out all the unique genres"
      ],
      "id": "b0821925"
    },
    {
      "cell_type": "code",
      "metadata": {
        "colab": {
          "base_uri": "https://localhost:8080/",
          "height": 0
        },
        "id": "442a0a7c",
        "outputId": "86f64582-528b-47df-e857-da5ed1d0582a"
      },
      "source": [
        "# checking of counts of each genre\n",
        "Master_Data.Genres.value_counts()"
      ],
      "id": "442a0a7c",
      "execution_count": 31,
      "outputs": [
        {
          "output_type": "execute_result",
          "data": {
            "text/plain": [
              "Comedy                       116883\n",
              "Drama                        111423\n",
              "Comedy|Romance                42712\n",
              "Comedy|Drama                  42245\n",
              "Drama|Romance                 29170\n",
              "                              ...  \n",
              "Drama|Romance|Western            29\n",
              "Children's|Fantasy               27\n",
              "Comedy|Film-Noir|Thriller         5\n",
              "Film-Noir|Horror                  2\n",
              "Fantasy                           1\n",
              "Name: Genres, Length: 301, dtype: int64"
            ]
          },
          "metadata": {
            "tags": []
          },
          "execution_count": 31
        }
      ]
    },
    {
      "cell_type": "code",
      "metadata": {
        "colab": {
          "base_uri": "https://localhost:8080/",
          "height": 0
        },
        "id": "3a2be9a5",
        "scrolled": false,
        "outputId": "4acb07d7-4beb-4a39-88d5-e01e6f6bf414"
      },
      "source": [
        "Master_Data.Genres.unique() # get unique names of genres"
      ],
      "id": "3a2be9a5",
      "execution_count": 32,
      "outputs": [
        {
          "output_type": "execute_result",
          "data": {
            "text/plain": [
              "array([\"Animation|Children's|Comedy\",\n",
              "       \"Animation|Children's|Musical|Romance\", 'Drama',\n",
              "       'Action|Adventure|Fantasy|Sci-Fi', 'Drama|War', \"Children's|Drama\",\n",
              "       \"Animation|Children's|Comedy|Musical\",\n",
              "       \"Animation|Children's|Musical\", 'Crime|Drama|Thriller',\n",
              "       'Animation', 'Animation|Comedy|Thriller', 'Musical|Romance',\n",
              "       \"Adventure|Children's|Drama|Musical\", 'Musical',\n",
              "       \"Children's|Comedy|Musical\", \"Children's|Drama|Fantasy|Sci-Fi\",\n",
              "       'Action|Adventure|Comedy|Romance', 'Comedy|Sci-Fi',\n",
              "       'Action|Adventure|Drama',\n",
              "       \"Adventure|Animation|Children's|Comedy|Musical\", 'Drama|Romance',\n",
              "       \"Animation|Children's\", 'Action|Drama|War', 'Comedy', 'Romance',\n",
              "       'Action|Crime|Romance', 'Thriller', 'Comedy|Fantasy',\n",
              "       'Comedy|Drama', \"Children's|Comedy|Drama\", 'Drama|Musical',\n",
              "       'Drama|Romance|War|Western', 'Crime|Drama',\n",
              "       'Action|Comedy|Western', 'Action|Romance|Thriller', 'Western',\n",
              "       \"Children's|Comedy\", 'Adventure|Drama|Western', 'Comedy|Romance',\n",
              "       'Comedy|Drama|Romance', 'Drama|Romance|War',\n",
              "       \"Children's|Comedy|Western\",\n",
              "       \"Adventure|Animation|Children's|Musical\", 'Action|Romance',\n",
              "       'Action|Adventure|Romance|Sci-Fi|War', 'Comedy|Musical|Romance',\n",
              "       'Drama|Romance|Thriller', \"Adventure|Children's|Comedy\",\n",
              "       'Action|Adventure|Romance', \"Children's|Fantasy|Musical\",\n",
              "       \"Animation|Children's|Comedy|Musical|Romance\",\n",
              "       'Comedy|Fantasy|Romance', 'Action|Drama', 'Comedy|Musical',\n",
              "       'Action', 'Adventure|Drama|Romance|Sci-Fi', 'Action|Crime',\n",
              "       'Drama|Thriller', 'Drama|Sci-Fi', 'Action|Crime|Drama',\n",
              "       'Drama|Thriller|War', 'Drama|Horror', 'Action|Thriller',\n",
              "       'Action|Adventure|Thriller', 'Action|Adventure|Sci-Fi',\n",
              "       'Action|Sci-Fi|Thriller', 'Animation|Sci-Fi',\n",
              "       'Adventure|Animation|Sci-Fi|Thriller', 'Action|Drama|Romance',\n",
              "       'Action|Drama|Thriller|War', 'Action|Adventure|Comedy|Sci-Fi',\n",
              "       'Crime|Drama|Mystery', 'Drama|Sci-Fi|Thriller',\n",
              "       'Comedy|Crime|Drama|Mystery', 'Action|Comedy|Drama',\n",
              "       'Action|Crime|Thriller', \"Adventure|Children's|Drama\",\n",
              "       'Drama|Mystery', 'Action|Comedy|Sci-Fi|Thriller',\n",
              "       'Action|Adventure|Sci-Fi|Thriller',\n",
              "       'Action|Drama|Romance|Thriller', 'Crime|Thriller', 'Documentary',\n",
              "       'Comedy|Crime|Fantasy', 'Animation|Comedy', 'Comedy|Crime',\n",
              "       'Crime|Film-Noir|Mystery|Thriller', 'Sci-Fi|Thriller',\n",
              "       'Action|Sci-Fi', 'Horror|Sci-Fi|Thriller',\n",
              "       \"Adventure|Children's|Fantasy\", 'Action|Adventure|Comedy|Crime',\n",
              "       'Action|Adventure', 'Action|Drama|Thriller',\n",
              "       \"Children's|Comedy|Fantasy\", 'Comedy|Romance|War',\n",
              "       'Film-Noir|Sci-Fi', 'Comedy|Romance|Thriller',\n",
              "       'Action|Adventure|Crime|Drama', 'Action|Adventure|Mystery',\n",
              "       'Action|Adventure|Fantasy', 'Sci-Fi|War', 'Action|Sci-Fi|War',\n",
              "       'Mystery|Thriller', 'Film-Noir|Mystery',\n",
              "       'Drama|Mystery|Sci-Fi|Thriller', 'Action|Adventure|Romance|War',\n",
              "       \"Adventure|Children's\", \"Adventure|Children's|Fantasy|Sci-Fi\",\n",
              "       \"Adventure|Children's|Musical\",\n",
              "       \"Adventure|Children's|Comedy|Fantasy\",\n",
              "       'Action|Adventure|Drama|Sci-Fi|War', 'Action|Sci-Fi|Thriller|War',\n",
              "       'Action|Western', 'Adventure|War', 'Action|Horror|Sci-Fi|Thriller',\n",
              "       'Action|Adventure|Comedy|Horror|Sci-Fi', 'Action|Comedy|Musical',\n",
              "       'Film-Noir|Mystery|Thriller', 'Adventure', 'Comedy|War',\n",
              "       'Adventure|Comedy|Drama', 'Comedy|Mystery|Thriller',\n",
              "       'Comedy|Horror', 'Horror|Romance', 'Horror', 'Action|Horror',\n",
              "       'Action|Romance|War', \"Children's|Fantasy\",\n",
              "       \"Children's|Drama|Fantasy\", 'Action|Adventure|Sci-Fi|War',\n",
              "       'Action|Horror|Sci-Fi', 'Action|Comedy|Crime|Drama', 'War',\n",
              "       'Comedy|Sci-Fi|Western', 'Fantasy|Sci-Fi',\n",
              "       \"Action|Adventure|Children's|Comedy\",\n",
              "       \"Adventure|Children's|Drama|Romance\",\n",
              "       \"Adventure|Children's|Sci-Fi\", \"Children's\",\n",
              "       \"Adventure|Children's|Comedy|Fantasy|Sci-Fi\",\n",
              "       \"Animation|Children's|Fantasy|Musical\", \"Children's|Sci-Fi\",\n",
              "       'Adventure|Comedy', 'Adventure|Musical',\n",
              "       \"Animation|Children's|Drama|Fantasy\", \"Children's|Fantasy|Sci-Fi\",\n",
              "       'Drama|Fantasy', 'Action|Adventure|Horror|Thriller',\n",
              "       'Comedy|Horror|Musical|Sci-Fi', 'Comedy|Horror|Musical',\n",
              "       'Action|Horror|Thriller', 'Action|Drama|Fantasy|Romance',\n",
              "       'Adventure|Fantasy|Sci-Fi', 'Comedy|Drama|War',\n",
              "       'Comedy|Drama|Western', 'Adventure|Comedy|Sci-Fi',\n",
              "       \"Action|Children's|Fantasy\", 'Adventure|Fantasy', 'Comedy|Western',\n",
              "       'Crime|Drama|Sci-Fi', 'Adventure|Sci-Fi', 'Adventure|Drama',\n",
              "       'Action|Adventure|Drama|Romance', 'Action|Comedy|Musical|Sci-Fi',\n",
              "       'Action|Adventure|Crime', 'Action|Comedy|War', 'Action|Comedy',\n",
              "       'Comedy|Crime|Horror', \"Action|Adventure|Children's|Sci-Fi\",\n",
              "       'Action|Adventure|Comedy', 'Action|Adventure|Romance|Thriller',\n",
              "       'Film-Noir|Thriller', 'Action|Comedy|Sci-Fi|War',\n",
              "       'Comedy|Crime|Mystery|Thriller', \"Action|Children's\",\n",
              "       'Crime|Drama|Mystery|Thriller', 'Action|Drama|Sci-Fi|Thriller',\n",
              "       \"Children's|Musical\", \"Adventure|Animation|Children's|Sci-Fi\",\n",
              "       'Adventure|Fantasy|Romance', 'Action|Adventure|Horror',\n",
              "       'Action|Comedy|Fantasy', 'Animation|Musical', 'Action|War',\n",
              "       'Comedy|Crime|Thriller', 'Action|Sci-Fi|Western',\n",
              "       'Adventure|Animation|Film-Noir', 'Adventure|Romance|Sci-Fi',\n",
              "       'Adventure|Drama|Thriller', 'Adventure|Western',\n",
              "       'Action|Crime|Sci-Fi', 'Sci-Fi', 'Horror|Thriller',\n",
              "       'Action|Adventure|Comedy|Horror', 'Horror|Sci-Fi',\n",
              "       'Action|Mystery|Romance|Thriller', 'Horror|Mystery|Thriller',\n",
              "       'Crime|Horror|Mystery|Thriller', 'Mystery|Sci-Fi|Thriller',\n",
              "       'Comedy|Documentary', 'Action|Sci-Fi|Thriller|Western',\n",
              "       'Drama|Mystery|Thriller', 'Action|Romance|Sci-Fi',\n",
              "       'Action|Adventure|Animation', 'Adventure|Animation|Sci-Fi',\n",
              "       'Action|Comedy|Crime|Horror|Thriller',\n",
              "       'Crime|Drama|Romance|Thriller',\n",
              "       'Action|Adventure|Animation|Horror|Sci-Fi',\n",
              "       'Comedy|Fantasy|Romance|Sci-Fi', 'Comedy|Mystery|Romance|Thriller',\n",
              "       'Crime|Drama|Film-Noir', 'Crime|Film-Noir|Thriller', 'Crime',\n",
              "       'Film-Noir|Sci-Fi|Thriller', 'Comedy|Thriller',\n",
              "       'Action|Crime|Drama|Thriller', 'Mystery|Sci-Fi',\n",
              "       'Action|Adventure|Sci-Fi|Thriller|War', 'Crime|Film-Noir',\n",
              "       'Adventure|Thriller', 'Mystery|Romance|Thriller',\n",
              "       'Comedy|Crime|Drama', 'Adventure|Crime|Sci-Fi|Thriller',\n",
              "       'Action|Adventure|Mystery|Sci-Fi', 'Action|Adventure|Western',\n",
              "       'Action|Drama|Mystery',\n",
              "       \"Adventure|Animation|Children's|Comedy|Fantasy\",\n",
              "       'Drama|Musical|War', 'Comedy|Mystery', 'Adventure|Sci-Fi|Thriller',\n",
              "       \"Children's|Comedy|Sci-Fi\", 'Adventure|Romance',\n",
              "       'Drama|Mystery|Romance', 'Adventure|Drama|Romance',\n",
              "       'Comedy|Drama|Sci-Fi', 'Romance|Thriller',\n",
              "       'Film-Noir|Romance|Thriller', 'Crime|Drama|Film-Noir|Thriller',\n",
              "       'Drama|Fantasy|Romance|Thriller',\n",
              "       'Action|Drama|Mystery|Romance|Thriller', 'Action|Thriller|War',\n",
              "       \"Animation|Children's|Fantasy|War\", 'Documentary|Musical',\n",
              "       'Adventure|Comedy|Romance', \"Adventure|Children's|Comedy|Musical\",\n",
              "       'Action|Mystery|Thriller', \"Children's|Horror\",\n",
              "       'Adventure|Musical|Romance', \"Children's|Comedy|Mystery\",\n",
              "       'Romance|War', 'Action|Comedy|Romance|Thriller',\n",
              "       'Musical|Romance|War', \"Animation|Children's|Comedy|Romance\",\n",
              "       'Comedy|Mystery|Romance', 'Action|Drama|Western',\n",
              "       \"Action|Animation|Children's|Sci-Fi|Thriller|War\",\n",
              "       'Comedy|Drama|Musical', 'Adventure|Comedy|Musical',\n",
              "       'Action|Crime|Mystery|Thriller', 'Action|Adventure|Drama|Thriller',\n",
              "       'Action|Adventure|Comedy|War', 'Mystery', 'Drama|Western',\n",
              "       'Action|Adventure|Crime|Thriller',\n",
              "       'Action|Mystery|Sci-Fi|Thriller',\n",
              "       \"Adventure|Children's|Comedy|Fantasy|Romance\",\n",
              "       \"Adventure|Children's|Romance\",\n",
              "       \"Action|Adventure|Animation|Children's|Fantasy\",\n",
              "       \"Action|Adventure|Children's\", \"Adventure|Animation|Children's\",\n",
              "       'Musical|War', 'Action|Crime|Mystery',\n",
              "       \"Adventure|Animation|Children's|Fantasy\", 'Comedy|Horror|Thriller',\n",
              "       'Film-Noir', 'Crime|Film-Noir|Mystery', 'Drama|Film-Noir|Thriller',\n",
              "       'Drama|Film-Noir', 'Action|Adventure|War', 'Crime|Drama|Romance',\n",
              "       'Documentary|War', 'Sci-Fi|Thriller|War', 'Action|Comedy|Crime',\n",
              "       'Crime|Horror', 'Drama|Romance|Sci-Fi', 'Crime|Mystery',\n",
              "       'Comedy|Drama|Thriller', 'Crime|Horror|Thriller', 'Horror|Mystery',\n",
              "       'Documentary|Drama', 'Drama|Horror|Thriller',\n",
              "       'Comedy|Horror|Sci-Fi', \"Action|Adventure|Children's|Fantasy\",\n",
              "       'Animation|Mystery', 'Comedy|Romance|Sci-Fi', 'Romance|Western',\n",
              "       'Drama|Romance|Western', 'Comedy|Film-Noir|Thriller',\n",
              "       'Film-Noir|Horror', 'Fantasy'], dtype=object)"
            ]
          },
          "metadata": {
            "tags": []
          },
          "execution_count": 32
        }
      ]
    },
    {
      "cell_type": "markdown",
      "metadata": {
        "id": "22c74d4e"
      },
      "source": [
        "# 2. Create a separate column for each genre category with a one-hot encoding ( 1 and 0) whether or not the movie belongs to that genre."
      ],
      "id": "22c74d4e"
    },
    {
      "cell_type": "code",
      "metadata": {
        "colab": {
          "base_uri": "https://localhost:8080/",
          "height": 241
        },
        "id": "d64843de",
        "outputId": "339f59a3-6d19-486d-848e-2cac89bf6981"
      },
      "source": [
        "Genres_data = Master_Data['Genres']\n",
        "Genres_data = Genres_data.str.get_dummies().add_prefix('Genre_')\n",
        "Genres_data.head()"
      ],
      "id": "d64843de",
      "execution_count": 33,
      "outputs": [
        {
          "output_type": "execute_result",
          "data": {
            "text/html": [
              "<div>\n",
              "<style scoped>\n",
              "    .dataframe tbody tr th:only-of-type {\n",
              "        vertical-align: middle;\n",
              "    }\n",
              "\n",
              "    .dataframe tbody tr th {\n",
              "        vertical-align: top;\n",
              "    }\n",
              "\n",
              "    .dataframe thead th {\n",
              "        text-align: right;\n",
              "    }\n",
              "</style>\n",
              "<table border=\"1\" class=\"dataframe\">\n",
              "  <thead>\n",
              "    <tr style=\"text-align: right;\">\n",
              "      <th></th>\n",
              "      <th>Genre_Action</th>\n",
              "      <th>Genre_Adventure</th>\n",
              "      <th>Genre_Animation</th>\n",
              "      <th>Genre_Children's</th>\n",
              "      <th>Genre_Comedy</th>\n",
              "      <th>Genre_Crime</th>\n",
              "      <th>Genre_Documentary</th>\n",
              "      <th>Genre_Drama</th>\n",
              "      <th>Genre_Fantasy</th>\n",
              "      <th>Genre_Film-Noir</th>\n",
              "      <th>Genre_Horror</th>\n",
              "      <th>Genre_Musical</th>\n",
              "      <th>Genre_Mystery</th>\n",
              "      <th>Genre_Romance</th>\n",
              "      <th>Genre_Sci-Fi</th>\n",
              "      <th>Genre_Thriller</th>\n",
              "      <th>Genre_War</th>\n",
              "      <th>Genre_Western</th>\n",
              "    </tr>\n",
              "  </thead>\n",
              "  <tbody>\n",
              "    <tr>\n",
              "      <th>0</th>\n",
              "      <td>0</td>\n",
              "      <td>0</td>\n",
              "      <td>1</td>\n",
              "      <td>1</td>\n",
              "      <td>1</td>\n",
              "      <td>0</td>\n",
              "      <td>0</td>\n",
              "      <td>0</td>\n",
              "      <td>0</td>\n",
              "      <td>0</td>\n",
              "      <td>0</td>\n",
              "      <td>0</td>\n",
              "      <td>0</td>\n",
              "      <td>0</td>\n",
              "      <td>0</td>\n",
              "      <td>0</td>\n",
              "      <td>0</td>\n",
              "      <td>0</td>\n",
              "    </tr>\n",
              "    <tr>\n",
              "      <th>1</th>\n",
              "      <td>0</td>\n",
              "      <td>0</td>\n",
              "      <td>1</td>\n",
              "      <td>1</td>\n",
              "      <td>0</td>\n",
              "      <td>0</td>\n",
              "      <td>0</td>\n",
              "      <td>0</td>\n",
              "      <td>0</td>\n",
              "      <td>0</td>\n",
              "      <td>0</td>\n",
              "      <td>1</td>\n",
              "      <td>0</td>\n",
              "      <td>1</td>\n",
              "      <td>0</td>\n",
              "      <td>0</td>\n",
              "      <td>0</td>\n",
              "      <td>0</td>\n",
              "    </tr>\n",
              "    <tr>\n",
              "      <th>2</th>\n",
              "      <td>0</td>\n",
              "      <td>0</td>\n",
              "      <td>0</td>\n",
              "      <td>0</td>\n",
              "      <td>0</td>\n",
              "      <td>0</td>\n",
              "      <td>0</td>\n",
              "      <td>1</td>\n",
              "      <td>0</td>\n",
              "      <td>0</td>\n",
              "      <td>0</td>\n",
              "      <td>0</td>\n",
              "      <td>0</td>\n",
              "      <td>0</td>\n",
              "      <td>0</td>\n",
              "      <td>0</td>\n",
              "      <td>0</td>\n",
              "      <td>0</td>\n",
              "    </tr>\n",
              "    <tr>\n",
              "      <th>3</th>\n",
              "      <td>1</td>\n",
              "      <td>1</td>\n",
              "      <td>0</td>\n",
              "      <td>0</td>\n",
              "      <td>0</td>\n",
              "      <td>0</td>\n",
              "      <td>0</td>\n",
              "      <td>0</td>\n",
              "      <td>1</td>\n",
              "      <td>0</td>\n",
              "      <td>0</td>\n",
              "      <td>0</td>\n",
              "      <td>0</td>\n",
              "      <td>0</td>\n",
              "      <td>1</td>\n",
              "      <td>0</td>\n",
              "      <td>0</td>\n",
              "      <td>0</td>\n",
              "    </tr>\n",
              "    <tr>\n",
              "      <th>4</th>\n",
              "      <td>0</td>\n",
              "      <td>0</td>\n",
              "      <td>0</td>\n",
              "      <td>0</td>\n",
              "      <td>0</td>\n",
              "      <td>0</td>\n",
              "      <td>0</td>\n",
              "      <td>1</td>\n",
              "      <td>0</td>\n",
              "      <td>0</td>\n",
              "      <td>0</td>\n",
              "      <td>0</td>\n",
              "      <td>0</td>\n",
              "      <td>0</td>\n",
              "      <td>0</td>\n",
              "      <td>0</td>\n",
              "      <td>1</td>\n",
              "      <td>0</td>\n",
              "    </tr>\n",
              "  </tbody>\n",
              "</table>\n",
              "</div>"
            ],
            "text/plain": [
              "   Genre_Action  Genre_Adventure  ...  Genre_War  Genre_Western\n",
              "0             0                0  ...          0              0\n",
              "1             0                0  ...          0              0\n",
              "2             0                0  ...          0              0\n",
              "3             1                1  ...          0              0\n",
              "4             0                0  ...          1              0\n",
              "\n",
              "[5 rows x 18 columns]"
            ]
          },
          "metadata": {
            "tags": []
          },
          "execution_count": 33
        }
      ]
    },
    {
      "cell_type": "markdown",
      "metadata": {
        "id": "zkmDzHpjllj3"
      },
      "source": [
        "# So we have created a separate column for each genre category with a one-hot encoding ( 1 and 0) whether or not the movie belongs to that genre"
      ],
      "id": "zkmDzHpjllj3"
    },
    {
      "cell_type": "code",
      "metadata": {
        "colab": {
          "base_uri": "https://localhost:8080/",
          "height": 0
        },
        "id": "6ae4e449",
        "outputId": "09b2cdf5-9b49-48ff-84c8-986efd6c4e40"
      },
      "source": [
        "Genres_data.shape # to check for rows and columns"
      ],
      "id": "6ae4e449",
      "execution_count": 34,
      "outputs": [
        {
          "output_type": "execute_result",
          "data": {
            "text/plain": [
              "(1000209, 18)"
            ]
          },
          "metadata": {
            "tags": []
          },
          "execution_count": 34
        }
      ]
    },
    {
      "cell_type": "code",
      "metadata": {
        "colab": {
          "base_uri": "https://localhost:8080/",
          "height": 0
        },
        "id": "62637750",
        "outputId": "edd0cf5c-08c0-46f7-cd1d-a16b2bf5dafc"
      },
      "source": [
        "Master_Data.columns"
      ],
      "id": "62637750",
      "execution_count": 35,
      "outputs": [
        {
          "output_type": "execute_result",
          "data": {
            "text/plain": [
              "Index(['MovieID', 'Title', 'Genres', 'UserID', 'Rating', 'Timestamp', 'Gender',\n",
              "       'Age', 'Occupation', 'Zip-code'],\n",
              "      dtype='object')"
            ]
          },
          "metadata": {
            "tags": []
          },
          "execution_count": 35
        }
      ]
    },
    {
      "cell_type": "code",
      "metadata": {
        "id": "7a8ec30c"
      },
      "source": [
        "# Lets create a duplicate of Master_Data with selected columns\n",
        "Movie_data = Master_Data[['MovieID', 'Title', 'UserID', 'Rating', 'Gender','Age', 'Occupation']]"
      ],
      "id": "7a8ec30c",
      "execution_count": 36,
      "outputs": []
    },
    {
      "cell_type": "code",
      "metadata": {
        "colab": {
          "base_uri": "https://localhost:8080/",
          "height": 377
        },
        "id": "d90df094",
        "outputId": "9bea9a67-5ccb-42d2-c8fc-51dcc1a87974"
      },
      "source": [
        "Movie_data_final = pd.concat([Movie_data,Genres_data],axis=1)\n",
        "Movie_data_final.head()"
      ],
      "id": "d90df094",
      "execution_count": 37,
      "outputs": [
        {
          "output_type": "execute_result",
          "data": {
            "text/html": [
              "<div>\n",
              "<style scoped>\n",
              "    .dataframe tbody tr th:only-of-type {\n",
              "        vertical-align: middle;\n",
              "    }\n",
              "\n",
              "    .dataframe tbody tr th {\n",
              "        vertical-align: top;\n",
              "    }\n",
              "\n",
              "    .dataframe thead th {\n",
              "        text-align: right;\n",
              "    }\n",
              "</style>\n",
              "<table border=\"1\" class=\"dataframe\">\n",
              "  <thead>\n",
              "    <tr style=\"text-align: right;\">\n",
              "      <th></th>\n",
              "      <th>MovieID</th>\n",
              "      <th>Title</th>\n",
              "      <th>UserID</th>\n",
              "      <th>Rating</th>\n",
              "      <th>Gender</th>\n",
              "      <th>Age</th>\n",
              "      <th>Occupation</th>\n",
              "      <th>Genre_Action</th>\n",
              "      <th>Genre_Adventure</th>\n",
              "      <th>Genre_Animation</th>\n",
              "      <th>Genre_Children's</th>\n",
              "      <th>Genre_Comedy</th>\n",
              "      <th>Genre_Crime</th>\n",
              "      <th>Genre_Documentary</th>\n",
              "      <th>Genre_Drama</th>\n",
              "      <th>Genre_Fantasy</th>\n",
              "      <th>Genre_Film-Noir</th>\n",
              "      <th>Genre_Horror</th>\n",
              "      <th>Genre_Musical</th>\n",
              "      <th>Genre_Mystery</th>\n",
              "      <th>Genre_Romance</th>\n",
              "      <th>Genre_Sci-Fi</th>\n",
              "      <th>Genre_Thriller</th>\n",
              "      <th>Genre_War</th>\n",
              "      <th>Genre_Western</th>\n",
              "    </tr>\n",
              "  </thead>\n",
              "  <tbody>\n",
              "    <tr>\n",
              "      <th>0</th>\n",
              "      <td>1</td>\n",
              "      <td>Toy Story (1995)</td>\n",
              "      <td>1</td>\n",
              "      <td>5</td>\n",
              "      <td>F</td>\n",
              "      <td>1</td>\n",
              "      <td>10</td>\n",
              "      <td>0</td>\n",
              "      <td>0</td>\n",
              "      <td>1</td>\n",
              "      <td>1</td>\n",
              "      <td>1</td>\n",
              "      <td>0</td>\n",
              "      <td>0</td>\n",
              "      <td>0</td>\n",
              "      <td>0</td>\n",
              "      <td>0</td>\n",
              "      <td>0</td>\n",
              "      <td>0</td>\n",
              "      <td>0</td>\n",
              "      <td>0</td>\n",
              "      <td>0</td>\n",
              "      <td>0</td>\n",
              "      <td>0</td>\n",
              "      <td>0</td>\n",
              "    </tr>\n",
              "    <tr>\n",
              "      <th>1</th>\n",
              "      <td>48</td>\n",
              "      <td>Pocahontas (1995)</td>\n",
              "      <td>1</td>\n",
              "      <td>5</td>\n",
              "      <td>F</td>\n",
              "      <td>1</td>\n",
              "      <td>10</td>\n",
              "      <td>0</td>\n",
              "      <td>0</td>\n",
              "      <td>1</td>\n",
              "      <td>1</td>\n",
              "      <td>0</td>\n",
              "      <td>0</td>\n",
              "      <td>0</td>\n",
              "      <td>0</td>\n",
              "      <td>0</td>\n",
              "      <td>0</td>\n",
              "      <td>0</td>\n",
              "      <td>1</td>\n",
              "      <td>0</td>\n",
              "      <td>1</td>\n",
              "      <td>0</td>\n",
              "      <td>0</td>\n",
              "      <td>0</td>\n",
              "      <td>0</td>\n",
              "    </tr>\n",
              "    <tr>\n",
              "      <th>2</th>\n",
              "      <td>150</td>\n",
              "      <td>Apollo 13 (1995)</td>\n",
              "      <td>1</td>\n",
              "      <td>5</td>\n",
              "      <td>F</td>\n",
              "      <td>1</td>\n",
              "      <td>10</td>\n",
              "      <td>0</td>\n",
              "      <td>0</td>\n",
              "      <td>0</td>\n",
              "      <td>0</td>\n",
              "      <td>0</td>\n",
              "      <td>0</td>\n",
              "      <td>0</td>\n",
              "      <td>1</td>\n",
              "      <td>0</td>\n",
              "      <td>0</td>\n",
              "      <td>0</td>\n",
              "      <td>0</td>\n",
              "      <td>0</td>\n",
              "      <td>0</td>\n",
              "      <td>0</td>\n",
              "      <td>0</td>\n",
              "      <td>0</td>\n",
              "      <td>0</td>\n",
              "    </tr>\n",
              "    <tr>\n",
              "      <th>3</th>\n",
              "      <td>260</td>\n",
              "      <td>Star Wars: Episode IV - A New Hope (1977)</td>\n",
              "      <td>1</td>\n",
              "      <td>4</td>\n",
              "      <td>F</td>\n",
              "      <td>1</td>\n",
              "      <td>10</td>\n",
              "      <td>1</td>\n",
              "      <td>1</td>\n",
              "      <td>0</td>\n",
              "      <td>0</td>\n",
              "      <td>0</td>\n",
              "      <td>0</td>\n",
              "      <td>0</td>\n",
              "      <td>0</td>\n",
              "      <td>1</td>\n",
              "      <td>0</td>\n",
              "      <td>0</td>\n",
              "      <td>0</td>\n",
              "      <td>0</td>\n",
              "      <td>0</td>\n",
              "      <td>1</td>\n",
              "      <td>0</td>\n",
              "      <td>0</td>\n",
              "      <td>0</td>\n",
              "    </tr>\n",
              "    <tr>\n",
              "      <th>4</th>\n",
              "      <td>527</td>\n",
              "      <td>Schindler's List (1993)</td>\n",
              "      <td>1</td>\n",
              "      <td>5</td>\n",
              "      <td>F</td>\n",
              "      <td>1</td>\n",
              "      <td>10</td>\n",
              "      <td>0</td>\n",
              "      <td>0</td>\n",
              "      <td>0</td>\n",
              "      <td>0</td>\n",
              "      <td>0</td>\n",
              "      <td>0</td>\n",
              "      <td>0</td>\n",
              "      <td>1</td>\n",
              "      <td>0</td>\n",
              "      <td>0</td>\n",
              "      <td>0</td>\n",
              "      <td>0</td>\n",
              "      <td>0</td>\n",
              "      <td>0</td>\n",
              "      <td>0</td>\n",
              "      <td>0</td>\n",
              "      <td>1</td>\n",
              "      <td>0</td>\n",
              "    </tr>\n",
              "  </tbody>\n",
              "</table>\n",
              "</div>"
            ],
            "text/plain": [
              "   MovieID                                      Title  ...  Genre_War  Genre_Western\n",
              "0        1                           Toy Story (1995)  ...          0              0\n",
              "1       48                          Pocahontas (1995)  ...          0              0\n",
              "2      150                           Apollo 13 (1995)  ...          0              0\n",
              "3      260  Star Wars: Episode IV - A New Hope (1977)  ...          0              0\n",
              "4      527                    Schindler's List (1993)  ...          1              0\n",
              "\n",
              "[5 rows x 25 columns]"
            ]
          },
          "metadata": {
            "tags": []
          },
          "execution_count": 37
        }
      ]
    },
    {
      "cell_type": "markdown",
      "metadata": {
        "id": "oYQvCZEtly3M"
      },
      "source": [
        "# We have combined the genres_data with Movie_data with selected number of columns"
      ],
      "id": "oYQvCZEtly3M"
    },
    {
      "cell_type": "markdown",
      "metadata": {
        "id": "c7673817"
      },
      "source": [
        "# 3. Determine the features affecting the ratings of any particular movie."
      ],
      "id": "c7673817"
    },
    {
      "cell_type": "code",
      "metadata": {
        "colab": {
          "base_uri": "https://localhost:8080/",
          "height": 204
        },
        "id": "oV53MPZPLKZc",
        "outputId": "7b895c98-697d-443f-aaea-650fa6f471da"
      },
      "source": [
        "Master_Data.head() # first 5 records"
      ],
      "id": "oV53MPZPLKZc",
      "execution_count": 11,
      "outputs": [
        {
          "output_type": "execute_result",
          "data": {
            "text/html": [
              "<div>\n",
              "<style scoped>\n",
              "    .dataframe tbody tr th:only-of-type {\n",
              "        vertical-align: middle;\n",
              "    }\n",
              "\n",
              "    .dataframe tbody tr th {\n",
              "        vertical-align: top;\n",
              "    }\n",
              "\n",
              "    .dataframe thead th {\n",
              "        text-align: right;\n",
              "    }\n",
              "</style>\n",
              "<table border=\"1\" class=\"dataframe\">\n",
              "  <thead>\n",
              "    <tr style=\"text-align: right;\">\n",
              "      <th></th>\n",
              "      <th>MovieID</th>\n",
              "      <th>Title</th>\n",
              "      <th>Genres</th>\n",
              "      <th>UserID</th>\n",
              "      <th>Rating</th>\n",
              "      <th>Timestamp</th>\n",
              "      <th>Gender</th>\n",
              "      <th>Age</th>\n",
              "      <th>Occupation</th>\n",
              "      <th>Zip-code</th>\n",
              "    </tr>\n",
              "  </thead>\n",
              "  <tbody>\n",
              "    <tr>\n",
              "      <th>0</th>\n",
              "      <td>1</td>\n",
              "      <td>Toy Story (1995)</td>\n",
              "      <td>Animation|Children's|Comedy</td>\n",
              "      <td>1</td>\n",
              "      <td>5</td>\n",
              "      <td>978824268</td>\n",
              "      <td>F</td>\n",
              "      <td>1</td>\n",
              "      <td>10</td>\n",
              "      <td>48067</td>\n",
              "    </tr>\n",
              "    <tr>\n",
              "      <th>1</th>\n",
              "      <td>48</td>\n",
              "      <td>Pocahontas (1995)</td>\n",
              "      <td>Animation|Children's|Musical|Romance</td>\n",
              "      <td>1</td>\n",
              "      <td>5</td>\n",
              "      <td>978824351</td>\n",
              "      <td>F</td>\n",
              "      <td>1</td>\n",
              "      <td>10</td>\n",
              "      <td>48067</td>\n",
              "    </tr>\n",
              "    <tr>\n",
              "      <th>2</th>\n",
              "      <td>150</td>\n",
              "      <td>Apollo 13 (1995)</td>\n",
              "      <td>Drama</td>\n",
              "      <td>1</td>\n",
              "      <td>5</td>\n",
              "      <td>978301777</td>\n",
              "      <td>F</td>\n",
              "      <td>1</td>\n",
              "      <td>10</td>\n",
              "      <td>48067</td>\n",
              "    </tr>\n",
              "    <tr>\n",
              "      <th>3</th>\n",
              "      <td>260</td>\n",
              "      <td>Star Wars: Episode IV - A New Hope (1977)</td>\n",
              "      <td>Action|Adventure|Fantasy|Sci-Fi</td>\n",
              "      <td>1</td>\n",
              "      <td>4</td>\n",
              "      <td>978300760</td>\n",
              "      <td>F</td>\n",
              "      <td>1</td>\n",
              "      <td>10</td>\n",
              "      <td>48067</td>\n",
              "    </tr>\n",
              "    <tr>\n",
              "      <th>4</th>\n",
              "      <td>527</td>\n",
              "      <td>Schindler's List (1993)</td>\n",
              "      <td>Drama|War</td>\n",
              "      <td>1</td>\n",
              "      <td>5</td>\n",
              "      <td>978824195</td>\n",
              "      <td>F</td>\n",
              "      <td>1</td>\n",
              "      <td>10</td>\n",
              "      <td>48067</td>\n",
              "    </tr>\n",
              "  </tbody>\n",
              "</table>\n",
              "</div>"
            ],
            "text/plain": [
              "   MovieID                                      Title  ... Occupation  Zip-code\n",
              "0        1                           Toy Story (1995)  ...         10     48067\n",
              "1       48                          Pocahontas (1995)  ...         10     48067\n",
              "2      150                           Apollo 13 (1995)  ...         10     48067\n",
              "3      260  Star Wars: Episode IV - A New Hope (1977)  ...         10     48067\n",
              "4      527                    Schindler's List (1993)  ...         10     48067\n",
              "\n",
              "[5 rows x 10 columns]"
            ]
          },
          "metadata": {
            "tags": []
          },
          "execution_count": 11
        }
      ]
    },
    {
      "cell_type": "code",
      "metadata": {
        "colab": {
          "base_uri": "https://localhost:8080/",
          "height": 0
        },
        "id": "55KcXtz_LKlh",
        "outputId": "6e4932a1-1d07-42c6-c0e6-51805401d007"
      },
      "source": [
        "Master_Data.dtypes # check datatypes"
      ],
      "id": "55KcXtz_LKlh",
      "execution_count": 12,
      "outputs": [
        {
          "output_type": "execute_result",
          "data": {
            "text/plain": [
              "MovieID        int64\n",
              "Title         object\n",
              "Genres        object\n",
              "UserID         int64\n",
              "Rating         int64\n",
              "Timestamp      int64\n",
              "Gender        object\n",
              "Age            int64\n",
              "Occupation     int64\n",
              "Zip-code      object\n",
              "dtype: object"
            ]
          },
          "metadata": {
            "tags": []
          },
          "execution_count": 12
        }
      ]
    },
    {
      "cell_type": "code",
      "metadata": {
        "id": "DBL6A02JLKtj"
      },
      "source": [
        "# converting Zip-code to string datatype\n",
        "Master_Data['Zip-code'] = Master_Data['Zip-code'].astype(str)"
      ],
      "id": "DBL6A02JLKtj",
      "execution_count": 13,
      "outputs": []
    },
    {
      "cell_type": "code",
      "metadata": {
        "id": "YdbHLwmYLK0J"
      },
      "source": [
        "# Now we will convert Zip-code to float for further analysis\n",
        "Master_Data['Zip-code'] = Master_Data['Zip-code'].str.replace('-', '_').astype(float)"
      ],
      "id": "YdbHLwmYLK0J",
      "execution_count": 14,
      "outputs": []
    },
    {
      "cell_type": "code",
      "metadata": {
        "id": "DFf0mxSBLWDX"
      },
      "source": [
        "# Creating separate data for object columns and numeric columns\n",
        "objectcols = Master_Data[['Title','Genres','Gender']]\n",
        "numericcols = Master_Data.drop(['Title','Genres','Gender'],axis=1)"
      ],
      "id": "DFf0mxSBLWDX",
      "execution_count": 15,
      "outputs": []
    },
    {
      "cell_type": "code",
      "metadata": {
        "id": "Y94e1WXvLaYl"
      },
      "source": [
        "from sklearn.preprocessing import LabelEncoder\n",
        "le = LabelEncoder()"
      ],
      "id": "Y94e1WXvLaYl",
      "execution_count": 16,
      "outputs": []
    },
    {
      "cell_type": "code",
      "metadata": {
        "colab": {
          "base_uri": "https://localhost:8080/",
          "height": 204
        },
        "id": "PmxwDUBVLcZD",
        "outputId": "0e0444ff-0f08-4e5f-f113-2ce0c78a5100"
      },
      "source": [
        "# Creating dummy of objectcols for further analysis\n",
        "objectcolsdummy = objectcols.apply(le.fit_transform)\n",
        "objectcolsdummy.head()"
      ],
      "id": "PmxwDUBVLcZD",
      "execution_count": 17,
      "outputs": [
        {
          "output_type": "execute_result",
          "data": {
            "text/html": [
              "<div>\n",
              "<style scoped>\n",
              "    .dataframe tbody tr th:only-of-type {\n",
              "        vertical-align: middle;\n",
              "    }\n",
              "\n",
              "    .dataframe tbody tr th {\n",
              "        vertical-align: top;\n",
              "    }\n",
              "\n",
              "    .dataframe thead th {\n",
              "        text-align: right;\n",
              "    }\n",
              "</style>\n",
              "<table border=\"1\" class=\"dataframe\">\n",
              "  <thead>\n",
              "    <tr style=\"text-align: right;\">\n",
              "      <th></th>\n",
              "      <th>Title</th>\n",
              "      <th>Genres</th>\n",
              "      <th>Gender</th>\n",
              "    </tr>\n",
              "  </thead>\n",
              "  <tbody>\n",
              "    <tr>\n",
              "      <th>0</th>\n",
              "      <td>3411</td>\n",
              "      <td>145</td>\n",
              "      <td>0</td>\n",
              "    </tr>\n",
              "    <tr>\n",
              "      <th>1</th>\n",
              "      <td>2598</td>\n",
              "      <td>153</td>\n",
              "      <td>0</td>\n",
              "    </tr>\n",
              "    <tr>\n",
              "      <th>2</th>\n",
              "      <td>195</td>\n",
              "      <td>239</td>\n",
              "      <td>0</td>\n",
              "    </tr>\n",
              "    <tr>\n",
              "      <th>3</th>\n",
              "      <td>3153</td>\n",
              "      <td>24</td>\n",
              "      <td>0</td>\n",
              "    </tr>\n",
              "    <tr>\n",
              "      <th>4</th>\n",
              "      <td>2901</td>\n",
              "      <td>262</td>\n",
              "      <td>0</td>\n",
              "    </tr>\n",
              "  </tbody>\n",
              "</table>\n",
              "</div>"
            ],
            "text/plain": [
              "   Title  Genres  Gender\n",
              "0   3411     145       0\n",
              "1   2598     153       0\n",
              "2    195     239       0\n",
              "3   3153      24       0\n",
              "4   2901     262       0"
            ]
          },
          "metadata": {
            "tags": []
          },
          "execution_count": 17
        }
      ]
    },
    {
      "cell_type": "code",
      "metadata": {
        "colab": {
          "base_uri": "https://localhost:8080/",
          "height": 204
        },
        "id": "p1DHporGLfHX",
        "outputId": "84e0074c-2dda-4f19-b159-ee26e5a5d790"
      },
      "source": [
        "# combining the data to form a final data for analysis\n",
        "Master_Data_final = pd.concat([numericcols,objectcolsdummy],axis=1)\n",
        "Master_Data_final.head()"
      ],
      "id": "p1DHporGLfHX",
      "execution_count": 18,
      "outputs": [
        {
          "output_type": "execute_result",
          "data": {
            "text/html": [
              "<div>\n",
              "<style scoped>\n",
              "    .dataframe tbody tr th:only-of-type {\n",
              "        vertical-align: middle;\n",
              "    }\n",
              "\n",
              "    .dataframe tbody tr th {\n",
              "        vertical-align: top;\n",
              "    }\n",
              "\n",
              "    .dataframe thead th {\n",
              "        text-align: right;\n",
              "    }\n",
              "</style>\n",
              "<table border=\"1\" class=\"dataframe\">\n",
              "  <thead>\n",
              "    <tr style=\"text-align: right;\">\n",
              "      <th></th>\n",
              "      <th>MovieID</th>\n",
              "      <th>UserID</th>\n",
              "      <th>Rating</th>\n",
              "      <th>Timestamp</th>\n",
              "      <th>Age</th>\n",
              "      <th>Occupation</th>\n",
              "      <th>Zip-code</th>\n",
              "      <th>Title</th>\n",
              "      <th>Genres</th>\n",
              "      <th>Gender</th>\n",
              "    </tr>\n",
              "  </thead>\n",
              "  <tbody>\n",
              "    <tr>\n",
              "      <th>0</th>\n",
              "      <td>1</td>\n",
              "      <td>1</td>\n",
              "      <td>5</td>\n",
              "      <td>978824268</td>\n",
              "      <td>1</td>\n",
              "      <td>10</td>\n",
              "      <td>48067.0</td>\n",
              "      <td>3411</td>\n",
              "      <td>145</td>\n",
              "      <td>0</td>\n",
              "    </tr>\n",
              "    <tr>\n",
              "      <th>1</th>\n",
              "      <td>48</td>\n",
              "      <td>1</td>\n",
              "      <td>5</td>\n",
              "      <td>978824351</td>\n",
              "      <td>1</td>\n",
              "      <td>10</td>\n",
              "      <td>48067.0</td>\n",
              "      <td>2598</td>\n",
              "      <td>153</td>\n",
              "      <td>0</td>\n",
              "    </tr>\n",
              "    <tr>\n",
              "      <th>2</th>\n",
              "      <td>150</td>\n",
              "      <td>1</td>\n",
              "      <td>5</td>\n",
              "      <td>978301777</td>\n",
              "      <td>1</td>\n",
              "      <td>10</td>\n",
              "      <td>48067.0</td>\n",
              "      <td>195</td>\n",
              "      <td>239</td>\n",
              "      <td>0</td>\n",
              "    </tr>\n",
              "    <tr>\n",
              "      <th>3</th>\n",
              "      <td>260</td>\n",
              "      <td>1</td>\n",
              "      <td>4</td>\n",
              "      <td>978300760</td>\n",
              "      <td>1</td>\n",
              "      <td>10</td>\n",
              "      <td>48067.0</td>\n",
              "      <td>3153</td>\n",
              "      <td>24</td>\n",
              "      <td>0</td>\n",
              "    </tr>\n",
              "    <tr>\n",
              "      <th>4</th>\n",
              "      <td>527</td>\n",
              "      <td>1</td>\n",
              "      <td>5</td>\n",
              "      <td>978824195</td>\n",
              "      <td>1</td>\n",
              "      <td>10</td>\n",
              "      <td>48067.0</td>\n",
              "      <td>2901</td>\n",
              "      <td>262</td>\n",
              "      <td>0</td>\n",
              "    </tr>\n",
              "  </tbody>\n",
              "</table>\n",
              "</div>"
            ],
            "text/plain": [
              "   MovieID  UserID  Rating  Timestamp  ...  Zip-code  Title  Genres  Gender\n",
              "0        1       1       5  978824268  ...   48067.0   3411     145       0\n",
              "1       48       1       5  978824351  ...   48067.0   2598     153       0\n",
              "2      150       1       5  978301777  ...   48067.0    195     239       0\n",
              "3      260       1       4  978300760  ...   48067.0   3153      24       0\n",
              "4      527       1       5  978824195  ...   48067.0   2901     262       0\n",
              "\n",
              "[5 rows x 10 columns]"
            ]
          },
          "metadata": {
            "tags": []
          },
          "execution_count": 18
        }
      ]
    },
    {
      "cell_type": "code",
      "metadata": {
        "colab": {
          "base_uri": "https://localhost:8080/",
          "height": 0
        },
        "id": "ScvGDiTFLiqN",
        "outputId": "0ded3860-1e10-4584-8442-47225fe19a47"
      },
      "source": [
        "Master_Data_final.shape # rows and columns"
      ],
      "id": "ScvGDiTFLiqN",
      "execution_count": 19,
      "outputs": [
        {
          "output_type": "execute_result",
          "data": {
            "text/plain": [
              "(1000209, 10)"
            ]
          },
          "metadata": {
            "tags": []
          },
          "execution_count": 19
        }
      ]
    },
    {
      "cell_type": "code",
      "metadata": {
        "colab": {
          "base_uri": "https://localhost:8080/",
          "height": 0
        },
        "id": "il8eH0fDLmfA",
        "outputId": "c535bbb0-69dd-4471-b533-6e05c9b7a308"
      },
      "source": [
        "Master_Data_final.dtypes # check datatypes"
      ],
      "id": "il8eH0fDLmfA",
      "execution_count": 20,
      "outputs": [
        {
          "output_type": "execute_result",
          "data": {
            "text/plain": [
              "MovieID         int64\n",
              "UserID          int64\n",
              "Rating          int64\n",
              "Timestamp       int64\n",
              "Age             int64\n",
              "Occupation      int64\n",
              "Zip-code      float64\n",
              "Title           int64\n",
              "Genres          int64\n",
              "Gender          int64\n",
              "dtype: object"
            ]
          },
          "metadata": {
            "tags": []
          },
          "execution_count": 20
        }
      ]
    },
    {
      "cell_type": "markdown",
      "metadata": {
        "id": "skkialJKLsvb"
      },
      "source": [
        "# As our data is very huge i.e 1000209 rows we will split it into 4 parts and then we will perform analysis on the data¶"
      ],
      "id": "skkialJKLsvb"
    },
    {
      "cell_type": "code",
      "metadata": {
        "id": "o-b2IZzSLqKn"
      },
      "source": [
        "# Separating data into 4 parts for easy analysis\n",
        "Master_Data_final1 = Master_Data_final.iloc[0:250000,:]\n",
        "Master_Data_final2 = Master_Data_final.iloc[250000:500000,:]\n",
        "Master_Data_final3 = Master_Data_final.iloc[500001:750001,:]\n",
        "Master_Data_final4 = Master_Data_final.iloc[750001:1000210,:]"
      ],
      "id": "o-b2IZzSLqKn",
      "execution_count": 21,
      "outputs": []
    },
    {
      "cell_type": "code",
      "metadata": {
        "colab": {
          "base_uri": "https://localhost:8080/",
          "height": 0
        },
        "id": "SQy76MSLL4Ey",
        "outputId": "32adb82e-49fa-4071-ff3b-14479acd791a"
      },
      "source": [
        "# Check shapes of each part\n",
        "print(Master_Data_final1.shape)\n",
        "print(Master_Data_final2.shape)\n",
        "print(Master_Data_final3.shape)\n",
        "print(Master_Data_final4.shape)"
      ],
      "id": "SQy76MSLL4Ey",
      "execution_count": 22,
      "outputs": [
        {
          "output_type": "stream",
          "text": [
            "(250000, 10)\n",
            "(250000, 10)\n",
            "(250000, 10)\n",
            "(250208, 10)\n"
          ],
          "name": "stdout"
        }
      ]
    },
    {
      "cell_type": "code",
      "metadata": {
        "id": "VN7AmwnLMKzJ"
      },
      "source": [
        "# import the required libraries\n",
        "from sklearn.model_selection import train_test_split\n",
        "from sklearn.linear_model import LinearRegression\n",
        "from sklearn.tree import DecisionTreeRegressor\n",
        "from sklearn.ensemble import RandomForestRegressor\n",
        "from sklearn.ensemble import GradientBoostingRegressor\n",
        "from sklearn.metrics import mean_squared_error\n",
        "from sklearn.metrics import mean_absolute_error"
      ],
      "id": "VN7AmwnLMKzJ",
      "execution_count": 23,
      "outputs": []
    },
    {
      "cell_type": "markdown",
      "metadata": {
        "id": "JxH5AEc3Me9C"
      },
      "source": [
        "# Master_Data_final1"
      ],
      "id": "JxH5AEc3Me9C"
    },
    {
      "cell_type": "code",
      "metadata": {
        "id": "Pif5NCfXMPLj"
      },
      "source": [
        "# Dependent (y1) and Independent (X1) variables\n",
        "y1 = Master_Data_final1.Rating\n",
        "X1 = Master_Data_final1.drop(['Rating'],axis=1)"
      ],
      "id": "Pif5NCfXMPLj",
      "execution_count": 52,
      "outputs": []
    },
    {
      "cell_type": "code",
      "metadata": {
        "id": "A7DHxlB6MkUY"
      },
      "source": [
        "# Split the data into train and test\n",
        "X1_train,X1_test,y1_train,y1_test = train_test_split(X1,y1,test_size=0.25,random_state=42)"
      ],
      "id": "A7DHxlB6MkUY",
      "execution_count": 53,
      "outputs": []
    },
    {
      "cell_type": "code",
      "metadata": {
        "colab": {
          "base_uri": "https://localhost:8080/",
          "height": 0
        },
        "id": "gAziac0DMmhT",
        "outputId": "74b9fdb6-0f23-43fe-ac43-b3fb3ef4752e"
      },
      "source": [
        "# Check shapes\n",
        "print(X1_train.shape)\n",
        "print(X1_test.shape)\n",
        "print(y1_train.shape)\n",
        "print(y1_test.shape)"
      ],
      "id": "gAziac0DMmhT",
      "execution_count": 54,
      "outputs": [
        {
          "output_type": "stream",
          "text": [
            "(187500, 9)\n",
            "(62500, 9)\n",
            "(187500,)\n",
            "(62500,)\n"
          ],
          "name": "stdout"
        }
      ]
    },
    {
      "cell_type": "code",
      "metadata": {
        "colab": {
          "base_uri": "https://localhost:8080/",
          "height": 0
        },
        "id": "2lveJ7QgMo0f",
        "outputId": "49964016-2261-4819-ea08-e7de50022c27"
      },
      "source": [
        "# Linear Regression Model\n",
        "print('Linear Regression :')\n",
        "print()\n",
        "linreg = LinearRegression()\n",
        "linregmodel = linreg.fit(X1_train,y1_train)\n",
        "regpredict = linregmodel.predict(X1_test)\n",
        "print('Model Score :',linregmodel.score(X1_train,y1_train)*100)\n",
        "print('Mean Absolute Error :',mean_absolute_error(y1_test,regpredict))\n",
        "print('Mean Squared Error :',mean_squared_error(y1_test,regpredict))\n",
        "print('Root Mean Square Error :',np.sqrt(mean_squared_error(y1_test,regpredict)))"
      ],
      "id": "2lveJ7QgMo0f",
      "execution_count": 56,
      "outputs": [
        {
          "output_type": "stream",
          "text": [
            "Linear Regression :\n",
            "\n",
            "Accuracy:  1.014979655349313\n",
            "Mean Absolute Error : 0.9307692688456111\n",
            "Mean Squared Error : 1.2418534132439387\n",
            "Root Mean Square Error : 1.1143847689393187\n"
          ],
          "name": "stdout"
        }
      ]
    },
    {
      "cell_type": "code",
      "metadata": {
        "colab": {
          "base_uri": "https://localhost:8080/",
          "height": 0
        },
        "id": "Dy08HnPANBnu",
        "outputId": "7624d815-da7e-4a36-bc2f-9471d905c7ab"
      },
      "source": [
        "# Decision Tree Model\n",
        "print('Decision Tree Model :')\n",
        "print()\n",
        "tree = DecisionTreeRegressor()\n",
        "treemodel = tree.fit(X1_train,y1_train)\n",
        "treepredict = treemodel.predict(X1_test)\n",
        "print('Model Score :',treemodel.score(X1_train,y1_train)*100)\n",
        "print('Mean Absolute Error :',mean_absolute_error(y1_test,treepredict))\n",
        "print('Mean Squared Error :',mean_squared_error(y1_test,treepredict))\n",
        "print('Root Mean Square Error :',np.sqrt(mean_squared_error(y1_test,treepredict)))"
      ],
      "id": "Dy08HnPANBnu",
      "execution_count": 57,
      "outputs": [
        {
          "output_type": "stream",
          "text": [
            "Decision Tree Model :\n",
            "\n",
            "Model Score : 100.0\n",
            "Mean Absolute Error : 0.997232\n",
            "Mean Squared Error : 1.80968\n",
            "Root Mean Square Error : 1.3452434723870619\n"
          ],
          "name": "stdout"
        }
      ]
    },
    {
      "cell_type": "code",
      "metadata": {
        "colab": {
          "base_uri": "https://localhost:8080/",
          "height": 0
        },
        "id": "xAIHEsFANiim",
        "outputId": "9403e49c-3b79-4482-ca54-c5cb39761c71"
      },
      "source": [
        "# Random Forest Model\n",
        "print('Random Forest Model :')\n",
        "print()\n",
        "rf = RandomForestRegressor(n_estimators=500)\n",
        "rfmodel = rf.fit(X1_train,y1_train)\n",
        "rfpredict = rfmodel.predict(X1_test)\n",
        "print('Model Score :',rfmodel.score(X1_train,y1_train)*100)\n",
        "print('Mean Absolute Error :',mean_absolute_error(y1_test,rfpredict))\n",
        "print('Mean Squared Error :',mean_squared_error(y1_test,rfpredict))\n",
        "print('Root Mean Square Error :',np.sqrt(mean_squared_error(y1_test,rfpredict)))"
      ],
      "id": "xAIHEsFANiim",
      "execution_count": 59,
      "outputs": [
        {
          "output_type": "stream",
          "text": [
            "Random Forest Model :\n",
            "\n",
            "Model Score : 89.9209659700578\n",
            "Mean Absolute Error : 0.7650695679999999\n",
            "Mean Squared Error : 0.918656814464\n",
            "Root Mean Square Error : 0.9584658650489333\n"
          ],
          "name": "stdout"
        }
      ]
    },
    {
      "cell_type": "code",
      "metadata": {
        "colab": {
          "base_uri": "https://localhost:8080/",
          "height": 0
        },
        "id": "l0Ph2aFZNiuB",
        "outputId": "aa88b7a8-a88a-4291-8ef8-05fb233408e0"
      },
      "source": [
        "# Gradient Boosting Model\n",
        "print('Gradient Boosting Model :')\n",
        "print()\n",
        "gbr = GradientBoostingRegressor(n_estimators=500)\n",
        "gbrmodel = gbr.fit(X1_train,y1_train)\n",
        "gbrpredict = gbrmodel.predict(X1_test)\n",
        "print('Model Score :',gbrmodel.score(X1_train,y1_train)*100)\n",
        "print('Mean Absolute Error :',mean_absolute_error(y1_test,gbrpredict))\n",
        "print('Mean Squared Error :',mean_squared_error(y1_test,gbrpredict))\n",
        "print('Root Mean Square Error :',np.sqrt(mean_squared_error(y1_test,gbrpredict)))"
      ],
      "id": "l0Ph2aFZNiuB",
      "execution_count": 60,
      "outputs": [
        {
          "output_type": "stream",
          "text": [
            "Gradient Boosting Model :\n",
            "\n",
            "Model Score : 23.55457086776539\n",
            "Mean Absolute Error : 0.7943017533257478\n",
            "Mean Squared Error : 0.9631827002018266\n",
            "Root Mean Square Error : 0.9814187180820563\n"
          ],
          "name": "stdout"
        }
      ]
    },
    {
      "cell_type": "code",
      "metadata": {
        "colab": {
          "base_uri": "https://localhost:8080/",
          "height": 0
        },
        "id": "04xAZkKQNixi",
        "outputId": "387a8bd3-e3af-45f5-d74e-9933bdf14227"
      },
      "source": [
        "# Factors affecting ratings\n",
        "print(list(zip(X1_train.columns,rfmodel.feature_importances_)))"
      ],
      "id": "04xAZkKQNixi",
      "execution_count": 61,
      "outputs": [
        {
          "output_type": "stream",
          "text": [
            "[('MovieID', 0.1594805969612773), ('UserID', 0.1400025188072164), ('Timestamp', 0.17740815432847604), ('Age', 0.0532542997481916), ('Occupation', 0.08420693074027762), ('Zip-code', 0.16722081823278828), ('Title', 0.11329962973714408), ('Genres', 0.08743745638666045), ('Gender', 0.01768959505796832)]\n"
          ],
          "name": "stdout"
        }
      ]
    },
    {
      "cell_type": "markdown",
      "metadata": {
        "id": "rW6_IYFXOOBC"
      },
      "source": [
        "# Master_Data_final2"
      ],
      "id": "rW6_IYFXOOBC"
    },
    {
      "cell_type": "code",
      "metadata": {
        "id": "1t2FWTFqOJIy"
      },
      "source": [
        "# Dependent (y2) and Independent (X2) variables\n",
        "y2 = Master_Data_final2.Rating\n",
        "X2 = Master_Data_final2.drop(['Rating'],axis=1)"
      ],
      "id": "1t2FWTFqOJIy",
      "execution_count": 62,
      "outputs": []
    },
    {
      "cell_type": "code",
      "metadata": {
        "id": "AHLRrk3OOJMO"
      },
      "source": [
        "# Split the data into train and test\n",
        "X2_train,X2_test,y2_train,y2_test = train_test_split(X2,y2,test_size=0.25,random_state=42)"
      ],
      "id": "AHLRrk3OOJMO",
      "execution_count": 63,
      "outputs": []
    },
    {
      "cell_type": "code",
      "metadata": {
        "colab": {
          "base_uri": "https://localhost:8080/",
          "height": 0
        },
        "id": "owB7tRKXOJP_",
        "outputId": "5241ab0b-db1e-4cdb-8f75-0cd814854103"
      },
      "source": [
        "# Check shapes\n",
        "print(X2_train.shape)\n",
        "print(X2_test.shape)\n",
        "print(y2_train.shape)\n",
        "print(y2_test.shape)"
      ],
      "id": "owB7tRKXOJP_",
      "execution_count": 64,
      "outputs": [
        {
          "output_type": "stream",
          "text": [
            "(187500, 9)\n",
            "(62500, 9)\n",
            "(187500,)\n",
            "(62500,)\n"
          ],
          "name": "stdout"
        }
      ]
    },
    {
      "cell_type": "code",
      "metadata": {
        "colab": {
          "base_uri": "https://localhost:8080/",
          "height": 0
        },
        "id": "D-7VRJLmOW8R",
        "outputId": "d6a450b2-dd41-404d-a93e-281ec9b95c3d"
      },
      "source": [
        "# Linear Regression Model\n",
        "print('Linear Regression :')\n",
        "print()\n",
        "linreg2 = LinearRegression()\n",
        "linregmodel2 = linreg2.fit(X2_train,y2_train)\n",
        "regpredict2 = linregmodel2.predict(X2_test)\n",
        "print('Model Score :',linregmodel2.score(X2_train,y2_train)*100)\n",
        "print('Mean Absolute Error :',mean_absolute_error(y2_test,regpredict2))\n",
        "print('Mean Squared Error :',mean_squared_error(y2_test,regpredict2))\n",
        "print('Root Mean Square Error :',np.sqrt(mean_squared_error(y2_test,regpredict2)))"
      ],
      "id": "D-7VRJLmOW8R",
      "execution_count": 65,
      "outputs": [
        {
          "output_type": "stream",
          "text": [
            "Linear Regression :\n",
            "\n",
            "Model Score : 1.3013223981213073\n",
            "Mean Absolute Error : 0.9087647893596562\n",
            "Mean Squared Error : 1.197846440036141\n",
            "Root Mean Square Error : 1.094461712457837\n"
          ],
          "name": "stdout"
        }
      ]
    },
    {
      "cell_type": "code",
      "metadata": {
        "colab": {
          "base_uri": "https://localhost:8080/",
          "height": 0
        },
        "id": "aAGEc0ZcOW_C",
        "outputId": "3f2fff32-2ba2-45d5-af42-6928c7bee354"
      },
      "source": [
        "# Decision Tree Model\n",
        "print('Decision Tree Model :')\n",
        "print()\n",
        "tree2 = DecisionTreeRegressor()\n",
        "treemodel2 = tree2.fit(X2_train,y2_train)\n",
        "treepredict2 = treemodel2.predict(X2_test)\n",
        "print('Model Score :',treemodel.score(X2_train,y2_train)*100)\n",
        "print('Mean Absolute Error :',mean_absolute_error(y2_test,treepredict2))\n",
        "print('Mean Squared Error :',mean_squared_error(y2_test,treepredict2))\n",
        "print('Root Mean Square Error :',np.sqrt(mean_squared_error(y2_test,treepredict2)))"
      ],
      "id": "aAGEc0ZcOW_C",
      "execution_count": 66,
      "outputs": [
        {
          "output_type": "stream",
          "text": [
            "Decision Tree Model :\n",
            "\n",
            "Model Score : -85.05815208989615\n",
            "Mean Absolute Error : 0.9864\n",
            "Mean Squared Error : 1.786944\n",
            "Root Mean Square Error : 1.3367662473297268\n"
          ],
          "name": "stdout"
        }
      ]
    },
    {
      "cell_type": "code",
      "metadata": {
        "colab": {
          "base_uri": "https://localhost:8080/",
          "height": 0
        },
        "id": "61IZTBtzOXCJ",
        "outputId": "649c8d5f-f2e7-46c5-e2f5-0aa7a16c2f92"
      },
      "source": [
        "# Random Forest Model\n",
        "print('Random Forest Model :')\n",
        "print()\n",
        "rf2 = RandomForestRegressor(n_estimators=500)\n",
        "rfmodel2 = rf2.fit(X2_train,y2_train)\n",
        "rfpredict2 = rfmodel2.predict(X2_test)\n",
        "print('Model Score :',rfmodel2.score(X2_train,y2_train)*100)\n",
        "print('Mean Absolute Error :',mean_absolute_error(y2_test,rfpredict2))\n",
        "print('Mean Squared Error :',mean_squared_error(y2_test,rfpredict2))\n",
        "print('Root Mean Square Error :',np.sqrt(mean_squared_error(y2_test,rfpredict2)))"
      ],
      "id": "61IZTBtzOXCJ",
      "execution_count": 67,
      "outputs": [
        {
          "output_type": "stream",
          "text": [
            "Random Forest Model :\n",
            "\n",
            "Model Score : 89.92045546838978\n",
            "Mean Absolute Error : 0.748560128\n",
            "Mean Squared Error : 0.8902996811520001\n",
            "Root Mean Square Error : 0.9435569305304264\n"
          ],
          "name": "stdout"
        }
      ]
    },
    {
      "cell_type": "code",
      "metadata": {
        "colab": {
          "base_uri": "https://localhost:8080/",
          "height": 0
        },
        "id": "2KGS7vBYOXE-",
        "outputId": "415194d2-a058-49ce-f385-ab9dda361fc0"
      },
      "source": [
        "# Gradient Boosting Model\n",
        "print('Gradient Boosting Model :')\n",
        "print()\n",
        "gbr2 = GradientBoostingRegressor(n_estimators=500)\n",
        "gbrmodel2 = gbr2.fit(X2_train,y2_train)\n",
        "gbrpredict2 = gbrmodel2.predict(X2_test)\n",
        "print('Model Score :',gbrmodel.score(X2_train,y2_train)*100)\n",
        "print('Mean Absolute Error :',mean_absolute_error(y2_test,gbrpredict2))\n",
        "print('Mean Squared Error :',mean_squared_error(y2_test,gbrpredict2))\n",
        "print('Root Mean Square Error :',np.sqrt(mean_squared_error(y2_test,gbrpredict2)))"
      ],
      "id": "2KGS7vBYOXE-",
      "execution_count": 68,
      "outputs": [
        {
          "output_type": "stream",
          "text": [
            "Gradient Boosting Model :\n",
            "\n",
            "Model Score : 6.155743858535578\n",
            "Mean Absolute Error : 0.785011842000925\n",
            "Mean Squared Error : 0.9481626993842109\n",
            "Root Mean Square Error : 0.9737364630043444\n"
          ],
          "name": "stdout"
        }
      ]
    },
    {
      "cell_type": "code",
      "metadata": {
        "colab": {
          "base_uri": "https://localhost:8080/",
          "height": 0
        },
        "id": "WEYSVPYNOXHt",
        "outputId": "807dda0b-f29d-471a-d60f-6f18c5154ac9"
      },
      "source": [
        "# Factors affecting ratings\n",
        "print(list(zip(X2_train.columns,rfmodel2.feature_importances_)))"
      ],
      "id": "WEYSVPYNOXHt",
      "execution_count": 69,
      "outputs": [
        {
          "output_type": "stream",
          "text": [
            "[('MovieID', 0.1566481026607614), ('UserID', 0.12916771619660924), ('Timestamp', 0.18403964498310527), ('Age', 0.054006355249512895), ('Occupation', 0.08379752671074138), ('Zip-code', 0.1694402230421053), ('Title', 0.11775044094636383), ('Genres', 0.08723560052227808), ('Gender', 0.01791438968852271)]\n"
          ],
          "name": "stdout"
        }
      ]
    },
    {
      "cell_type": "markdown",
      "metadata": {
        "id": "DPs_myRXP2rO"
      },
      "source": [
        "# Master_Data_final3"
      ],
      "id": "DPs_myRXP2rO"
    },
    {
      "cell_type": "code",
      "metadata": {
        "id": "3cT2uSeBP0yz"
      },
      "source": [
        "# Dependent (y3) and Independent (X3) variables\n",
        "y3 = Master_Data_final3.Rating\n",
        "X3 = Master_Data_final3.drop(['Rating'],axis=1)"
      ],
      "id": "3cT2uSeBP0yz",
      "execution_count": 24,
      "outputs": []
    },
    {
      "cell_type": "code",
      "metadata": {
        "id": "CA-vEcIOOXKv"
      },
      "source": [
        "# Split the data into train and test\n",
        "X3_train,X3_test,y3_train,y3_test = train_test_split(X3,y3,test_size=0.25,random_state=42)"
      ],
      "id": "CA-vEcIOOXKv",
      "execution_count": 25,
      "outputs": []
    },
    {
      "cell_type": "code",
      "metadata": {
        "colab": {
          "base_uri": "https://localhost:8080/",
          "height": 0
        },
        "id": "ubvCz96xNi1c",
        "outputId": "5d53b334-e023-4ef2-abd7-d90b82034a2d"
      },
      "source": [
        "# Check shapes\n",
        "print(X3_train.shape)\n",
        "print(X3_test.shape)\n",
        "print(y3_train.shape)\n",
        "print(y3_test.shape)"
      ],
      "id": "ubvCz96xNi1c",
      "execution_count": 26,
      "outputs": [
        {
          "output_type": "stream",
          "text": [
            "(187500, 9)\n",
            "(62500, 9)\n",
            "(187500,)\n",
            "(62500,)\n"
          ],
          "name": "stdout"
        }
      ]
    },
    {
      "cell_type": "code",
      "metadata": {
        "colab": {
          "base_uri": "https://localhost:8080/",
          "height": 0
        },
        "id": "hhjgMSmVP-Hp",
        "outputId": "5866753b-5959-41e0-c7e2-c0570bae8b52"
      },
      "source": [
        "# Linear Regression Model\n",
        "print('Linear Regression :')\n",
        "print()\n",
        "linreg3 = LinearRegression()\n",
        "linregmodel3 = linreg3.fit(X3_train,y3_train)\n",
        "regpredict3 = linregmodel3.predict(X3_test)\n",
        "print('Model Score :',linregmodel3.score(X3_train,y3_train)*100)\n",
        "print('Mean Absolute Error :',mean_absolute_error(y3_test,regpredict3))\n",
        "print('Mean Squared Error :',mean_squared_error(y3_test,regpredict3))\n",
        "print('Root Mean Square Error :',np.sqrt(mean_squared_error(y3_test,regpredict3)))"
      ],
      "id": "hhjgMSmVP-Hp",
      "execution_count": 27,
      "outputs": [
        {
          "output_type": "stream",
          "text": [
            "Linear Regression :\n",
            "\n",
            "Model Score : 1.1120603235960647\n",
            "Mean Absolute Error : 0.9379769486198766\n",
            "Mean Squared Error : 1.2641260495382158\n",
            "Root Mean Square Error : 1.124333602423327\n"
          ],
          "name": "stdout"
        }
      ]
    },
    {
      "cell_type": "code",
      "metadata": {
        "colab": {
          "base_uri": "https://localhost:8080/",
          "height": 0
        },
        "id": "otZf1Rr8P-Kc",
        "outputId": "f4c9f8c2-b706-4e29-adbc-c7a861f96ca0"
      },
      "source": [
        "# Decision Tree Model\n",
        "print('Decision Tree Model :')\n",
        "print()\n",
        "tree3 = DecisionTreeRegressor()\n",
        "treemodel3 = tree3.fit(X3_train,y3_train)\n",
        "treepredict3 = treemodel3.predict(X3_test)\n",
        "print('Model Score :',treemodel3.score(X3_train,y3_train)*100)\n",
        "print('Mean Absolute Error :',mean_absolute_error(y3_test,treepredict3))\n",
        "print('Mean Squared Error :',mean_squared_error(y3_test,treepredict3))\n",
        "print('Root Mean Square Error :',np.sqrt(mean_squared_error(y3_test,treepredict3)))"
      ],
      "id": "otZf1Rr8P-Kc",
      "execution_count": 28,
      "outputs": [
        {
          "output_type": "stream",
          "text": [
            "Decision Tree Model :\n",
            "\n",
            "Model Score : 100.0\n",
            "Mean Absolute Error : 1.016304\n",
            "Mean Squared Error : 1.878384\n",
            "Root Mean Square Error : 1.370541498824461\n"
          ],
          "name": "stdout"
        }
      ]
    },
    {
      "cell_type": "code",
      "metadata": {
        "colab": {
          "base_uri": "https://localhost:8080/",
          "height": 0
        },
        "id": "I5uNFrDhP-Nl",
        "outputId": "fc1abcd8-b48e-474c-91f2-baef13b8ce5e"
      },
      "source": [
        "# Random Forest Model\n",
        "print('Random Forest Model :')\n",
        "print()\n",
        "rf3 = RandomForestRegressor(n_estimators=500)\n",
        "rfmodel3 = rf3.fit(X3_train,y3_train)\n",
        "rfpredict3 = rfmodel3.predict(X3_test)\n",
        "print('Model Score :',rfmodel3.score(X3_train,y3_train)*100)\n",
        "print('Mean Absolute Error :',mean_absolute_error(y3_test,rfpredict3))\n",
        "print('Mean Squared Error :',mean_squared_error(y3_test,rfpredict3))\n",
        "print('Root Mean Square Error :',np.sqrt(mean_squared_error(y3_test,rfpredict3)))"
      ],
      "id": "I5uNFrDhP-Nl",
      "execution_count": 29,
      "outputs": [
        {
          "output_type": "stream",
          "text": [
            "Random Forest Model :\n",
            "\n",
            "Model Score : 89.8273094297585\n",
            "Mean Absolute Error : 0.78138512\n",
            "Mean Squared Error : 0.9572246026879998\n",
            "Root Mean Square Error : 0.9783785579661892\n"
          ],
          "name": "stdout"
        }
      ]
    },
    {
      "cell_type": "code",
      "metadata": {
        "colab": {
          "base_uri": "https://localhost:8080/",
          "height": 0
        },
        "id": "G3vCHhXQP-Qu",
        "outputId": "d3882a73-e714-435e-9aef-4c4cc2694bd9"
      },
      "source": [
        "# Gradient Boosting Model\n",
        "print('Gradient Boosting Model :')\n",
        "print()\n",
        "gbr3 = GradientBoostingRegressor(n_estimators=500)\n",
        "gbrmodel3 = gbr3.fit(X3_train,y3_train)\n",
        "gbrpredict3 = gbrmodel3.predict(X3_test)\n",
        "print('Model Score :',gbrmodel3.score(X3_train,y3_train)*100)\n",
        "print('Mean Absolute Error :',mean_absolute_error(y3_test,gbrpredict3))\n",
        "print('Mean Squared Error :',mean_squared_error(y3_test,gbrpredict3))\n",
        "print('Root Mean Square Error :',np.sqrt(mean_squared_error(y3_test,gbrpredict3)))"
      ],
      "id": "G3vCHhXQP-Qu",
      "execution_count": 30,
      "outputs": [
        {
          "output_type": "stream",
          "text": [
            "Gradient Boosting Model :\n",
            "\n",
            "Model Score : 22.22118061851466\n",
            "Mean Absolute Error : 0.8144027167114244\n",
            "Mean Squared Error : 1.007279449712804\n",
            "Root Mean Square Error : 1.00363312505756\n"
          ],
          "name": "stdout"
        }
      ]
    },
    {
      "cell_type": "code",
      "metadata": {
        "colab": {
          "base_uri": "https://localhost:8080/",
          "height": 0
        },
        "id": "hNWw_YR8P-Tr",
        "outputId": "5315b9f5-3aef-4aa0-a4c4-6b85109135c7"
      },
      "source": [
        "# Factors affecting ratings\n",
        "print(list(zip(X3_train.columns,rfmodel3.feature_importances_)))"
      ],
      "id": "hNWw_YR8P-Tr",
      "execution_count": 31,
      "outputs": [
        {
          "output_type": "stream",
          "text": [
            "[('MovieID', 0.1563262701429214), ('UserID', 0.13025379487269634), ('Timestamp', 0.1660020630569722), ('Age', 0.05970719213176132), ('Occupation', 0.0935707813073586), ('Zip-code', 0.17630721863573232), ('Title', 0.11138721788335078), ('Genres', 0.08795402387604936), ('Gender', 0.01849143809315779)]\n"
          ],
          "name": "stdout"
        }
      ]
    },
    {
      "cell_type": "markdown",
      "metadata": {
        "id": "jH_FLk3-Rq1u"
      },
      "source": [
        "# Master_Data_final4"
      ],
      "id": "jH_FLk3-Rq1u"
    },
    {
      "cell_type": "code",
      "metadata": {
        "id": "Es6gkm4lP-g_"
      },
      "source": [
        "# Dependent (y4) and Independent (X4) variables\n",
        "y4 = Master_Data_final4.Rating\n",
        "X4 = Master_Data_final4.drop(['Rating'],axis=1)"
      ],
      "id": "Es6gkm4lP-g_",
      "execution_count": 32,
      "outputs": []
    },
    {
      "cell_type": "code",
      "metadata": {
        "id": "LWYWtw67P-kN"
      },
      "source": [
        "# Split the data into train and test\n",
        "X4_train,X4_test,y4_train,y4_test = train_test_split(X4,y4,test_size=0.25,random_state=42)"
      ],
      "id": "LWYWtw67P-kN",
      "execution_count": 33,
      "outputs": []
    },
    {
      "cell_type": "code",
      "metadata": {
        "colab": {
          "base_uri": "https://localhost:8080/",
          "height": 0
        },
        "id": "hiy9oO1aRzfe",
        "outputId": "8973521b-5683-4303-d298-dc6238c4df18"
      },
      "source": [
        "# Check shapes\n",
        "print(X4_train.shape)\n",
        "print(X4_test.shape)\n",
        "print(y4_train.shape)\n",
        "print(y4_test.shape)"
      ],
      "id": "hiy9oO1aRzfe",
      "execution_count": 34,
      "outputs": [
        {
          "output_type": "stream",
          "text": [
            "(187656, 9)\n",
            "(62552, 9)\n",
            "(187656,)\n",
            "(62552,)\n"
          ],
          "name": "stdout"
        }
      ]
    },
    {
      "cell_type": "code",
      "metadata": {
        "colab": {
          "base_uri": "https://localhost:8080/",
          "height": 0
        },
        "id": "K3BX2MuTRzio",
        "outputId": "397c8960-8cbc-422b-a379-aebe9c71fc4c"
      },
      "source": [
        "# Linear Regression Model\n",
        "print('Linear Regression :')\n",
        "print()\n",
        "linreg4 = LinearRegression()\n",
        "linregmodel4 = linreg4.fit(X4_train,y4_train)\n",
        "regpredict4 = linregmodel4.predict(X4_test)\n",
        "print('Model Score :',linregmodel4.score(X4_train,y4_train)*100)\n",
        "print('Mean Absolute Error :',mean_absolute_error(y4_test,regpredict4))\n",
        "print('Mean Squared Error :',mean_squared_error(y4_test,regpredict4))\n",
        "print('Root Mean Square Error :',np.sqrt(mean_squared_error(y4_test,regpredict4)))"
      ],
      "id": "K3BX2MuTRzio",
      "execution_count": 35,
      "outputs": [
        {
          "output_type": "stream",
          "text": [
            "Linear Regression :\n",
            "\n",
            "Model Score : 1.8155346469467482\n",
            "Mean Absolute Error : 0.888265978319701\n",
            "Mean Squared Error : 1.1949406683917985\n",
            "Root Mean Square Error : 1.0931334174709866\n"
          ],
          "name": "stdout"
        }
      ]
    },
    {
      "cell_type": "code",
      "metadata": {
        "colab": {
          "base_uri": "https://localhost:8080/",
          "height": 0
        },
        "id": "iGOcm1JNRzmR",
        "outputId": "cdf9faaa-9f1d-4a63-f0d5-295cda9fef47"
      },
      "source": [
        "# Decision Tree Model\n",
        "print('Decision Tree Model :')\n",
        "print()\n",
        "tree4 = DecisionTreeRegressor()\n",
        "treemodel4 = tree4.fit(X4_train,y4_train)\n",
        "treepredict4 = treemodel4.predict(X4_test)\n",
        "print('Model Score :',treemodel4.score(X4_train,y4_train)*100)\n",
        "print('Mean Absolute Error :',mean_absolute_error(y4_test,treepredict4))\n",
        "print('Mean Squared Error :',mean_squared_error(y4_test,treepredict4))\n",
        "print('Root Mean Square Error :',np.sqrt(mean_squared_error(y4_test,treepredict4)))"
      ],
      "id": "iGOcm1JNRzmR",
      "execution_count": 36,
      "outputs": [
        {
          "output_type": "stream",
          "text": [
            "Decision Tree Model :\n",
            "\n",
            "Model Score : 100.0\n",
            "Mean Absolute Error : 1.0161465660570406\n",
            "Mean Squared Error : 1.8993157692799592\n",
            "Root Mean Square Error : 1.3781566562912793\n"
          ],
          "name": "stdout"
        }
      ]
    },
    {
      "cell_type": "code",
      "metadata": {
        "colab": {
          "base_uri": "https://localhost:8080/",
          "height": 0
        },
        "id": "hyHM4YgoRzpQ",
        "outputId": "bdc58b92-262f-439e-c4c9-bf4a6b92cd36"
      },
      "source": [
        "# Random Forest Model\n",
        "print('Random Forest Model :')\n",
        "print()\n",
        "rf4 = RandomForestRegressor(n_estimators=500)\n",
        "rfmodel4 = rf4.fit(X4_train,y4_train)\n",
        "rfpredict4 = rfmodel4.predict(X4_test)\n",
        "print('Model Score :',rfmodel4.score(X4_train,y4_train)*100)\n",
        "print('Mean Absolute Error :',mean_absolute_error(y4_test,rfpredict4))\n",
        "print('Mean Squared Error :',mean_squared_error(y4_test,rfpredict4))\n",
        "print('Root Mean Square Error :',np.sqrt(mean_squared_error(y4_test,rfpredict4)))"
      ],
      "id": "hyHM4YgoRzpQ",
      "execution_count": 37,
      "outputs": [
        {
          "output_type": "stream",
          "text": [
            "Random Forest Model :\n",
            "\n",
            "Model Score : 89.07661056298622\n",
            "Mean Absolute Error : 0.7861571812252207\n",
            "Mean Squared Error : 0.9741089017777209\n",
            "Root Mean Square Error : 0.9869695546356639\n"
          ],
          "name": "stdout"
        }
      ]
    },
    {
      "cell_type": "code",
      "metadata": {
        "colab": {
          "base_uri": "https://localhost:8080/",
          "height": 0
        },
        "id": "u11yI73DRzsj",
        "outputId": "ba8e3067-c803-420a-9735-2fc9cc8426c2"
      },
      "source": [
        "# Gradient Boosting Model\n",
        "print('Gradient Boosting Model :')\n",
        "print()\n",
        "gbr4 = GradientBoostingRegressor(n_estimators=500)\n",
        "gbrmodel4 = gbr4.fit(X4_train,y4_train)\n",
        "gbrpredict4 = gbrmodel4.predict(X4_test)\n",
        "print('Model Score :',gbrmodel4.score(X4_train,y4_train)*100)\n",
        "print('Mean Absolute Error :',mean_absolute_error(y4_test,gbrpredict4))\n",
        "print('Mean Squared Error :',mean_squared_error(y4_test,gbrpredict4))\n",
        "print('Root Mean Square Error :',np.sqrt(mean_squared_error(y4_test,gbrpredict4)))"
      ],
      "id": "u11yI73DRzsj",
      "execution_count": 38,
      "outputs": [
        {
          "output_type": "stream",
          "text": [
            "Gradient Boosting Model :\n",
            "\n",
            "Model Score : 17.841000798708762\n",
            "Mean Absolute Error : 0.8120149292123968\n",
            "Mean Squared Error : 1.0143197795740913\n",
            "Root Mean Square Error : 1.0071344396723265\n"
          ],
          "name": "stdout"
        }
      ]
    },
    {
      "cell_type": "code",
      "metadata": {
        "colab": {
          "base_uri": "https://localhost:8080/",
          "height": 0
        },
        "id": "dLjSDdIjRzvb",
        "outputId": "ecc8f63c-b222-4480-a995-c1ee543c5a0a"
      },
      "source": [
        "# Factors affecting ratings\n",
        "print(list(zip(X4_train.columns,rfmodel4.feature_importances_)))"
      ],
      "id": "dLjSDdIjRzvb",
      "execution_count": 39,
      "outputs": [
        {
          "output_type": "stream",
          "text": [
            "[('MovieID', 0.14284055370022072), ('UserID', 0.13526504905604206), ('Timestamp', 0.16084878462274965), ('Age', 0.062125497458700885), ('Occupation', 0.1009485779110867), ('Zip-code', 0.19882355699997728), ('Title', 0.10382248354132333), ('Genres', 0.07544890129958216), ('Gender', 0.01987659541031733)]\n"
          ],
          "name": "stdout"
        }
      ]
    },
    {
      "cell_type": "markdown",
      "metadata": {
        "id": "r42gwvtSnu5V"
      },
      "source": [
        "# From above analysis we found that the Random Forest is the best model to predict ratings and MovieID, UserID, Timestamp, Zip-code,Title are the main factors that affect ratings"
      ],
      "id": "r42gwvtSnu5V"
    },
    {
      "cell_type": "markdown",
      "metadata": {
        "id": "k-Ryi31DqeeO"
      },
      "source": [
        "# Summary :\n",
        "# 1. People from age group 20-30 contribute more and age group 0-10 contribute less towards watching movies\n",
        "# 2. Both Toy Story 1995 and Toy Story 1999 has maximum rating given as 5 and lowest as 1\n",
        "# 3. American Beauty (1999) has highest number of ratings and Godfather, The (1972) has lowest number of ratings\n",
        "# 4. User 2696 gave maximum number of rating 4 and minimum number of rating 5 to the movies he watched\n",
        "# 5. We created a separate column for each genre category with a one-hot encoding ( 1 and 0) whether or not the movie belongs to that genre\n",
        "# 6. Random Forest is the best model to predict ratings and MovieID, UserID, Timestamp, Zip-code,Title are the main factors that affect ratings"
      ],
      "id": "k-Ryi31DqeeO"
    }
  ]
}