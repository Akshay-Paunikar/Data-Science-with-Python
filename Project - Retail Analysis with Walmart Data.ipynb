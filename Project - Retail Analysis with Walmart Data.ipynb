{
 "cells": [
  {
   "cell_type": "markdown",
   "id": "f49ae1a7",
   "metadata": {},
   "source": [
    "# Retail Analysis with Walmart Data"
   ]
  },
  {
   "cell_type": "code",
   "execution_count": 1,
   "id": "34fdd65f",
   "metadata": {},
   "outputs": [],
   "source": [
    "# import the required libraries\n",
    "import numpy as np\n",
    "import pandas as pd\n",
    "import matplotlib.pyplot as plt\n",
    "%matplotlib inline"
   ]
  },
  {
   "cell_type": "code",
   "execution_count": 2,
   "id": "2191c901",
   "metadata": {},
   "outputs": [
    {
     "name": "stdout",
     "output_type": "stream",
     "text": [
      "F:\\Akshay\\Simplilearn\\Electives\\PYTHON_DATA_SCIENCE\\PROJECTS\\Retail Analysis with Walmart Data\n"
     ]
    }
   ],
   "source": [
    "# Set the working directory\n",
    "import io\n",
    "%cd \"F:\\Akshay\\Simplilearn\\Electives\\PYTHON_DATA_SCIENCE\\PROJECTS\\Retail Analysis with Walmart Data\""
   ]
  },
  {
   "cell_type": "code",
   "execution_count": 3,
   "id": "5b05fff7",
   "metadata": {},
   "outputs": [],
   "source": [
    "# import the data\n",
    "walmart_data = pd.read_csv('Walmart_Store_sales.csv')"
   ]
  },
  {
   "cell_type": "code",
   "execution_count": 4,
   "id": "e816a7c3",
   "metadata": {},
   "outputs": [
    {
     "data": {
      "text/plain": [
       "(6435, 8)"
      ]
     },
     "execution_count": 4,
     "metadata": {},
     "output_type": "execute_result"
    }
   ],
   "source": [
    "walmart_data.shape # to see rows and columns present in the data"
   ]
  },
  {
   "cell_type": "code",
   "execution_count": 5,
   "id": "dc0e4858",
   "metadata": {},
   "outputs": [
    {
     "data": {
      "text/html": [
       "<div>\n",
       "<style scoped>\n",
       "    .dataframe tbody tr th:only-of-type {\n",
       "        vertical-align: middle;\n",
       "    }\n",
       "\n",
       "    .dataframe tbody tr th {\n",
       "        vertical-align: top;\n",
       "    }\n",
       "\n",
       "    .dataframe thead th {\n",
       "        text-align: right;\n",
       "    }\n",
       "</style>\n",
       "<table border=\"1\" class=\"dataframe\">\n",
       "  <thead>\n",
       "    <tr style=\"text-align: right;\">\n",
       "      <th></th>\n",
       "      <th>Store</th>\n",
       "      <th>Date</th>\n",
       "      <th>Weekly_Sales</th>\n",
       "      <th>Holiday_Flag</th>\n",
       "      <th>Temperature</th>\n",
       "      <th>Fuel_Price</th>\n",
       "      <th>CPI</th>\n",
       "      <th>Unemployment</th>\n",
       "    </tr>\n",
       "  </thead>\n",
       "  <tbody>\n",
       "    <tr>\n",
       "      <th>0</th>\n",
       "      <td>1</td>\n",
       "      <td>05-02-2010</td>\n",
       "      <td>1643690.90</td>\n",
       "      <td>0</td>\n",
       "      <td>42.31</td>\n",
       "      <td>2.572</td>\n",
       "      <td>211.096358</td>\n",
       "      <td>8.106</td>\n",
       "    </tr>\n",
       "    <tr>\n",
       "      <th>1</th>\n",
       "      <td>1</td>\n",
       "      <td>12-02-2010</td>\n",
       "      <td>1641957.44</td>\n",
       "      <td>1</td>\n",
       "      <td>38.51</td>\n",
       "      <td>2.548</td>\n",
       "      <td>211.242170</td>\n",
       "      <td>8.106</td>\n",
       "    </tr>\n",
       "    <tr>\n",
       "      <th>2</th>\n",
       "      <td>1</td>\n",
       "      <td>19-02-2010</td>\n",
       "      <td>1611968.17</td>\n",
       "      <td>0</td>\n",
       "      <td>39.93</td>\n",
       "      <td>2.514</td>\n",
       "      <td>211.289143</td>\n",
       "      <td>8.106</td>\n",
       "    </tr>\n",
       "    <tr>\n",
       "      <th>3</th>\n",
       "      <td>1</td>\n",
       "      <td>26-02-2010</td>\n",
       "      <td>1409727.59</td>\n",
       "      <td>0</td>\n",
       "      <td>46.63</td>\n",
       "      <td>2.561</td>\n",
       "      <td>211.319643</td>\n",
       "      <td>8.106</td>\n",
       "    </tr>\n",
       "    <tr>\n",
       "      <th>4</th>\n",
       "      <td>1</td>\n",
       "      <td>05-03-2010</td>\n",
       "      <td>1554806.68</td>\n",
       "      <td>0</td>\n",
       "      <td>46.50</td>\n",
       "      <td>2.625</td>\n",
       "      <td>211.350143</td>\n",
       "      <td>8.106</td>\n",
       "    </tr>\n",
       "  </tbody>\n",
       "</table>\n",
       "</div>"
      ],
      "text/plain": [
       "   Store        Date  Weekly_Sales  Holiday_Flag  Temperature  Fuel_Price  \\\n",
       "0      1  05-02-2010    1643690.90             0        42.31       2.572   \n",
       "1      1  12-02-2010    1641957.44             1        38.51       2.548   \n",
       "2      1  19-02-2010    1611968.17             0        39.93       2.514   \n",
       "3      1  26-02-2010    1409727.59             0        46.63       2.561   \n",
       "4      1  05-03-2010    1554806.68             0        46.50       2.625   \n",
       "\n",
       "          CPI  Unemployment  \n",
       "0  211.096358         8.106  \n",
       "1  211.242170         8.106  \n",
       "2  211.289143         8.106  \n",
       "3  211.319643         8.106  \n",
       "4  211.350143         8.106  "
      ]
     },
     "execution_count": 5,
     "metadata": {},
     "output_type": "execute_result"
    }
   ],
   "source": [
    "walmart_data.head() # get first five records of the data"
   ]
  },
  {
   "cell_type": "code",
   "execution_count": 6,
   "id": "7d9c5629",
   "metadata": {},
   "outputs": [
    {
     "data": {
      "text/plain": [
       "Store             int64\n",
       "Date             object\n",
       "Weekly_Sales    float64\n",
       "Holiday_Flag      int64\n",
       "Temperature     float64\n",
       "Fuel_Price      float64\n",
       "CPI             float64\n",
       "Unemployment    float64\n",
       "dtype: object"
      ]
     },
     "execution_count": 6,
     "metadata": {},
     "output_type": "execute_result"
    }
   ],
   "source": [
    "walmart_data.dtypes # check the types of variable in the data"
   ]
  },
  {
   "cell_type": "code",
   "execution_count": 7,
   "id": "2a3e30e3",
   "metadata": {},
   "outputs": [
    {
     "data": {
      "text/plain": [
       "Store                    int64\n",
       "Date            datetime64[ns]\n",
       "Weekly_Sales           float64\n",
       "Holiday_Flag             int64\n",
       "Temperature            float64\n",
       "Fuel_Price             float64\n",
       "CPI                    float64\n",
       "Unemployment           float64\n",
       "dtype: object"
      ]
     },
     "execution_count": 7,
     "metadata": {},
     "output_type": "execute_result"
    }
   ],
   "source": [
    "# Convert date to datetime format\n",
    "walmart_data['Date'] = pd.to_datetime(walmart_data['Date'])\n",
    "walmart_data.dtypes"
   ]
  },
  {
   "cell_type": "code",
   "execution_count": 8,
   "id": "4111965e",
   "metadata": {},
   "outputs": [
    {
     "data": {
      "text/plain": [
       "Store           0\n",
       "Date            0\n",
       "Weekly_Sales    0\n",
       "Holiday_Flag    0\n",
       "Temperature     0\n",
       "Fuel_Price      0\n",
       "CPI             0\n",
       "Unemployment    0\n",
       "dtype: int64"
      ]
     },
     "execution_count": 8,
     "metadata": {},
     "output_type": "execute_result"
    }
   ],
   "source": [
    "# check for na values\n",
    "walmart_data.isnull().sum().sort_values(ascending=False)"
   ]
  },
  {
   "cell_type": "code",
   "execution_count": 9,
   "id": "fe8d2abe",
   "metadata": {},
   "outputs": [
    {
     "data": {
      "text/html": [
       "<div>\n",
       "<style scoped>\n",
       "    .dataframe tbody tr th:only-of-type {\n",
       "        vertical-align: middle;\n",
       "    }\n",
       "\n",
       "    .dataframe tbody tr th {\n",
       "        vertical-align: top;\n",
       "    }\n",
       "\n",
       "    .dataframe thead th {\n",
       "        text-align: right;\n",
       "    }\n",
       "</style>\n",
       "<table border=\"1\" class=\"dataframe\">\n",
       "  <thead>\n",
       "    <tr style=\"text-align: right;\">\n",
       "      <th></th>\n",
       "      <th>Store</th>\n",
       "      <th>Date</th>\n",
       "      <th>Weekly_Sales</th>\n",
       "      <th>Holiday_Flag</th>\n",
       "      <th>Temperature</th>\n",
       "      <th>Fuel_Price</th>\n",
       "      <th>CPI</th>\n",
       "      <th>Unemployment</th>\n",
       "      <th>Day</th>\n",
       "      <th>Month</th>\n",
       "      <th>Year</th>\n",
       "    </tr>\n",
       "  </thead>\n",
       "  <tbody>\n",
       "    <tr>\n",
       "      <th>0</th>\n",
       "      <td>1</td>\n",
       "      <td>2010-05-02</td>\n",
       "      <td>1643690.90</td>\n",
       "      <td>0</td>\n",
       "      <td>42.31</td>\n",
       "      <td>2.572</td>\n",
       "      <td>211.096358</td>\n",
       "      <td>8.106</td>\n",
       "      <td>2</td>\n",
       "      <td>5</td>\n",
       "      <td>2010</td>\n",
       "    </tr>\n",
       "    <tr>\n",
       "      <th>1</th>\n",
       "      <td>1</td>\n",
       "      <td>2010-12-02</td>\n",
       "      <td>1641957.44</td>\n",
       "      <td>1</td>\n",
       "      <td>38.51</td>\n",
       "      <td>2.548</td>\n",
       "      <td>211.242170</td>\n",
       "      <td>8.106</td>\n",
       "      <td>2</td>\n",
       "      <td>12</td>\n",
       "      <td>2010</td>\n",
       "    </tr>\n",
       "    <tr>\n",
       "      <th>2</th>\n",
       "      <td>1</td>\n",
       "      <td>2010-02-19</td>\n",
       "      <td>1611968.17</td>\n",
       "      <td>0</td>\n",
       "      <td>39.93</td>\n",
       "      <td>2.514</td>\n",
       "      <td>211.289143</td>\n",
       "      <td>8.106</td>\n",
       "      <td>19</td>\n",
       "      <td>2</td>\n",
       "      <td>2010</td>\n",
       "    </tr>\n",
       "    <tr>\n",
       "      <th>3</th>\n",
       "      <td>1</td>\n",
       "      <td>2010-02-26</td>\n",
       "      <td>1409727.59</td>\n",
       "      <td>0</td>\n",
       "      <td>46.63</td>\n",
       "      <td>2.561</td>\n",
       "      <td>211.319643</td>\n",
       "      <td>8.106</td>\n",
       "      <td>26</td>\n",
       "      <td>2</td>\n",
       "      <td>2010</td>\n",
       "    </tr>\n",
       "    <tr>\n",
       "      <th>4</th>\n",
       "      <td>1</td>\n",
       "      <td>2010-05-03</td>\n",
       "      <td>1554806.68</td>\n",
       "      <td>0</td>\n",
       "      <td>46.50</td>\n",
       "      <td>2.625</td>\n",
       "      <td>211.350143</td>\n",
       "      <td>8.106</td>\n",
       "      <td>3</td>\n",
       "      <td>5</td>\n",
       "      <td>2010</td>\n",
       "    </tr>\n",
       "  </tbody>\n",
       "</table>\n",
       "</div>"
      ],
      "text/plain": [
       "   Store       Date  Weekly_Sales  Holiday_Flag  Temperature  Fuel_Price  \\\n",
       "0      1 2010-05-02    1643690.90             0        42.31       2.572   \n",
       "1      1 2010-12-02    1641957.44             1        38.51       2.548   \n",
       "2      1 2010-02-19    1611968.17             0        39.93       2.514   \n",
       "3      1 2010-02-26    1409727.59             0        46.63       2.561   \n",
       "4      1 2010-05-03    1554806.68             0        46.50       2.625   \n",
       "\n",
       "          CPI  Unemployment  Day  Month  Year  \n",
       "0  211.096358         8.106    2      5  2010  \n",
       "1  211.242170         8.106    2     12  2010  \n",
       "2  211.289143         8.106   19      2  2010  \n",
       "3  211.319643         8.106   26      2  2010  \n",
       "4  211.350143         8.106    3      5  2010  "
      ]
     },
     "execution_count": 9,
     "metadata": {},
     "output_type": "execute_result"
    }
   ],
   "source": [
    "# Splitting the Date into Day Month and Year\n",
    "walmart_data['Day'] = pd.DatetimeIndex(walmart_data['Date']).day\n",
    "walmart_data['Month'] = pd.DatetimeIndex(walmart_data['Date']).month\n",
    "walmart_data['Year'] = pd.DatetimeIndex(walmart_data['Date']).year\n",
    "walmart_data.head()"
   ]
  },
  {
   "cell_type": "markdown",
   "id": "11c4646e",
   "metadata": {},
   "source": [
    "# Analysis Tasks\n",
    "# Basic Statistics tasks"
   ]
  },
  {
   "cell_type": "markdown",
   "id": "a6629893",
   "metadata": {},
   "source": [
    "# 1. Which store has maximum sales"
   ]
  },
  {
   "cell_type": "code",
   "execution_count": 10,
   "id": "748ffb7d",
   "metadata": {},
   "outputs": [
    {
     "data": {
      "text/plain": [
       "Store\n",
       "1     2.224028e+08\n",
       "2     2.753824e+08\n",
       "3     5.758674e+07\n",
       "4     2.995440e+08\n",
       "5     4.547569e+07\n",
       "6     2.237561e+08\n",
       "7     8.159828e+07\n",
       "8     1.299512e+08\n",
       "9     7.778922e+07\n",
       "10    2.716177e+08\n",
       "11    1.939628e+08\n",
       "12    1.442872e+08\n",
       "13    2.865177e+08\n",
       "14    2.889999e+08\n",
       "15    8.913368e+07\n",
       "16    7.425243e+07\n",
       "17    1.277821e+08\n",
       "18    1.551147e+08\n",
       "19    2.066349e+08\n",
       "20    3.013978e+08\n",
       "21    1.081179e+08\n",
       "22    1.470756e+08\n",
       "23    1.987506e+08\n",
       "24    1.940160e+08\n",
       "25    1.010612e+08\n",
       "26    1.434164e+08\n",
       "27    2.538559e+08\n",
       "28    1.892637e+08\n",
       "29    7.714155e+07\n",
       "30    6.271689e+07\n",
       "31    1.996139e+08\n",
       "32    1.668192e+08\n",
       "33    3.716022e+07\n",
       "34    1.382498e+08\n",
       "35    1.315207e+08\n",
       "36    5.341221e+07\n",
       "37    7.420274e+07\n",
       "38    5.515963e+07\n",
       "39    2.074455e+08\n",
       "40    1.378703e+08\n",
       "41    1.813419e+08\n",
       "42    7.956575e+07\n",
       "43    9.056544e+07\n",
       "44    4.329309e+07\n",
       "45    1.123953e+08\n",
       "Name: Weekly_Sales, dtype: float64"
      ]
     },
     "execution_count": 10,
     "metadata": {},
     "output_type": "execute_result"
    }
   ],
   "source": [
    "# we will group the data by store and get the sum of weekly sales\n",
    "max_sales = walmart_data.groupby('Store')['Weekly_Sales'].sum()\n",
    "max_sales"
   ]
  },
  {
   "cell_type": "code",
   "execution_count": 11,
   "id": "7bf604d5",
   "metadata": {},
   "outputs": [
    {
     "data": {
      "text/plain": [
       "20"
      ]
     },
     "execution_count": 11,
     "metadata": {},
     "output_type": "execute_result"
    }
   ],
   "source": [
    "max_sales.idxmax() # to see which value is maximum"
   ]
  },
  {
   "cell_type": "code",
   "execution_count": 12,
   "id": "4890df45",
   "metadata": {},
   "outputs": [
    {
     "data": {
      "image/png": "[encoded data removed]",
      "text/plain": [
       "<Figure size 720x720 with 1 Axes>"
      ]
     },
     "metadata": {
      "needs_background": "light"
     },
     "output_type": "display_data"
    }
   ],
   "source": [
    "# Lets create a barplot of Maximum Sales by Store\n",
    "plt.figure(figsize=(10,10))\n",
    "max_sales.plot(kind='bar')\n",
    "plt.xlabel('Store')\n",
    "plt.ylabel('Weekly Sales')\n",
    "plt.title('Barplot of Maximum Sales by Store')\n",
    "plt.show()"
   ]
  },
  {
   "cell_type": "markdown",
   "id": "0d24e80d",
   "metadata": {},
   "source": [
    "# So Store number 20 has the maximum sales of 301397800.0"
   ]
  },
  {
   "cell_type": "markdown",
   "id": "1cac6d44",
   "metadata": {},
   "source": [
    "# 2. Which store has maximum standard deviation i.e., the sales vary a lot. Also, find out the coefficient of mean to standard deviation"
   ]
  },
  {
   "cell_type": "code",
   "execution_count": 13,
   "id": "698586e1",
   "metadata": {},
   "outputs": [
    {
     "data": {
      "text/plain": [
       "Store\n",
       "1     155980.767761\n",
       "2     237683.694682\n",
       "3      46319.631557\n",
       "4     266201.442297\n",
       "5      37737.965745\n",
       "6     212525.855862\n",
       "7     112585.469220\n",
       "8     106280.829881\n",
       "9      69028.666585\n",
       "10    302262.062504\n",
       "11    165833.887863\n",
       "12    139166.871880\n",
       "13    265506.995776\n",
       "14    317569.949476\n",
       "15    120538.652043\n",
       "16     85769.680133\n",
       "17    112162.936087\n",
       "18    176641.510839\n",
       "19    191722.638730\n",
       "20    275900.562742\n",
       "21    128752.812853\n",
       "22    161251.350631\n",
       "23    249788.038068\n",
       "24    167745.677567\n",
       "25    112976.788600\n",
       "26    110431.288141\n",
       "27    239930.135688\n",
       "28    181758.967539\n",
       "29     99120.136596\n",
       "30     22809.665590\n",
       "31    125855.942933\n",
       "32    138017.252087\n",
       "33     24132.927322\n",
       "34    104630.164676\n",
       "35    211243.457791\n",
       "36     60725.173579\n",
       "37     21837.461190\n",
       "38     42768.169450\n",
       "39    217466.454833\n",
       "40    119002.112858\n",
       "41    187907.162766\n",
       "42     50262.925530\n",
       "43     40598.413260\n",
       "44     24762.832015\n",
       "45    130168.526635\n",
       "Name: Weekly_Sales, dtype: float64"
      ]
     },
     "execution_count": 13,
     "metadata": {},
     "output_type": "execute_result"
    }
   ],
   "source": [
    "# we will group the data by store and get the std deviation of weekly sales\n",
    "std_dev = walmart_data.groupby('Store')['Weekly_Sales'].std()\n",
    "std_dev"
   ]
  },
  {
   "cell_type": "code",
   "execution_count": 14,
   "id": "d388622f",
   "metadata": {},
   "outputs": [
    {
     "data": {
      "text/plain": [
       "14"
      ]
     },
     "execution_count": 14,
     "metadata": {},
     "output_type": "execute_result"
    }
   ],
   "source": [
    "std_dev.idxmax() # to see which value is maximum"
   ]
  },
  {
   "cell_type": "code",
   "execution_count": 15,
   "id": "f088e3c8",
   "metadata": {},
   "outputs": [
    {
     "data": {
      "image/png": "[encoded data removed]",
      "text/plain": [
       "<Figure size 720x720 with 1 Axes>"
      ]
     },
     "metadata": {
      "needs_background": "light"
     },
     "output_type": "display_data"
    }
   ],
   "source": [
    "# Lets create a barplot of Maximum Standard Deviation by Store\n",
    "plt.figure(figsize=(10,10))\n",
    "std_dev.plot(kind='bar')\n",
    "plt.xlabel('Store')\n",
    "plt.ylabel('Weekly Sales')\n",
    "plt.title('Barplot of Maximum Standard Deviation by Store')\n",
    "plt.show()"
   ]
  },
  {
   "cell_type": "markdown",
   "id": "e2355723",
   "metadata": {},
   "source": [
    "# So Store number 14 has maximum Standard Deviation of 317569.949476"
   ]
  },
  {
   "cell_type": "code",
   "execution_count": 16,
   "id": "b6a042bd",
   "metadata": {},
   "outputs": [
    {
     "data": {
      "text/plain": [
       "Store\n",
       "1     0.100292\n",
       "2     0.123424\n",
       "3     0.115021\n",
       "4     0.127083\n",
       "5     0.118668\n",
       "6     0.135823\n",
       "7     0.197305\n",
       "8     0.116953\n",
       "9     0.126895\n",
       "10    0.159133\n",
       "11    0.122262\n",
       "12    0.137925\n",
       "13    0.132514\n",
       "14    0.157137\n",
       "15    0.193384\n",
       "16    0.165181\n",
       "17    0.125521\n",
       "18    0.162845\n",
       "19    0.132680\n",
       "20    0.130903\n",
       "21    0.170292\n",
       "22    0.156783\n",
       "23    0.179721\n",
       "24    0.123637\n",
       "25    0.159860\n",
       "26    0.110111\n",
       "27    0.135155\n",
       "28    0.137330\n",
       "29    0.183742\n",
       "30    0.052008\n",
       "31    0.090161\n",
       "32    0.118310\n",
       "33    0.092868\n",
       "34    0.108225\n",
       "35    0.229681\n",
       "36    0.162579\n",
       "37    0.042084\n",
       "38    0.110875\n",
       "39    0.149908\n",
       "40    0.123430\n",
       "41    0.148177\n",
       "42    0.090335\n",
       "43    0.064104\n",
       "44    0.081793\n",
       "45    0.165613\n",
       "Name: Weekly_Sales, dtype: float64"
      ]
     },
     "execution_count": 16,
     "metadata": {},
     "output_type": "execute_result"
    }
   ],
   "source": [
    "# coefficient of mean to standard deviation = stddev() / mean()\n",
    "coef_mean_stddev = walmart_data.groupby('Store')['Weekly_Sales'].std() / walmart_data.groupby('Store')['Weekly_Sales'].mean()\n",
    "coef_mean_stddev"
   ]
  },
  {
   "cell_type": "code",
   "execution_count": 17,
   "id": "3da8e0bf",
   "metadata": {},
   "outputs": [
    {
     "data": {
      "text/plain": [
       "35"
      ]
     },
     "execution_count": 17,
     "metadata": {},
     "output_type": "execute_result"
    }
   ],
   "source": [
    "coef_mean_stddev.idxmax() # to see which value is maximum"
   ]
  },
  {
   "cell_type": "code",
   "execution_count": 18,
   "id": "e6494c4c",
   "metadata": {},
   "outputs": [
    {
     "data": {
      "image/png": "[encoded data removed]",
      "text/plain": [
       "<Figure size 720x720 with 1 Axes>"
      ]
     },
     "metadata": {
      "needs_background": "light"
     },
     "output_type": "display_data"
    }
   ],
   "source": [
    "# Lets create a Barplot of Maximum coefficient of mean to standard deviation by Store\n",
    "plt.figure(figsize=(10,10))\n",
    "coef_mean_stddev.plot(kind='bar')\n",
    "plt.xlabel('Store')\n",
    "plt.ylabel('Weekly Sales')\n",
    "plt.title('Barplot of Maximum coefficient of mean to standard deviation by Store')\n",
    "plt.show()"
   ]
  },
  {
   "cell_type": "markdown",
   "id": "afac97d3",
   "metadata": {},
   "source": [
    "# So Store number 35 has the maximum coefficient of mean to standard deviation of 0.229681"
   ]
  },
  {
   "cell_type": "markdown",
   "id": "ec917557",
   "metadata": {},
   "source": [
    "# 3. Which store/s has good quarterly growth rate in Q3’2012"
   ]
  },
  {
   "cell_type": "code",
   "execution_count": 19,
   "id": "d53b278c",
   "metadata": {},
   "outputs": [
    {
     "data": {
      "text/plain": [
       "(540, 11)"
      ]
     },
     "execution_count": 19,
     "metadata": {},
     "output_type": "execute_result"
    }
   ],
   "source": [
    "# Quarter 3 starts on July 1 and end on September 30 of a year\n",
    "Quarter3 = walmart_data[(walmart_data.Date>='2012-07-01') & (walmart_data.Date<='2012-09-30')]\n",
    "Quarter3.shape"
   ]
  },
  {
   "cell_type": "code",
   "execution_count": 20,
   "id": "bd33e6d3",
   "metadata": {},
   "outputs": [
    {
     "data": {
      "text/html": [
       "<div>\n",
       "<style scoped>\n",
       "    .dataframe tbody tr th:only-of-type {\n",
       "        vertical-align: middle;\n",
       "    }\n",
       "\n",
       "    .dataframe tbody tr th {\n",
       "        vertical-align: top;\n",
       "    }\n",
       "\n",
       "    .dataframe thead th {\n",
       "        text-align: right;\n",
       "    }\n",
       "</style>\n",
       "<table border=\"1\" class=\"dataframe\">\n",
       "  <thead>\n",
       "    <tr style=\"text-align: right;\">\n",
       "      <th></th>\n",
       "      <th>Store</th>\n",
       "      <th>Date</th>\n",
       "      <th>Weekly_Sales</th>\n",
       "      <th>Holiday_Flag</th>\n",
       "      <th>Temperature</th>\n",
       "      <th>Fuel_Price</th>\n",
       "      <th>CPI</th>\n",
       "      <th>Unemployment</th>\n",
       "      <th>Day</th>\n",
       "      <th>Month</th>\n",
       "      <th>Year</th>\n",
       "    </tr>\n",
       "  </thead>\n",
       "  <tbody>\n",
       "    <tr>\n",
       "      <th>109</th>\n",
       "      <td>1</td>\n",
       "      <td>2012-09-03</td>\n",
       "      <td>1675431.16</td>\n",
       "      <td>0</td>\n",
       "      <td>58.76</td>\n",
       "      <td>3.669</td>\n",
       "      <td>221.059189</td>\n",
       "      <td>7.348</td>\n",
       "      <td>3</td>\n",
       "      <td>9</td>\n",
       "      <td>2012</td>\n",
       "    </tr>\n",
       "    <tr>\n",
       "      <th>122</th>\n",
       "      <td>1</td>\n",
       "      <td>2012-08-06</td>\n",
       "      <td>1697230.96</td>\n",
       "      <td>0</td>\n",
       "      <td>78.30</td>\n",
       "      <td>3.452</td>\n",
       "      <td>221.749484</td>\n",
       "      <td>7.143</td>\n",
       "      <td>6</td>\n",
       "      <td>8</td>\n",
       "      <td>2012</td>\n",
       "    </tr>\n",
       "    <tr>\n",
       "      <th>127</th>\n",
       "      <td>1</td>\n",
       "      <td>2012-07-13</td>\n",
       "      <td>1527014.04</td>\n",
       "      <td>0</td>\n",
       "      <td>77.12</td>\n",
       "      <td>3.256</td>\n",
       "      <td>221.924158</td>\n",
       "      <td>6.908</td>\n",
       "      <td>13</td>\n",
       "      <td>7</td>\n",
       "      <td>2012</td>\n",
       "    </tr>\n",
       "    <tr>\n",
       "      <th>128</th>\n",
       "      <td>1</td>\n",
       "      <td>2012-07-20</td>\n",
       "      <td>1497954.76</td>\n",
       "      <td>0</td>\n",
       "      <td>80.42</td>\n",
       "      <td>3.311</td>\n",
       "      <td>221.932727</td>\n",
       "      <td>6.908</td>\n",
       "      <td>20</td>\n",
       "      <td>7</td>\n",
       "      <td>2012</td>\n",
       "    </tr>\n",
       "    <tr>\n",
       "      <th>129</th>\n",
       "      <td>1</td>\n",
       "      <td>2012-07-27</td>\n",
       "      <td>1439123.71</td>\n",
       "      <td>0</td>\n",
       "      <td>82.66</td>\n",
       "      <td>3.407</td>\n",
       "      <td>221.941295</td>\n",
       "      <td>6.908</td>\n",
       "      <td>27</td>\n",
       "      <td>7</td>\n",
       "      <td>2012</td>\n",
       "    </tr>\n",
       "  </tbody>\n",
       "</table>\n",
       "</div>"
      ],
      "text/plain": [
       "     Store       Date  Weekly_Sales  Holiday_Flag  Temperature  Fuel_Price  \\\n",
       "109      1 2012-09-03    1675431.16             0        58.76       3.669   \n",
       "122      1 2012-08-06    1697230.96             0        78.30       3.452   \n",
       "127      1 2012-07-13    1527014.04             0        77.12       3.256   \n",
       "128      1 2012-07-20    1497954.76             0        80.42       3.311   \n",
       "129      1 2012-07-27    1439123.71             0        82.66       3.407   \n",
       "\n",
       "            CPI  Unemployment  Day  Month  Year  \n",
       "109  221.059189         7.348    3      9  2012  \n",
       "122  221.749484         7.143    6      8  2012  \n",
       "127  221.924158         6.908   13      7  2012  \n",
       "128  221.932727         6.908   20      7  2012  \n",
       "129  221.941295         6.908   27      7  2012  "
      ]
     },
     "execution_count": 20,
     "metadata": {},
     "output_type": "execute_result"
    }
   ],
   "source": [
    "Quarter3.head() # to get first five records"
   ]
  },
  {
   "cell_type": "code",
   "execution_count": 21,
   "id": "e226e65e",
   "metadata": {},
   "outputs": [
    {
     "data": {
      "text/plain": [
       "Store\n",
       "1     18633209.98\n",
       "2     22396867.61\n",
       "3      4966495.93\n",
       "4     25652119.35\n",
       "5      3880621.88\n",
       "6     18341221.11\n",
       "7      7322393.92\n",
       "8     10873860.34\n",
       "9      6528239.56\n",
       "10    21169356.45\n",
       "11    16094363.07\n",
       "12    11777508.50\n",
       "13    24319994.35\n",
       "14    20140430.40\n",
       "15     6909374.37\n",
       "16     6441311.11\n",
       "17    11533998.38\n",
       "18    12507521.72\n",
       "19    16644341.31\n",
       "20    24665938.11\n",
       "21     8403507.99\n",
       "22    11818544.33\n",
       "23    17103654.36\n",
       "24    16125999.86\n",
       "25     8309440.44\n",
       "26    12417575.35\n",
       "27    20191238.11\n",
       "28    15055659.67\n",
       "29     6127862.07\n",
       "30     5181974.44\n",
       "31    16454328.46\n",
       "32    14142164.84\n",
       "33     3177072.43\n",
       "34    11476258.98\n",
       "35    10252122.68\n",
       "36     3578123.58\n",
       "37     6250524.08\n",
       "38     5129297.64\n",
       "39    18899955.17\n",
       "40    11647661.37\n",
       "41    16373588.44\n",
       "42     6830839.86\n",
       "43     7376726.03\n",
       "44     4020486.01\n",
       "45     8851242.32\n",
       "Name: Weekly_Sales, dtype: float64"
      ]
     },
     "execution_count": 21,
     "metadata": {},
     "output_type": "execute_result"
    }
   ],
   "source": [
    "# we will group the data by store and get the sum of weekly sales\n",
    "Q3_max = Quarter3.groupby('Store')['Weekly_Sales'].sum()\n",
    "Q3_max"
   ]
  },
  {
   "cell_type": "code",
   "execution_count": 22,
   "id": "a6401466",
   "metadata": {},
   "outputs": [
    {
     "data": {
      "text/plain": [
       "4"
      ]
     },
     "execution_count": 22,
     "metadata": {},
     "output_type": "execute_result"
    }
   ],
   "source": [
    "Q3_max.idxmax() # to see which value is maximum"
   ]
  },
  {
   "cell_type": "code",
   "execution_count": 23,
   "id": "503cf3e1",
   "metadata": {},
   "outputs": [
    {
     "data": {
      "image/png": "[encoded data removed]",
      "text/plain": [
       "<Figure size 720x720 with 1 Axes>"
      ]
     },
     "metadata": {
      "needs_background": "light"
     },
     "output_type": "display_data"
    }
   ],
   "source": [
    "# Lets create Barplot of quarterly growth rate in Q3’2012 by Store \n",
    "plt.figure(figsize=(10,10))\n",
    "Q3_max.plot(kind='bar')\n",
    "plt.xlabel('Store')\n",
    "plt.ylabel('Weekly Sales')\n",
    "plt.title('Barplot of quarterly growth rate in Q3’2012 by Store')\n",
    "plt.show()"
   ]
  },
  {
   "cell_type": "markdown",
   "id": "905fe3b2",
   "metadata": {},
   "source": [
    "# So Store number 4 has highest quarterly growth in Q3'2012 of 25652119.35"
   ]
  },
  {
   "cell_type": "markdown",
   "id": "2303bbc3",
   "metadata": {},
   "source": [
    "# 4. Some holidays have a negative impact on sales. Find out holidays which have higher sales than the mean sales in non-holiday season for all stores together"
   ]
  },
  {
   "cell_type": "code",
   "execution_count": 24,
   "id": "1472c5ea",
   "metadata": {},
   "outputs": [],
   "source": [
    "# Holiday Events\n",
    "Super_Bowl =['12-2-2010', '11-2-2011', '10-2-2012']\n",
    "Labour_Day =  ['10-9-2010', '9-9-2011', '7-9-2012']\n",
    "Thanksgiving =  ['26-11-2010', '25-11-2011', '23-11-2012']\n",
    "Christmas = ['31-12-2010', '30-12-2011', '28-12-2012']"
   ]
  },
  {
   "cell_type": "code",
   "execution_count": 25,
   "id": "e921da3a",
   "metadata": {},
   "outputs": [],
   "source": [
    "# creating separate data of holiday events\n",
    "Super_Bowl_df = walmart_data.loc[walmart_data.Date.isin(Super_Bowl)]\n",
    "Labour_Day_df = walmart_data.loc[walmart_data.Date.isin(Labour_Day)]\n",
    "Thanksgiving_df = walmart_data.loc[walmart_data.Date.isin(Thanksgiving)]\n",
    "Christmas_df = walmart_data.loc[walmart_data.Date.isin(Christmas)]"
   ]
  },
  {
   "cell_type": "code",
   "execution_count": 26,
   "id": "f37907f6",
   "metadata": {},
   "outputs": [
    {
     "name": "stdout",
     "output_type": "stream",
     "text": [
      "(135, 11)\n",
      "(135, 11)\n",
      "(90, 11)\n",
      "(90, 11)\n"
     ]
    }
   ],
   "source": [
    "# to get the shape of each holiday events data\n",
    "print(Super_Bowl_df.shape)\n",
    "print(Labour_Day_df.shape)\n",
    "print(Thanksgiving_df.shape)\n",
    "print(Christmas_df.shape)"
   ]
  },
  {
   "cell_type": "code",
   "execution_count": 27,
   "id": "6bb3b06f",
   "metadata": {},
   "outputs": [
    {
     "data": {
      "text/plain": [
       "(6435, 11)"
      ]
     },
     "execution_count": 27,
     "metadata": {},
     "output_type": "execute_result"
    }
   ],
   "source": [
    "# creating a copy of walmart data for the analysis\n",
    "Total_Sales = walmart_data\n",
    "Total_Sales.shape # to see rows and columns present in the data"
   ]
  },
  {
   "cell_type": "code",
   "execution_count": 28,
   "id": "7664e547",
   "metadata": {},
   "outputs": [],
   "source": [
    "# Removing the data containing Super_Bowl holiday\n",
    "Total_Sales = Total_Sales[Total_Sales.Date!='12-2-2010']\n",
    "Total_Sales = Total_Sales[Total_Sales.Date!='11-2-2011']\n",
    "Total_Sales = Total_Sales[Total_Sales.Date!='10-2-2012']"
   ]
  },
  {
   "cell_type": "code",
   "execution_count": 29,
   "id": "ff0a62a8",
   "metadata": {},
   "outputs": [],
   "source": [
    "# Removing the data containing Labour_Day holiday\n",
    "Total_Sales = Total_Sales[Total_Sales.Date!='10-9-2010']\n",
    "Total_Sales = Total_Sales[Total_Sales.Date!='9-9-2011']\n",
    "Total_Sales = Total_Sales[Total_Sales.Date!='7-9-2012']"
   ]
  },
  {
   "cell_type": "code",
   "execution_count": 30,
   "id": "c3fffbfe",
   "metadata": {},
   "outputs": [],
   "source": [
    "# Removing the data containing Thanksgiving holiday\n",
    "Total_Sales = Total_Sales[Total_Sales.Date!='26-11-2010']\n",
    "Total_Sales = Total_Sales[Total_Sales.Date!='25-11-2011']\n",
    "Total_Sales = Total_Sales[Total_Sales.Date!='23-11-2012']"
   ]
  },
  {
   "cell_type": "code",
   "execution_count": 31,
   "id": "045b5921",
   "metadata": {},
   "outputs": [],
   "source": [
    "# Removing the data containing Christmas holiday\n",
    "Total_Sales = Total_Sales[Total_Sales.Date!='31-12-2010']\n",
    "Total_Sales = Total_Sales[Total_Sales.Date!='30-12-2011']\n",
    "Total_Sales = Total_Sales[Total_Sales.Date!='28-12-2012']"
   ]
  },
  {
   "cell_type": "code",
   "execution_count": 32,
   "id": "53c20e97",
   "metadata": {},
   "outputs": [
    {
     "data": {
      "text/plain": [
       "(5985, 11)"
      ]
     },
     "execution_count": 32,
     "metadata": {},
     "output_type": "execute_result"
    }
   ],
   "source": [
    "Total_Sales.shape # to see rows and columns present in the data"
   ]
  },
  {
   "cell_type": "code",
   "execution_count": 33,
   "id": "ff25a08b",
   "metadata": {},
   "outputs": [
    {
     "data": {
      "text/plain": [
       "1041256.3802088564"
      ]
     },
     "execution_count": 33,
     "metadata": {},
     "output_type": "execute_result"
    }
   ],
   "source": [
    "# Lets calculate the mean sales in non-holiday season for all stores together\n",
    "Total_Sales_non_holiday = Total_Sales.Weekly_Sales.mean()\n",
    "Total_Sales_non_holiday"
   ]
  },
  {
   "cell_type": "code",
   "execution_count": 34,
   "id": "f6d52457",
   "metadata": {},
   "outputs": [
    {
     "name": "stdout",
     "output_type": "stream",
     "text": [
      "145682278.34\n",
      "1079127.9877037033\n"
     ]
    }
   ],
   "source": [
    "# Lets calculate mean and total sales for Super Bowl\n",
    "Super_Bowl_sum = Super_Bowl_df.Weekly_Sales.sum()\n",
    "print(Super_Bowl_sum)\n",
    "Super_Bowl_mean = Super_Bowl_df.Weekly_Sales.mean()\n",
    "print(Super_Bowl_mean)"
   ]
  },
  {
   "cell_type": "code",
   "execution_count": 35,
   "id": "13eaac5b",
   "metadata": {},
   "outputs": [
    {
     "name": "stdout",
     "output_type": "stream",
     "text": [
      "140727684.68\n",
      "1042427.2939259257\n"
     ]
    }
   ],
   "source": [
    "# Lets calculate mean and total sales for Labour Day\n",
    "Labour_Day_sum = Labour_Day_df.Weekly_Sales.sum()\n",
    "print(Labour_Day_sum)\n",
    "Labour_Day_mean = Labour_Day_df.Weekly_Sales.mean()\n",
    "print(Labour_Day_mean)"
   ]
  },
  {
   "cell_type": "code",
   "execution_count": 36,
   "id": "f5b55fbd",
   "metadata": {},
   "outputs": [
    {
     "name": "stdout",
     "output_type": "stream",
     "text": [
      "132414608.5\n",
      "1471273.427777778\n"
     ]
    }
   ],
   "source": [
    "# Lets calculate mean and total sales for Thanksgiving Day\n",
    "Thanksgiving_sum = Thanksgiving_df.Weekly_Sales.sum()\n",
    "print(Thanksgiving_sum)\n",
    "Thanksgiving_mean = Thanksgiving_df.Weekly_Sales.mean()\n",
    "print(Thanksgiving_mean)"
   ]
  },
  {
   "cell_type": "code",
   "execution_count": 37,
   "id": "b945c6e4",
   "metadata": {},
   "outputs": [
    {
     "name": "stdout",
     "output_type": "stream",
     "text": [
      "86474980.03999999\n",
      "960833.1115555551\n"
     ]
    }
   ],
   "source": [
    "# Lets calculate Christmas Day total Sales\n",
    "Christmas_sum = Christmas_df.Weekly_Sales.sum()\n",
    "print(Christmas_sum)\n",
    "Christmas_mean = Christmas_df.Weekly_Sales.mean()\n",
    "print(Christmas_mean)"
   ]
  },
  {
   "cell_type": "markdown",
   "id": "a43677c7",
   "metadata": {},
   "source": [
    "# Lets compare the total and mean sales during holiday season and mean sales during non-holiday season"
   ]
  },
  {
   "cell_type": "code",
   "execution_count": 38,
   "id": "c07e0098",
   "metadata": {},
   "outputs": [
    {
     "name": "stdout",
     "output_type": "stream",
     "text": [
      "True\n",
      "True\n",
      "True\n",
      "True\n",
      "True\n",
      "True\n",
      "True\n",
      "False\n"
     ]
    }
   ],
   "source": [
    "print(Super_Bowl_sum>Total_Sales_non_holiday)\n",
    "print(Labour_Day_sum>Total_Sales_non_holiday)\n",
    "print(Thanksgiving_sum>Total_Sales_non_holiday)\n",
    "print(Christmas_sum>Total_Sales_non_holiday)\n",
    "print(Super_Bowl_mean>Total_Sales_non_holiday)\n",
    "print(Labour_Day_mean>Total_Sales_non_holiday)\n",
    "print(Thanksgiving_mean>Total_Sales_non_holiday)\n",
    "print(Christmas_mean>Total_Sales_non_holiday)"
   ]
  },
  {
   "cell_type": "markdown",
   "id": "e30e5f48",
   "metadata": {},
   "source": [
    "# So from above analysis we can see that the sales are higher for Super Bowl, Labour Day, Thanksgiving Day but it decreases during Christmas Day"
   ]
  },
  {
   "cell_type": "markdown",
   "id": "c9918d62",
   "metadata": {},
   "source": [
    "# 5 Provide a monthly and semester view of sales in units and give insights"
   ]
  },
  {
   "cell_type": "markdown",
   "id": "9d5317ed",
   "metadata": {},
   "source": [
    "# Monthly view of sales according to year 2010, 2011, 2012"
   ]
  },
  {
   "cell_type": "code",
   "execution_count": 39,
   "id": "d239f8eb",
   "metadata": {},
   "outputs": [
    {
     "data": {
      "text/plain": [
       "Month\n",
       "1     4.223988e+07\n",
       "2     1.915869e+08\n",
       "3     1.862262e+08\n",
       "4     1.838118e+08\n",
       "5     2.806119e+08\n",
       "6     1.424361e+08\n",
       "7     1.842664e+08\n",
       "8     1.845381e+08\n",
       "9     1.797041e+08\n",
       "10    2.311201e+08\n",
       "11    1.587731e+08\n",
       "12    3.235716e+08\n",
       "Name: Weekly_Sales, dtype: float64"
      ]
     },
     "execution_count": 39,
     "metadata": {},
     "output_type": "execute_result"
    }
   ],
   "source": [
    "# monthly sales of year 2010\n",
    "monthly_2010 = walmart_data[walmart_data.Year==2010].groupby('Month')['Weekly_Sales'].sum()\n",
    "monthly_2010"
   ]
  },
  {
   "cell_type": "code",
   "execution_count": 40,
   "id": "a0a3fe8c",
   "metadata": {},
   "outputs": [
    {
     "name": "stdout",
     "output_type": "stream",
     "text": [
      "12\n",
      "1\n"
     ]
    }
   ],
   "source": [
    "print(monthly_2010.idxmax()) # to see which value is maximum\n",
    "print(monthly_2010.idxmin()) # to see which value is minimum"
   ]
  },
  {
   "cell_type": "code",
   "execution_count": 41,
   "id": "8d763bed",
   "metadata": {},
   "outputs": [
    {
     "data": {
      "image/png": "[encoded data removed]",
      "text/plain": [
       "<Figure size 720x720 with 1 Axes>"
      ]
     },
     "metadata": {
      "needs_background": "light"
     },
     "output_type": "display_data"
    }
   ],
   "source": [
    "# Lets create Barplot of Weekly Sales in 2010 by Month\n",
    "plt.figure(figsize=(10,10))\n",
    "monthly_2010.plot(kind='bar')\n",
    "plt.xlabel('Month')\n",
    "plt.ylabel('Weekly Sales')\n",
    "plt.title('Barplot of Weekly Sales in 2010 by Month')\n",
    "plt.show()"
   ]
  },
  {
   "cell_type": "markdown",
   "id": "745b8d5b",
   "metadata": {},
   "source": [
    "# From above analysis we see that the maximum weekly sales are in December month of 2010 with sales = 323571600.0 and mimimum weekly sales are in January month on 2010 with sales = 42239880.0"
   ]
  },
  {
   "cell_type": "code",
   "execution_count": 42,
   "id": "c9d16962",
   "metadata": {},
   "outputs": [
    {
     "data": {
      "text/plain": [
       "Month\n",
       "1     2.119657e+08\n",
       "2     1.876092e+08\n",
       "3     1.365205e+08\n",
       "4     2.789693e+08\n",
       "5     1.828017e+08\n",
       "6     1.401936e+08\n",
       "7     2.244611e+08\n",
       "8     1.880810e+08\n",
       "9     2.310323e+08\n",
       "10    1.837193e+08\n",
       "11    2.534703e+08\n",
       "12    2.293760e+08\n",
       "Name: Weekly_Sales, dtype: float64"
      ]
     },
     "execution_count": 42,
     "metadata": {},
     "output_type": "execute_result"
    }
   ],
   "source": [
    "# monthly sales of year 2011\n",
    "monthly_2011 = walmart_data[walmart_data.Year==2011].groupby('Month')['Weekly_Sales'].sum()\n",
    "monthly_2011"
   ]
  },
  {
   "cell_type": "code",
   "execution_count": 43,
   "id": "1e3605b8",
   "metadata": {},
   "outputs": [
    {
     "name": "stdout",
     "output_type": "stream",
     "text": [
      "4\n",
      "3\n"
     ]
    }
   ],
   "source": [
    "print(monthly_2011.idxmax()) # to see which value is maximum\n",
    "print(monthly_2011.idxmin()) # to see which value is minimum"
   ]
  },
  {
   "cell_type": "code",
   "execution_count": 44,
   "id": "72f77ecd",
   "metadata": {},
   "outputs": [
    {
     "data": {
      "image/png": "[encoded data removed]",
      "text/plain": [
       "<Figure size 720x720 with 1 Axes>"
      ]
     },
     "metadata": {
      "needs_background": "light"
     },
     "output_type": "display_data"
    }
   ],
   "source": [
    "# Lets create Barplot of Weekly Sales in 2011 by Month \n",
    "plt.figure(figsize=(10,10))\n",
    "monthly_2011.plot(kind='bar')\n",
    "plt.xlabel('Month')\n",
    "plt.ylabel('Weekly Sales')\n",
    "plt.title('Barplot of Weekly Sales in 2011 by Month')\n",
    "plt.show()"
   ]
  },
  {
   "cell_type": "markdown",
   "id": "111a72cc",
   "metadata": {},
   "source": [
    "# From above analysis we see that the maximum weekly sales are in April month of 2011 with sales = 278969300.0 and minimum weekly sales are in March month of 2011 with sales = 136520500.0"
   ]
  },
  {
   "cell_type": "code",
   "execution_count": 45,
   "id": "08f9abc4",
   "metadata": {},
   "outputs": [
    {
     "data": {
      "text/plain": [
       "Month\n",
       "1     1.722207e+08\n",
       "2     1.428296e+08\n",
       "3     2.307397e+08\n",
       "4     1.825428e+08\n",
       "5     1.422830e+08\n",
       "6     2.923883e+08\n",
       "7     1.845865e+08\n",
       "8     1.916126e+08\n",
       "9     1.797959e+08\n",
       "10    1.880794e+08\n",
       "11    4.692588e+07\n",
       "12    4.612851e+07\n",
       "Name: Weekly_Sales, dtype: float64"
      ]
     },
     "execution_count": 45,
     "metadata": {},
     "output_type": "execute_result"
    }
   ],
   "source": [
    "# monthly sales of year 2012\n",
    "monthly_2012 = walmart_data[walmart_data.Year==2012].groupby('Month')['Weekly_Sales'].sum()\n",
    "monthly_2012"
   ]
  },
  {
   "cell_type": "code",
   "execution_count": 46,
   "id": "64e6fe42",
   "metadata": {},
   "outputs": [
    {
     "name": "stdout",
     "output_type": "stream",
     "text": [
      "6\n",
      "12\n"
     ]
    }
   ],
   "source": [
    "print(monthly_2012.idxmax()) # to see which value is maximum\n",
    "print(monthly_2012.idxmin()) # to see which value is minimum"
   ]
  },
  {
   "cell_type": "code",
   "execution_count": 47,
   "id": "bebe6899",
   "metadata": {},
   "outputs": [
    {
     "data": {
      "image/png": "[encoded data removed]",
      "text/plain": [
       "<Figure size 720x720 with 1 Axes>"
      ]
     },
     "metadata": {
      "needs_background": "light"
     },
     "output_type": "display_data"
    }
   ],
   "source": [
    "# Lets create a Barplot of Weekly Sales in 2012 by Month\n",
    "plt.figure(figsize=(10,10))\n",
    "monthly_2012.plot(kind='bar')\n",
    "plt.xlabel('Month')\n",
    "plt.ylabel('Weekly Sales')\n",
    "plt.title('Barplot of Weekly Sales in 2012 by Month')\n",
    "plt.show()"
   ]
  },
  {
   "cell_type": "markdown",
   "id": "2fc73a63",
   "metadata": {},
   "source": [
    "# From above analysis we see that the maximum weekly sales are in June month of 2012 with sales = 292388300.0 and minimum weekly sales are in December month of 2012 with sales = 46128510.0"
   ]
  },
  {
   "cell_type": "markdown",
   "id": "07b22107",
   "metadata": {},
   "source": [
    "# Semester view of sales according to year 2010, 2011, 2012"
   ]
  },
  {
   "cell_type": "code",
   "execution_count": 48,
   "id": "e0d38d28",
   "metadata": {},
   "outputs": [],
   "source": [
    "# Creating a separate data for year 2010\n",
    "semester_2010 = walmart_data[walmart_data.Year==2010]\n",
    "\n",
    "# Lets create 1st semester\n",
    "\n",
    "semester_2010_1 = semester_2010[(semester_2010['Month']==1)|(semester_2010['Month']==2)\n",
    "                               |(semester_2010['Month']==3)|(semester_2010['Month']==4)\n",
    "                               |(semester_2010['Month']==5)|(semester_2010['Month']==6)]\n",
    "\n",
    "# Lets create 2nd semester\n",
    "\n",
    "semester_2010_2 = semester_2010[(semester_2010['Month']==7)|(semester_2010['Month']==8)\n",
    "                               |(semester_2010['Month']==9)|(semester_2010['Month']==10)\n",
    "                               |(semester_2010['Month']==11)|(semester_2010['Month']==12)]"
   ]
  },
  {
   "cell_type": "code",
   "execution_count": 49,
   "id": "8138a712",
   "metadata": {},
   "outputs": [
    {
     "data": {
      "text/plain": [
       "Store\n",
       "1     33033122.34\n",
       "2     42841056.12\n",
       "3      8525706.22\n",
       "4     42192339.87\n",
       "5      6701544.40\n",
       "6     35038565.05\n",
       "7     10815109.56\n",
       "8     19267863.01\n",
       "9     11344007.31\n",
       "10    42114139.70\n",
       "11    29366659.98\n",
       "12    21881590.98\n",
       "13    42335504.96\n",
       "14    48369011.45\n",
       "15    14137736.39\n",
       "16    10585095.48\n",
       "17    18384441.90\n",
       "18    25353625.63\n",
       "19    32603951.71\n",
       "20    45587134.62\n",
       "21    16443372.18\n",
       "22    22683525.07\n",
       "23    30114081.80\n",
       "24    29807171.18\n",
       "25    15805395.32\n",
       "26    21574270.44\n",
       "27    40147939.46\n",
       "28    30262163.02\n",
       "29    11919251.13\n",
       "30    10039188.67\n",
       "31    29359152.31\n",
       "32    24386054.80\n",
       "33     5983371.63\n",
       "34    20514537.03\n",
       "35    24451750.74\n",
       "36     9822181.04\n",
       "37    11278043.78\n",
       "38     7697803.57\n",
       "39    28840651.36\n",
       "40    20874790.31\n",
       "41    25095924.19\n",
       "42    11403188.13\n",
       "43    14345885.77\n",
       "44     6207927.12\n",
       "45    17376905.61\n",
       "Name: Weekly_Sales, dtype: float64"
      ]
     },
     "execution_count": 49,
     "metadata": {},
     "output_type": "execute_result"
    }
   ],
   "source": [
    "# Grouping the data of semester 1 by store and total weekly sum\n",
    "semester_2010_1_df = semester_2010_1.groupby('Store')['Weekly_Sales'].sum()\n",
    "semester_2010_1_df"
   ]
  },
  {
   "cell_type": "code",
   "execution_count": 50,
   "id": "6efebf6d",
   "metadata": {},
   "outputs": [
    {
     "name": "stdout",
     "output_type": "stream",
     "text": [
      "14\n",
      "33\n"
     ]
    }
   ],
   "source": [
    "print(semester_2010_1_df.idxmax()) # to see which value is maximum\n",
    "print(semester_2010_1_df.idxmin()) # to see which value is minimum"
   ]
  },
  {
   "cell_type": "code",
   "execution_count": 51,
   "id": "58b9e678",
   "metadata": {},
   "outputs": [
    {
     "data": {
      "image/png": "[encoded data removed]",
      "text/plain": [
       "<Figure size 720x720 with 1 Axes>"
      ]
     },
     "metadata": {
      "needs_background": "light"
     },
     "output_type": "display_data"
    }
   ],
   "source": [
    "# Lets create Barplot of Store-wise Weekly Sales in 1st semester 2010\n",
    "plt.figure(figsize=(10,10))\n",
    "semester_2010_1_df.plot(kind='bar')\n",
    "plt.xlabel('Store')\n",
    "plt.ylabel('Weekly Sales')\n",
    "plt.title('Barplot of Store-wise Weekly Sales in 1st semester 2010')\n",
    "plt.show()"
   ]
  },
  {
   "cell_type": "code",
   "execution_count": 52,
   "id": "5727108a",
   "metadata": {},
   "outputs": [
    {
     "data": {
      "text/plain": [
       "Store\n",
       "1     40245709.66\n",
       "2     52436808.07\n",
       "3     10219712.78\n",
       "4     53488130.94\n",
       "5      8134486.37\n",
       "6     41873755.64\n",
       "7     14752968.59\n",
       "8     23936611.83\n",
       "9     13785212.45\n",
       "10    52358062.51\n",
       "11    35888478.25\n",
       "12    26488792.88\n",
       "13    52937230.49\n",
       "14    57093230.93\n",
       "15    17885791.92\n",
       "16    14143537.11\n",
       "17    22720478.54\n",
       "18    30624791.67\n",
       "19    39976576.93\n",
       "20    56145946.10\n",
       "21    21187736.09\n",
       "22    28181755.34\n",
       "23    37595023.51\n",
       "24    37083477.06\n",
       "25    19330872.42\n",
       "26    26816427.34\n",
       "27    49865237.11\n",
       "28    34516601.91\n",
       "29    15027576.36\n",
       "30    11699897.96\n",
       "31    36201120.45\n",
       "32    30804881.88\n",
       "33     6783462.63\n",
       "34    25635879.76\n",
       "35    27744220.19\n",
       "36    11330944.65\n",
       "37    13230426.08\n",
       "38     8889990.95\n",
       "39    36941624.96\n",
       "40    25482569.21\n",
       "41    32642296.46\n",
       "42    14094901.78\n",
       "43    17191120.22\n",
       "44     7399592.33\n",
       "45    21159437.76\n",
       "Name: Weekly_Sales, dtype: float64"
      ]
     },
     "execution_count": 52,
     "metadata": {},
     "output_type": "execute_result"
    }
   ],
   "source": [
    "# Grouping the data of semester 2 by store and total weekly sum\n",
    "semester_2010_2_df = semester_2010_2.groupby('Store')['Weekly_Sales'].sum()\n",
    "semester_2010_2_df"
   ]
  },
  {
   "cell_type": "code",
   "execution_count": 53,
   "id": "32fb16a7",
   "metadata": {},
   "outputs": [
    {
     "name": "stdout",
     "output_type": "stream",
     "text": [
      "14\n",
      "33\n"
     ]
    }
   ],
   "source": [
    "print(semester_2010_2_df.idxmax()) # to see which value is maximum\n",
    "print(semester_2010_2_df.idxmin()) # to see which value is minimum"
   ]
  },
  {
   "cell_type": "code",
   "execution_count": 54,
   "id": "f1338945",
   "metadata": {},
   "outputs": [
    {
     "data": {
      "image/png": "[encoded data removed]",
      "text/plain": [
       "<Figure size 720x720 with 1 Axes>"
      ]
     },
     "metadata": {
      "needs_background": "light"
     },
     "output_type": "display_data"
    }
   ],
   "source": [
    "# Lets create Barplot of Store-wise Weekly Sales in 2nd semester 2010\n",
    "plt.figure(figsize=(10,10))\n",
    "semester_2010_2_df.plot(kind='bar')\n",
    "plt.xlabel('Store')\n",
    "plt.ylabel('Weekly Sales')\n",
    "plt.title('Barplot of Store-wise Weekly Sales in 2nd semester 2010')\n",
    "plt.show()"
   ]
  },
  {
   "cell_type": "markdown",
   "id": "318e5644",
   "metadata": {},
   "source": [
    "# From above analysis Store 14 has maximum sales during semester 1 and semester 2 of the year 2010 with sales = (48369011.45, 57093230.93) respectively and Store 33 has minimum sales during semester 1 and semester 2 of the year 2010 with sales = (5983371.63, 6783462.63) respectively"
   ]
  },
  {
   "cell_type": "code",
   "execution_count": 55,
   "id": "11d1da75",
   "metadata": {},
   "outputs": [],
   "source": [
    "# Creating a separate data for year 2011\n",
    "semester_2011 = walmart_data[walmart_data.Year==2011]\n",
    "\n",
    "# Lets create 1st semester\n",
    "\n",
    "semester_2011_1 = semester_2011[(semester_2011['Month']==1)|(semester_2011['Month']==2)\n",
    "                               |(semester_2011['Month']==3)|(semester_2011['Month']==4)\n",
    "                               |(semester_2011['Month']==5)|(semester_2011['Month']==6)]\n",
    "\n",
    "# Lets create 2nd semester\n",
    "\n",
    "semester_2011_2 = semester_2011[(semester_2011['Month']==7)|(semester_2011['Month']==8)\n",
    "                               |(semester_2011['Month']==9)|(semester_2011['Month']==10)\n",
    "                               |(semester_2011['Month']==11)|(semester_2011['Month']==12)]"
   ]
  },
  {
   "cell_type": "code",
   "execution_count": 56,
   "id": "85860227",
   "metadata": {},
   "outputs": [
    {
     "data": {
      "text/plain": [
       "Store\n",
       "1     38293559.24\n",
       "2     46280995.81\n",
       "3      9878911.38\n",
       "4     51238878.47\n",
       "5      7827646.62\n",
       "6     37742670.32\n",
       "7     13463532.94\n",
       "8     22431887.62\n",
       "9     13418673.03\n",
       "10    46002645.67\n",
       "11    32979834.61\n",
       "12    24731108.76\n",
       "13    48029057.39\n",
       "14    49411760.50\n",
       "15    14949612.31\n",
       "16    12129220.81\n",
       "17    21286937.26\n",
       "18    24952941.87\n",
       "19    34659164.14\n",
       "20    51247747.99\n",
       "21    18807514.20\n",
       "22    24644950.56\n",
       "23    32803512.34\n",
       "24    32033886.14\n",
       "25    16722760.92\n",
       "26    23604694.55\n",
       "27    42635454.02\n",
       "28    33223540.20\n",
       "29    12973855.77\n",
       "30    10799324.52\n",
       "31    34864733.57\n",
       "32    28290375.83\n",
       "33     6101241.06\n",
       "34    23707690.84\n",
       "35    20053730.30\n",
       "36     9481723.56\n",
       "37    13113144.49\n",
       "38     9444065.65\n",
       "39    34504516.81\n",
       "40    23249716.56\n",
       "41    30486880.45\n",
       "42    13667552.37\n",
       "43    15459506.86\n",
       "44     7331454.37\n",
       "45    19097393.74\n",
       "Name: Weekly_Sales, dtype: float64"
      ]
     },
     "execution_count": 56,
     "metadata": {},
     "output_type": "execute_result"
    }
   ],
   "source": [
    "# Grouping the data of semester 1 by store and total weekly sum\n",
    "semester_2011_1_df = semester_2011_1.groupby('Store')['Weekly_Sales'].sum()\n",
    "semester_2011_1_df"
   ]
  },
  {
   "cell_type": "code",
   "execution_count": 57,
   "id": "12274e15",
   "metadata": {},
   "outputs": [
    {
     "name": "stdout",
     "output_type": "stream",
     "text": [
      "20\n",
      "33\n"
     ]
    }
   ],
   "source": [
    "print(semester_2011_1_df.idxmax()) # to see which value is maximum\n",
    "print(semester_2011_1_df.idxmin()) # to see which value is minimum"
   ]
  },
  {
   "cell_type": "code",
   "execution_count": 58,
   "id": "cb27c0cc",
   "metadata": {},
   "outputs": [
    {
     "data": {
      "image/png": "[encoded data removed]",
      "text/plain": [
       "<Figure size 720x720 with 1 Axes>"
      ]
     },
     "metadata": {
      "needs_background": "light"
     },
     "output_type": "display_data"
    }
   ],
   "source": [
    "# Lets create Barplot of Store-wise Weekly Sales in 1st semester 2011\n",
    "plt.figure(figsize=(10,10))\n",
    "semester_2011_1_df.plot(kind='bar')\n",
    "plt.xlabel('Store')\n",
    "plt.ylabel('Weekly Sales')\n",
    "plt.title('Barplot of Store-wise Weekly Sales in 1st semester 2011')\n",
    "plt.show()"
   ]
  },
  {
   "cell_type": "code",
   "execution_count": 59,
   "id": "d2ccfb00",
   "metadata": {},
   "outputs": [
    {
     "data": {
      "text/plain": [
       "Store\n",
       "1     42628359.59\n",
       "2     52326885.61\n",
       "3     10937965.19\n",
       "4     59853414.86\n",
       "5      8643173.38\n",
       "6     42786092.63\n",
       "7     17199107.58\n",
       "8     25080898.54\n",
       "9     15267296.62\n",
       "10    52914249.07\n",
       "11    37543748.28\n",
       "12    27850891.81\n",
       "13    56508455.94\n",
       "14    56684510.20\n",
       "15    17333012.59\n",
       "16    15292146.68\n",
       "17    25104902.50\n",
       "18    29264798.24\n",
       "19    40182736.04\n",
       "20    58589254.37\n",
       "21    21427369.74\n",
       "22    28909761.37\n",
       "23    39470021.45\n",
       "24    37905090.73\n",
       "25    19711644.80\n",
       "26    28444557.17\n",
       "27    49287230.17\n",
       "28    35932468.38\n",
       "29    14976489.43\n",
       "30    11382823.89\n",
       "31    39304491.95\n",
       "32    33056817.65\n",
       "33     6856595.61\n",
       "34    26652491.22\n",
       "35    24033248.33\n",
       "36     9490895.19\n",
       "37    13968351.28\n",
       "38    10496692.80\n",
       "39    41273086.49\n",
       "40    27090826.37\n",
       "41    36228993.86\n",
       "42    15449750.30\n",
       "43    16593688.59\n",
       "44     8166740.30\n",
       "45    22037974.14\n",
       "Name: Weekly_Sales, dtype: float64"
      ]
     },
     "execution_count": 59,
     "metadata": {},
     "output_type": "execute_result"
    }
   ],
   "source": [
    "# Grouping the data of semester 2 by store and total weekly sum\n",
    "semester_2011_2_df = semester_2011_2.groupby('Store')['Weekly_Sales'].sum()\n",
    "semester_2011_2_df"
   ]
  },
  {
   "cell_type": "code",
   "execution_count": 60,
   "id": "43e1d336",
   "metadata": {},
   "outputs": [
    {
     "name": "stdout",
     "output_type": "stream",
     "text": [
      "4\n",
      "33\n"
     ]
    }
   ],
   "source": [
    "print(semester_2011_2_df.idxmax()) # to see which value is maximum\n",
    "print(semester_2011_2_df.idxmin()) # to see which value is minimum"
   ]
  },
  {
   "cell_type": "code",
   "execution_count": 61,
   "id": "00f47d61",
   "metadata": {
    "scrolled": false
   },
   "outputs": [
    {
     "data": {
      "image/png": "[encoded data removed]",
      "text/plain": [
       "<Figure size 720x720 with 1 Axes>"
      ]
     },
     "metadata": {
      "needs_background": "light"
     },
     "output_type": "display_data"
    }
   ],
   "source": [
    "# Lets create Barplot of Store-wise Weekly Sales in 2nd semester 2011\n",
    "plt.figure(figsize=(10,10))\n",
    "semester_2011_2_df.plot(kind='bar')\n",
    "plt.xlabel('Store')\n",
    "plt.ylabel('Weekly Sales')\n",
    "plt.title('Barplot of Store-wise Weekly Sales in 2nd semester 2011')\n",
    "plt.show()"
   ]
  },
  {
   "cell_type": "markdown",
   "id": "226a258a",
   "metadata": {},
   "source": [
    "# From above analysis Store 20 has maximum sales in 1st semester and Store 4 has maximum sales in the 2nd semester of the year 2011 with sales = (51247747.99, 59853414.86) respectively and Store 33 has minimum sales during semester 1 and semester 2 of the year 2011 with sales = (6101241.06, 6856595.61) respectively"
   ]
  },
  {
   "cell_type": "code",
   "execution_count": 62,
   "id": "b8f88239",
   "metadata": {},
   "outputs": [],
   "source": [
    "# Creating a separate data for year 2012\n",
    "semester_2012 = walmart_data[walmart_data.Year==2012]\n",
    "\n",
    "# Lets create 1st semester\n",
    "\n",
    "semester_2012_1 = semester_2012[(semester_2012['Month']==1)|(semester_2012['Month']==2)\n",
    "                               |(semester_2012['Month']==3)|(semester_2012['Month']==4)\n",
    "                               |(semester_2012['Month']==5)|(semester_2012['Month']==6)]\n",
    "\n",
    "# Lets create 2nd semester\n",
    "\n",
    "semester_2012_2 = semester_2012[(semester_2012['Month']==7)|(semester_2012['Month']==8)\n",
    "                               |(semester_2012['Month']==9)|(semester_2012['Month']==10)\n",
    "                               |(semester_2012['Month']==11)|(semester_2012['Month']==12)]"
   ]
  },
  {
   "cell_type": "code",
   "execution_count": 63,
   "id": "be6948af",
   "metadata": {},
   "outputs": [
    {
     "data": {
      "text/plain": [
       "Store\n",
       "1     39988063.27\n",
       "2     47629070.24\n",
       "3     10520103.97\n",
       "4     54043493.01\n",
       "5      8340091.82\n",
       "6     38920058.40\n",
       "7     14829946.03\n",
       "8     22768291.61\n",
       "9     14054562.38\n",
       "10    45974809.47\n",
       "11    34081526.41\n",
       "12    25460760.75\n",
       "13    50144112.76\n",
       "14    46653392.59\n",
       "15    14454018.54\n",
       "16    12608669.10\n",
       "17    23257339.74\n",
       "18    25971400.40\n",
       "19    34220784.38\n",
       "20    52192485.09\n",
       "21    17757893.93\n",
       "22    24754491.93\n",
       "23    33424118.61\n",
       "24    32825590.54\n",
       "25    16999927.56\n",
       "26    24315000.55\n",
       "27    41698865.82\n",
       "28    32603470.86\n",
       "29    12956726.29\n",
       "30    10983805.87\n",
       "31    35002903.11\n",
       "32    28999055.37\n",
       "33     6582406.07\n",
       "34    24391980.49\n",
       "35    19877002.86\n",
       "36     7883052.89\n",
       "37    13197743.24\n",
       "38    10881966.20\n",
       "39    37788653.51\n",
       "40    23727366.43\n",
       "41    32365291.09\n",
       "42    14555833.58\n",
       "43    15821698.97\n",
       "44     8143903.88\n",
       "45    19352334.72\n",
       "Name: Weekly_Sales, dtype: float64"
      ]
     },
     "execution_count": 63,
     "metadata": {},
     "output_type": "execute_result"
    }
   ],
   "source": [
    "# Grouping the data of semester 1 by store and total weekly sum\n",
    "semester_2012_1_df = semester_2012_1.groupby('Store')['Weekly_Sales'].sum()\n",
    "semester_2012_1_df"
   ]
  },
  {
   "cell_type": "code",
   "execution_count": 64,
   "id": "81643234",
   "metadata": {},
   "outputs": [
    {
     "name": "stdout",
     "output_type": "stream",
     "text": [
      "4\n",
      "33\n"
     ]
    }
   ],
   "source": [
    "print(semester_2012_1_df.idxmax()) # to see which value is maximum\n",
    "print(semester_2012_1_df.idxmin()) # to see which value is minimum"
   ]
  },
  {
   "cell_type": "code",
   "execution_count": 65,
   "id": "ce74b423",
   "metadata": {},
   "outputs": [
    {
     "data": {
      "image/png": "[encoded data removed]",
      "text/plain": [
       "<Figure size 720x720 with 1 Axes>"
      ]
     },
     "metadata": {
      "needs_background": "light"
     },
     "output_type": "display_data"
    }
   ],
   "source": [
    "# Lets create Barplot of Store-wise Weekly Sales in 1st semester 2012\n",
    "plt.figure(figsize=(10,10))\n",
    "semester_2012_1_df.plot(kind='bar')\n",
    "plt.xlabel('Store')\n",
    "plt.ylabel('Weekly Sales')\n",
    "plt.title('Barplot of Store-wise Weekly Sales in 1st semester 2012')\n",
    "plt.show()"
   ]
  },
  {
   "cell_type": "code",
   "execution_count": 66,
   "id": "6f273bda",
   "metadata": {},
   "outputs": [
    {
     "data": {
      "text/plain": [
       "Store\n",
       "1     28213994.75\n",
       "2     33867625.13\n",
       "3      7504335.53\n",
       "4     38727696.23\n",
       "5      5828746.31\n",
       "6     27394988.60\n",
       "7     10537610.44\n",
       "8     16465628.52\n",
       "9      9919467.20\n",
       "10    32253807.47\n",
       "11    24102539.27\n",
       "12    17874084.97\n",
       "13    36563342.26\n",
       "14    30788005.67\n",
       "15    10373512.17\n",
       "16     9493756.22\n",
       "17    17028038.89\n",
       "18    18947176.40\n",
       "19    24991648.90\n",
       "20    37635224.29\n",
       "21    12493992.78\n",
       "22    17901164.30\n",
       "23    25343860.14\n",
       "24    24360805.63\n",
       "25    12490578.15\n",
       "26    18661443.74\n",
       "27    30221190.30\n",
       "28    22725436.21\n",
       "29     9287655.33\n",
       "30     7811844.21\n",
       "31    24881504.11\n",
       "32    21282060.63\n",
       "33     4853144.96\n",
       "34    17347183.66\n",
       "35    15360719.66\n",
       "36     5403417.64\n",
       "37     9415031.45\n",
       "38     7749107.25\n",
       "39    28097009.34\n",
       "40    17445040.91\n",
       "41    24522548.84\n",
       "42    10394526.27\n",
       "43    11153535.00\n",
       "44     6043469.84\n",
       "45    13371295.45\n",
       "Name: Weekly_Sales, dtype: float64"
      ]
     },
     "execution_count": 66,
     "metadata": {},
     "output_type": "execute_result"
    }
   ],
   "source": [
    "# Grouping the data of semester 2 by store and total weekly sum\n",
    "semester_2012_2_df = semester_2012_2.groupby('Store')['Weekly_Sales'].sum()\n",
    "semester_2012_2_df"
   ]
  },
  {
   "cell_type": "code",
   "execution_count": 67,
   "id": "ec8d9cba",
   "metadata": {},
   "outputs": [
    {
     "name": "stdout",
     "output_type": "stream",
     "text": [
      "4\n",
      "33\n"
     ]
    }
   ],
   "source": [
    "print(semester_2012_2_df.idxmax()) # to see which value is maximum\n",
    "print(semester_2012_2_df.idxmin()) # to see which value is minimum"
   ]
  },
  {
   "cell_type": "code",
   "execution_count": 68,
   "id": "ab4cdbc2",
   "metadata": {},
   "outputs": [
    {
     "data": {
      "image/png": "[encoded data removed]",
      "text/plain": [
       "<Figure size 720x720 with 1 Axes>"
      ]
     },
     "metadata": {
      "needs_background": "light"
     },
     "output_type": "display_data"
    }
   ],
   "source": [
    "# Lets create Barplot of Store-wise Weekly Sales in 2nd semester 2012\n",
    "plt.figure(figsize=(10,10))\n",
    "semester_2012_2_df.plot(kind='bar')\n",
    "plt.xlabel('Store')\n",
    "plt.ylabel('Weekly Sales')\n",
    "plt.title('Barplot of Store-wise Weekly Sales in 2nd semester 2012')\n",
    "plt.show()"
   ]
  },
  {
   "cell_type": "markdown",
   "id": "28fe1de1",
   "metadata": {},
   "source": [
    "# From above analysis Store 4 has maximum sales during semester 1 and semester 2 of the year 2012 with sales = (54043493.01, 38727696.23) respectively and Store 33 has minimum sales during semester 1 and semester 2 of the year 2012 with sales = (6582406.07, 4853144.96) respectively"
   ]
  },
  {
   "cell_type": "markdown",
   "id": "6ceb8b14",
   "metadata": {},
   "source": [
    "# Statistical Model"
   ]
  },
  {
   "cell_type": "markdown",
   "id": "1fab1307",
   "metadata": {},
   "source": [
    "# For Store 1 – Build  prediction models to forecast demand"
   ]
  },
  {
   "cell_type": "markdown",
   "id": "ed3373db",
   "metadata": {},
   "source": [
    "# 1. Linear Regression – Utilize variables like date and restructure dates as 1 for 5 Feb 2010 (starting from the earliest date in order). Hypothesize if CPI, unemployment, and fuel price have any impact on sales."
   ]
  },
  {
   "cell_type": "code",
   "execution_count": 69,
   "id": "2d11a5bb",
   "metadata": {},
   "outputs": [
    {
     "data": {
      "text/html": [
       "<div>\n",
       "<style scoped>\n",
       "    .dataframe tbody tr th:only-of-type {\n",
       "        vertical-align: middle;\n",
       "    }\n",
       "\n",
       "    .dataframe tbody tr th {\n",
       "        vertical-align: top;\n",
       "    }\n",
       "\n",
       "    .dataframe thead th {\n",
       "        text-align: right;\n",
       "    }\n",
       "</style>\n",
       "<table border=\"1\" class=\"dataframe\">\n",
       "  <thead>\n",
       "    <tr style=\"text-align: right;\">\n",
       "      <th></th>\n",
       "      <th>Store</th>\n",
       "      <th>Date</th>\n",
       "      <th>Weekly_Sales</th>\n",
       "      <th>Holiday_Flag</th>\n",
       "      <th>Temperature</th>\n",
       "      <th>Fuel_Price</th>\n",
       "      <th>CPI</th>\n",
       "      <th>Unemployment</th>\n",
       "      <th>Day</th>\n",
       "      <th>Month</th>\n",
       "      <th>Year</th>\n",
       "    </tr>\n",
       "  </thead>\n",
       "  <tbody>\n",
       "    <tr>\n",
       "      <th>0</th>\n",
       "      <td>1</td>\n",
       "      <td>2010-05-02</td>\n",
       "      <td>1643690.90</td>\n",
       "      <td>0</td>\n",
       "      <td>42.31</td>\n",
       "      <td>2.572</td>\n",
       "      <td>211.096358</td>\n",
       "      <td>8.106</td>\n",
       "      <td>2</td>\n",
       "      <td>5</td>\n",
       "      <td>2010</td>\n",
       "    </tr>\n",
       "    <tr>\n",
       "      <th>1</th>\n",
       "      <td>1</td>\n",
       "      <td>2010-12-02</td>\n",
       "      <td>1641957.44</td>\n",
       "      <td>1</td>\n",
       "      <td>38.51</td>\n",
       "      <td>2.548</td>\n",
       "      <td>211.242170</td>\n",
       "      <td>8.106</td>\n",
       "      <td>2</td>\n",
       "      <td>12</td>\n",
       "      <td>2010</td>\n",
       "    </tr>\n",
       "    <tr>\n",
       "      <th>2</th>\n",
       "      <td>1</td>\n",
       "      <td>2010-02-19</td>\n",
       "      <td>1611968.17</td>\n",
       "      <td>0</td>\n",
       "      <td>39.93</td>\n",
       "      <td>2.514</td>\n",
       "      <td>211.289143</td>\n",
       "      <td>8.106</td>\n",
       "      <td>19</td>\n",
       "      <td>2</td>\n",
       "      <td>2010</td>\n",
       "    </tr>\n",
       "    <tr>\n",
       "      <th>3</th>\n",
       "      <td>1</td>\n",
       "      <td>2010-02-26</td>\n",
       "      <td>1409727.59</td>\n",
       "      <td>0</td>\n",
       "      <td>46.63</td>\n",
       "      <td>2.561</td>\n",
       "      <td>211.319643</td>\n",
       "      <td>8.106</td>\n",
       "      <td>26</td>\n",
       "      <td>2</td>\n",
       "      <td>2010</td>\n",
       "    </tr>\n",
       "    <tr>\n",
       "      <th>4</th>\n",
       "      <td>1</td>\n",
       "      <td>2010-05-03</td>\n",
       "      <td>1554806.68</td>\n",
       "      <td>0</td>\n",
       "      <td>46.50</td>\n",
       "      <td>2.625</td>\n",
       "      <td>211.350143</td>\n",
       "      <td>8.106</td>\n",
       "      <td>3</td>\n",
       "      <td>5</td>\n",
       "      <td>2010</td>\n",
       "    </tr>\n",
       "  </tbody>\n",
       "</table>\n",
       "</div>"
      ],
      "text/plain": [
       "   Store       Date  Weekly_Sales  Holiday_Flag  Temperature  Fuel_Price  \\\n",
       "0      1 2010-05-02    1643690.90             0        42.31       2.572   \n",
       "1      1 2010-12-02    1641957.44             1        38.51       2.548   \n",
       "2      1 2010-02-19    1611968.17             0        39.93       2.514   \n",
       "3      1 2010-02-26    1409727.59             0        46.63       2.561   \n",
       "4      1 2010-05-03    1554806.68             0        46.50       2.625   \n",
       "\n",
       "          CPI  Unemployment  Day  Month  Year  \n",
       "0  211.096358         8.106    2      5  2010  \n",
       "1  211.242170         8.106    2     12  2010  \n",
       "2  211.289143         8.106   19      2  2010  \n",
       "3  211.319643         8.106   26      2  2010  \n",
       "4  211.350143         8.106    3      5  2010  "
      ]
     },
     "execution_count": 69,
     "metadata": {},
     "output_type": "execute_result"
    }
   ],
   "source": [
    "walmart_data.head() # to get first five records"
   ]
  },
  {
   "cell_type": "code",
   "execution_count": 70,
   "id": "37af16c6",
   "metadata": {},
   "outputs": [],
   "source": [
    "# creating a separte variable for Date\n",
    "date = walmart_data.Date"
   ]
  },
  {
   "cell_type": "code",
   "execution_count": 71,
   "id": "ff4c1e87",
   "metadata": {},
   "outputs": [],
   "source": [
    "# creating a function to restructure the date\n",
    "def number_function(data):\n",
    "\n",
    "    encountered_data = {}\n",
    "    result = []\n",
    "\n",
    "    idx = 1\n",
    "    for a in data:\n",
    "        if a in encountered_data:  # check if you already seen this data\n",
    "            result.append(encountered_data[a])\n",
    "        else:\n",
    "            encountered_data[a] = idx\n",
    "            result.append(idx)\n",
    "            idx += 1\n",
    "    return result"
   ]
  },
  {
   "cell_type": "code",
   "execution_count": 72,
   "id": "5ef2b920",
   "metadata": {},
   "outputs": [],
   "source": [
    "# applying function to date\n",
    "DATE = number_function(date)"
   ]
  },
  {
   "cell_type": "code",
   "execution_count": 73,
   "id": "9cc0b0cb",
   "metadata": {
    "scrolled": false
   },
   "outputs": [
    {
     "name": "stdout",
     "output_type": "stream",
     "text": [
      "[1, 2, 3, 4, 5, 6, 7, 8, 9, 10, 11, 12, 13, 14, 15, 16, 17, 18, 19, 20, 21, 22, 23, 24, 25, 26, 27, 28, 29, 30, 31, 32, 33, 34, 35, 36, 37, 38, 39, 40, 41, 42, 43, 44, 45, 46, 47, 48, 49, 50, 51, 52, 53, 54, 55, 56, 57, 58, 59, 60, 61, 62, 63, 64, 65, 66, 67, 68, 69, 70, 71, 72, 73, 74, 75, 76, 77, 78, 79, 80, 81, 82, 83, 84, 85, 86, 87, 88, 89, 90, 91, 92, 93, 94, 95, 96, 97, 98, 99, 100, 101, 102, 103, 104, 105, 106, 107, 108, 109, 110, 111, 112, 113, 114, 115, 116, 117, 118, 119, 120, 121, 122, 123, 124, 125, 126, 127, 128, 129, 130, 131, 132, 133, 134, 135, 136, 137, 138, 139, 140, 141, 142, 143, 1, 2, 3, 4, 5, 6, 7, 8, 9, 10, 11, 12, 13, 14, 15, 16, 17, 18, 19, 20, 21, 22, 23, 24, 25, 26, 27, 28, 29, 30, 31, 32, 33, 34, 35, 36, 37, 38, 39, 40, 41, 42, 43, 44, 45, 46, 47, 48, 49, 50, 51, 52, 53, 54, 55, 56, 57, 58, 59, 60, 61, 62, 63, 64, 65, 66, 67, 68, 69, 70, 71, 72, 73, 74, 75, 76, 77, 78, 79, 80, 81, 82, 83, 84, 85, 86, 87, 88, 89, 90, 91, 92, 93, 94, 95, 96, 97, 98, 99, 100, 101, 102, 103, 104, 105, 106, 107, 108, 109, 110, 111, 112, 113, 114, 115, 116, 117, 118, 119, 120, 121, 122, 123, 124, 125, 126, 127, 128, 129, 130, 131, 132, 133, 134, 135, 136, 137, 138, 139, 140, 141, 142, 143, 1, 2, 3, 4, 5, 6, 7, 8, 9, 10, 11, 12, 13, 14, 15, 16, 17, 18, 19, 20, 21, 22, 23, 24, 25, 26, 27, 28, 29, 30, 31, 32, 33, 34, 35, 36, 37, 38, 39, 40, 41, 42, 43, 44, 45, 46, 47, 48, 49, 50, 51, 52, 53, 54, 55, 56, 57, 58, 59, 60, 61, 62, 63, 64, 65, 66, 67, 68, 69, 70, 71, 72, 73, 74, 75, 76, 77, 78, 79, 80, 81, 82, 83, 84, 85, 86, 87, 88, 89, 90, 91, 92, 93, 94, 95, 96, 97, 98, 99, 100, 101, 102, 103, 104, 105, 106, 107, 108, 109, 110, 111, 112, 113, 114, 115, 116, 117, 118, 119, 120, 121, 122, 123, 124, 125, 126, 127, 128, 129, 130, 131, 132, 133, 134, 135, 136, 137, 138, 139, 140, 141, 142, 143, 1, 2, 3, 4, 5, 6, 7, 8, 9, 10, 11, 12, 13, 14, 15, 16, 17, 18, 19, 20, 21, 22, 23, 24, 25, 26, 27, 28, 29, 30, 31, 32, 33, 34, 35, 36, 37, 38, 39, 40, 41, 42, 43, 44, 45, 46, 47, 48, 49, 50, 51, 52, 53, 54, 55, 56, 57, 58, 59, 60, 61, 62, 63, 64, 65, 66, 67, 68, 69, 70, 71, 72, 73, 74, 75, 76, 77, 78, 79, 80, 81, 82, 83, 84, 85, 86, 87, 88, 89, 90, 91, 92, 93, 94, 95, 96, 97, 98, 99, 100, 101, 102, 103, 104, 105, 106, 107, 108, 109, 110, 111, 112, 113, 114, 115, 116, 117, 118, 119, 120, 121, 122, 123, 124, 125, 126, 127, 128, 129, 130, 131, 132, 133, 134, 135, 136, 137, 138, 139, 140, 141, 142, 143, 1, 2, 3, 4, 5, 6, 7, 8, 9, 10, 11, 12, 13, 14, 15, 16, 17, 18, 19, 20, 21, 22, 23, 24, 25, 26, 27, 28, 29, 30, 31, 32, 33, 34, 35, 36, 37, 38, 39, 40, 41, 42, 43, 44, 45, 46, 47, 48, 49, 50, 51, 52, 53, 54, 55, 56, 57, 58, 59, 60, 61, 62, 63, 64, 65, 66, 67, 68, 69, 70, 71, 72, 73, 74, 75, 76, 77, 78, 79, 80, 81, 82, 83, 84, 85, 86, 87, 88, 89, 90, 91, 92, 93, 94, 95, 96, 97, 98, 99, 100, 101, 102, 103, 104, 105, 106, 107, 108, 109, 110, 111, 112, 113, 114, 115, 116, 117, 118, 119, 120, 121, 122, 123, 124, 125, 126, 127, 128, 129, 130, 131, 132, 133, 134, 135, 136, 137, 138, 139, 140, 141, 142, 143, 1, 2, 3, 4, 5, 6, 7, 8, 9, 10, 11, 12, 13, 14, 15, 16, 17, 18, 19, 20, 21, 22, 23, 24, 25, 26, 27, 28, 29, 30, 31, 32, 33, 34, 35, 36, 37, 38, 39, 40, 41, 42, 43, 44, 45, 46, 47, 48, 49, 50, 51, 52, 53, 54, 55, 56, 57, 58, 59, 60, 61, 62, 63, 64, 65, 66, 67, 68, 69, 70, 71, 72, 73, 74, 75, 76, 77, 78, 79, 80, 81, 82, 83, 84, 85, 86, 87, 88, 89, 90, 91, 92, 93, 94, 95, 96, 97, 98, 99, 100, 101, 102, 103, 104, 105, 106, 107, 108, 109, 110, 111, 112, 113, 114, 115, 116, 117, 118, 119, 120, 121, 122, 123, 124, 125, 126, 127, 128, 129, 130, 131, 132, 133, 134, 135, 136, 137, 138, 139, 140, 141, 142, 143, 1, 2, 3, 4, 5, 6, 7, 8, 9, 10, 11, 12, 13, 14, 15, 16, 17, 18, 19, 20, 21, 22, 23, 24, 25, 26, 27, 28, 29, 30, 31, 32, 33, 34, 35, 36, 37, 38, 39, 40, 41, 42, 43, 44, 45, 46, 47, 48, 49, 50, 51, 52, 53, 54, 55, 56, 57, 58, 59, 60, 61, 62, 63, 64, 65, 66, 67, 68, 69, 70, 71, 72, 73, 74, 75, 76, 77, 78, 79, 80, 81, 82, 83, 84, 85, 86, 87, 88, 89, 90, 91, 92, 93, 94, 95, 96, 97, 98, 99, 100, 101, 102, 103, 104, 105, 106, 107, 108, 109, 110, 111, 112, 113, 114, 115, 116, 117, 118, 119, 120, 121, 122, 123, 124, 125, 126, 127, 128, 129, 130, 131, 132, 133, 134, 135, 136, 137, 138, 139, 140, 141, 142, 143, 1, 2, 3, 4, 5, 6, 7, 8, 9, 10, 11, 12, 13, 14, 15, 16, 17, 18, 19, 20, 21, 22, 23, 24, 25, 26, 27, 28, 29, 30, 31, 32, 33, 34, 35, 36, 37, 38, 39, 40, 41, 42, 43, 44, 45, 46, 47, 48, 49, 50, 51, 52, 53, 54, 55, 56, 57, 58, 59, 60, 61, 62, 63, 64, 65, 66, 67, 68, 69, 70, 71, 72, 73, 74, 75, 76, 77, 78, 79, 80, 81, 82, 83, 84, 85, 86, 87, 88, 89, 90, 91, 92, 93, 94, 95, 96, 97, 98, 99, 100, 101, 102, 103, 104, 105, 106, 107, 108, 109, 110, 111, 112, 113, 114, 115, 116, 117, 118, 119, 120, 121, 122, 123, 124, 125, 126, 127, 128, 129, 130, 131, 132, 133, 134, 135, 136, 137, 138, 139, 140, 141, 142, 143, 1, 2, 3, 4, 5, 6, 7, 8, 9, 10, 11, 12, 13, 14, 15, 16, 17, 18, 19, 20, 21, 22, 23, 24, 25, 26, 27, 28, 29, 30, 31, 32, 33, 34, 35, 36, 37, 38, 39, 40, 41, 42, 43, 44, 45, 46, 47, 48, 49, 50, 51, 52, 53, 54, 55, 56, 57, 58, 59, 60, 61, 62, 63, 64, 65, 66, 67, 68, 69, 70, 71, 72, 73, 74, 75, 76, 77, 78, 79, 80, 81, 82, 83, 84, 85, 86, 87, 88, 89, 90, 91, 92, 93, 94, 95, 96, 97, 98, 99, 100, 101, 102, 103, 104, 105, 106, 107, 108, 109, 110, 111, 112, 113, 114, 115, 116, 117, 118, 119, 120, 121, 122, 123, 124, 125, 126, 127, 128, 129, 130, 131, 132, 133, 134, 135, 136, 137, 138, 139, 140, 141, 142, 143, 1, 2, 3, 4, 5, 6, 7, 8, 9, 10, 11, 12, 13, 14, 15, 16, 17, 18, 19, 20, 21, 22, 23, 24, 25, 26, 27, 28, 29, 30, 31, 32, 33, 34, 35, 36, 37, 38, 39, 40, 41, 42, 43, 44, 45, 46, 47, 48, 49, 50, 51, 52, 53, 54, 55, 56, 57, 58, 59, 60, 61, 62, 63, 64, 65, 66, 67, 68, 69, 70, 71, 72, 73, 74, 75, 76, 77, 78, 79, 80, 81, 82, 83, 84, 85, 86, 87, 88, 89, 90, 91, 92, 93, 94, 95, 96, 97, 98, 99, 100, 101, 102, 103, 104, 105, 106, 107, 108, 109, 110, 111, 112, 113, 114, 115, 116, 117, 118, 119, 120, 121, 122, 123, 124, 125, 126, 127, 128, 129, 130, 131, 132, 133, 134, 135, 136, 137, 138, 139, 140, 141, 142, 143, 1, 2, 3, 4, 5, 6, 7, 8, 9, 10, 11, 12, 13, 14, 15, 16, 17, 18, 19, 20, 21, 22, 23, 24, 25, 26, 27, 28, 29, 30, 31, 32, 33, 34, 35, 36, 37, 38, 39, 40, 41, 42, 43, 44, 45, 46, 47, 48, 49, 50, 51, 52, 53, 54, 55, 56, 57, 58, 59, 60, 61, 62, 63, 64, 65, 66, 67, 68, 69, 70, 71, 72, 73, 74, 75, 76, 77, 78, 79, 80, 81, 82, 83, 84, 85, 86, 87, 88, 89, 90, 91, 92, 93, 94, 95, 96, 97, 98, 99, 100, 101, 102, 103, 104, 105, 106, 107, 108, 109, 110, 111, 112, 113, 114, 115, 116, 117, 118, 119, 120, 121, 122, 123, 124, 125, 126, 127, 128, 129, 130, 131, 132, 133, 134, 135, 136, 137, 138, 139, 140, 141, 142, 143, 1, 2, 3, 4, 5, 6, 7, 8, 9, 10, 11, 12, 13, 14, 15, 16, 17, 18, 19, 20, 21, 22, 23, 24, 25, 26, 27, 28, 29, 30, 31, 32, 33, 34, 35, 36, 37, 38, 39, 40, 41, 42, 43, 44, 45, 46, 47, 48, 49, 50, 51, 52, 53, 54, 55, 56, 57, 58, 59, 60, 61, 62, 63, 64, 65, 66, 67, 68, 69, 70, 71, 72, 73, 74, 75, 76, 77, 78, 79, 80, 81, 82, 83, 84, 85, 86, 87, 88, 89, 90, 91, 92, 93, 94, 95, 96, 97, 98, 99, 100, 101, 102, 103, 104, 105, 106, 107, 108, 109, 110, 111, 112, 113, 114, 115, 116, 117, 118, 119, 120, 121, 122, 123, 124, 125, 126, 127, 128, 129, 130, 131, 132, 133, 134, 135, 136, 137, 138, 139, 140, 141, 142, 143, 1, 2, 3, 4, 5, 6, 7, 8, 9, 10, 11, 12, 13, 14, 15, 16, 17, 18, 19, 20, 21, 22, 23, 24, 25, 26, 27, 28, 29, 30, 31, 32, 33, 34, 35, 36, 37, 38, 39, 40, 41, 42, 43, 44, 45, 46, 47, 48, 49, 50, 51, 52, 53, 54, 55, 56, 57, 58, 59, 60, 61, 62, 63, 64, 65, 66, 67, 68, 69, 70, 71, 72, 73, 74, 75, 76, 77, 78, 79, 80, 81, 82, 83, 84, 85, 86, 87, 88, 89, 90, 91, 92, 93, 94, 95, 96, 97, 98, 99, 100, 101, 102, 103, 104, 105, 106, 107, 108, 109, 110, 111, 112, 113, 114, 115, 116, 117, 118, 119, 120, 121, 122, 123, 124, 125, 126, 127, 128, 129, 130, 131, 132, 133, 134, 135, 136, 137, 138, 139, 140, 141, 142, 143, 1, 2, 3, 4, 5, 6, 7, 8, 9, 10, 11, 12, 13, 14, 15, 16, 17, 18, 19, 20, 21, 22, 23, 24, 25, 26, 27, 28, 29, 30, 31, 32, 33, 34, 35, 36, 37, 38, 39, 40, 41, 42, 43, 44, 45, 46, 47, 48, 49, 50, 51, 52, 53, 54, 55, 56, 57, 58, 59, 60, 61, 62, 63, 64, 65, 66, 67, 68, 69, 70, 71, 72, 73, 74, 75, 76, 77, 78, 79, 80, 81, 82, 83, 84, 85, 86, 87, 88, 89, 90, 91, 92, 93, 94, 95, 96, 97, 98, 99, 100, 101, 102, 103, 104, 105, 106, 107, 108, 109, 110, 111, 112, 113, 114, 115, 116, 117, 118, 119, 120, 121, 122, 123, 124, 125, 126, 127, 128, 129, 130, 131, 132, 133, 134, 135, 136, 137, 138, 139, 140, 141, 142, 143, 1, 2, 3, 4, 5, 6, 7, 8, 9, 10, 11, 12, 13, 14, 15, 16, 17, 18, 19, 20, 21, 22, 23, 24, 25, 26, 27, 28, 29, 30, 31, 32, 33, 34, 35, 36, 37, 38, 39, 40, 41, 42, 43, 44, 45, 46, 47, 48, 49, 50, 51, 52, 53, 54, 55, 56, 57, 58, 59, 60, 61, 62, 63, 64, 65, 66, 67, 68, 69, 70, 71, 72, 73, 74, 75, 76, 77, 78, 79, 80, 81, 82, 83, 84, 85, 86, 87, 88, 89, 90, 91, 92, 93, 94, 95, 96, 97, 98, 99, 100, 101, 102, 103, 104, 105, 106, 107, 108, 109, 110, 111, 112, 113, 114, 115, 116, 117, 118, 119, 120, 121, 122, 123, 124, 125, 126, 127, 128, 129, 130, 131, 132, 133, 134, 135, 136, 137, 138, 139, 140, 141, 142, 143, 1, 2, 3, 4, 5, 6, 7, 8, 9, 10, 11, 12, 13, 14, 15, 16, 17, 18, 19, 20, 21, 22, 23, 24, 25, 26, 27, 28, 29, 30, 31, 32, 33, 34, 35, 36, 37, 38, 39, 40, 41, 42, 43, 44, 45, 46, 47, 48, 49, 50, 51, 52, 53, 54, 55, 56, 57, 58, 59, 60, 61, 62, 63, 64, 65, 66, 67, 68, 69, 70, 71, 72, 73, 74, 75, 76, 77, 78, 79, 80, 81, 82, 83, 84, 85, 86, 87, 88, 89, 90, 91, 92, 93, 94, 95, 96, 97, 98, 99, 100, 101, 102, 103, 104, 105, 106, 107, 108, 109, 110, 111, 112, 113, 114, 115, 116, 117, 118, 119, 120, 121, 122, 123, 124, 125, 126, 127, 128, 129, 130, 131, 132, 133, 134, 135, 136, 137, 138, 139, 140, 141, 142, 143, 1, 2, 3, 4, 5, 6, 7, 8, 9, 10, 11, 12, 13, 14, 15, 16, 17, 18, 19, 20, 21, 22, 23, 24, 25, 26, 27, 28, 29, 30, 31, 32, 33, 34, 35, 36, 37, 38, 39, 40, 41, 42, 43, 44, 45, 46, 47, 48, 49, 50, 51, 52, 53, 54, 55, 56, 57, 58, 59, 60, 61, 62, 63, 64, 65, 66, 67, 68, 69, 70, 71, 72, 73, 74, 75, 76, 77, 78, 79, 80, 81, 82, 83, 84, 85, 86, 87, 88, 89, 90, 91, 92, 93, 94, 95, 96, 97, 98, 99, 100, 101, 102, 103, 104, 105, 106, 107, 108, 109, 110, 111, 112, 113, 114, 115, 116, 117, 118, 119, 120, 121, 122, 123, 124, 125, 126, 127, 128, 129, 130, 131, 132, 133, 134, 135, 136, 137, 138, 139, 140, 141, 142, 143, 1, 2, 3, 4, 5, 6, 7, 8, 9, 10, 11, 12, 13, 14, 15, 16, 17, 18, 19, 20, 21, 22, 23, 24, 25, 26, 27, 28, 29, 30, 31, 32, 33, 34, 35, 36, 37, 38, 39, 40, 41, 42, 43, 44, 45, 46, 47, 48, 49, 50, 51, 52, 53, 54, 55, 56, 57, 58, 59, 60, 61, 62, 63, 64, 65, 66, 67, 68, 69, 70, 71, 72, 73, 74, 75, 76, 77, 78, 79, 80, 81, 82, 83, 84, 85, 86, 87, 88, 89, 90, 91, 92, 93, 94, 95, 96, 97, 98, 99, 100, 101, 102, 103, 104, 105, 106, 107, 108, 109, 110, 111, 112, 113, 114, 115, 116, 117, 118, 119, 120, 121, 122, 123, 124, 125, 126, 127, 128, 129, 130, 131, 132, 133, 134, 135, 136, 137, 138, 139, 140, 141, 142, 143, 1, 2, 3, 4, 5, 6, 7, 8, 9, 10, 11, 12, 13, 14, 15, 16, 17, 18, 19, 20, 21, 22, 23, 24, 25, 26, 27, 28, 29, 30, 31, 32, 33, 34, 35, 36, 37, 38, 39, 40, 41, 42, 43, 44, 45, 46, 47, 48, 49, 50, 51, 52, 53, 54, 55, 56, 57, 58, 59, 60, 61, 62, 63, 64, 65, 66, 67, 68, 69, 70, 71, 72, 73, 74, 75, 76, 77, 78, 79, 80, 81, 82, 83, 84, 85, 86, 87, 88, 89, 90, 91, 92, 93, 94, 95, 96, 97, 98, 99, 100, 101, 102, 103, 104, 105, 106, 107, 108, 109, 110, 111, 112, 113, 114, 115, 116, 117, 118, 119, 120, 121, 122, 123, 124, 125, 126, 127, 128, 129, 130, 131, 132, 133, 134, 135, 136, 137, 138, 139, 140, 141, 142, 143, 1, 2, 3, 4, 5, 6, 7, 8, 9, 10, 11, 12, 13, 14, 15, 16, 17, 18, 19, 20, 21, 22, 23, 24, 25, 26, 27, 28, 29, 30, 31, 32, 33, 34, 35, 36, 37, 38, 39, 40, 41, 42, 43, 44, 45, 46, 47, 48, 49, 50, 51, 52, 53, 54, 55, 56, 57, 58, 59, 60, 61, 62, 63, 64, 65, 66, 67, 68, 69, 70, 71, 72, 73, 74, 75, 76, 77, 78, 79, 80, 81, 82, 83, 84, 85, 86, 87, 88, 89, 90, 91, 92, 93, 94, 95, 96, 97, 98, 99, 100, 101, 102, 103, 104, 105, 106, 107, 108, 109, 110, 111, 112, 113, 114, 115, 116, 117, 118, 119, 120, 121, 122, 123, 124, 125, 126, 127, 128, 129, 130, 131, 132, 133, 134, 135, 136, 137, 138, 139, 140, 141, 142, 143, 1, 2, 3, 4, 5, 6, 7, 8, 9, 10, 11, 12, 13, 14, 15, 16, 17, 18, 19, 20, 21, 22, 23, 24, 25, 26, 27, 28, 29, 30, 31, 32, 33, 34, 35, 36, 37, 38, 39, 40, 41, 42, 43, 44, 45, 46, 47, 48, 49, 50, 51, 52, 53, 54, 55, 56, 57, 58, 59, 60, 61, 62, 63, 64, 65, 66, 67, 68, 69, 70, 71, 72, 73, 74, 75, 76, 77, 78, 79, 80, 81, 82, 83, 84, 85, 86, 87, 88, 89, 90, 91, 92, 93, 94, 95, 96, 97, 98, 99, 100, 101, 102, 103, 104, 105, 106, 107, 108, 109, 110, 111, 112, 113, 114, 115, 116, 117, 118, 119, 120, 121, 122, 123, 124, 125, 126, 127, 128, 129, 130, 131, 132, 133, 134, 135, 136, 137, 138, 139, 140, 141, 142, 143, 1, 2, 3, 4, 5, 6, 7, 8, 9, 10, 11, 12, 13, 14, 15, 16, 17, 18, 19, 20, 21, 22, 23, 24, 25, 26, 27, 28, 29, 30, 31, 32, 33, 34, 35, 36, 37, 38, 39, 40, 41, 42, 43, 44, 45, 46, 47, 48, 49, 50, 51, 52, 53, 54, 55, 56, 57, 58, 59, 60, 61, 62, 63, 64, 65, 66, 67, 68, 69, 70, 71, 72, 73, 74, 75, 76, 77, 78, 79, 80, 81, 82, 83, 84, 85, 86, 87, 88, 89, 90, 91, 92, 93, 94, 95, 96, 97, 98, 99, 100, 101, 102, 103, 104, 105, 106, 107, 108, 109, 110, 111, 112, 113, 114, 115, 116, 117, 118, 119, 120, 121, 122, 123, 124, 125, 126, 127, 128, 129, 130, 131, 132, 133, 134, 135, 136, 137, 138, 139, 140, 141, 142, 143, 1, 2, 3, 4, 5, 6, 7, 8, 9, 10, 11, 12, 13, 14, 15, 16, 17, 18, 19, 20, 21, 22, 23, 24, 25, 26, 27, 28, 29, 30, 31, 32, 33, 34, 35, 36, 37, 38, 39, 40, 41, 42, 43, 44, 45, 46, 47, 48, 49, 50, 51, 52, 53, 54, 55, 56, 57, 58, 59, 60, 61, 62, 63, 64, 65, 66, 67, 68, 69, 70, 71, 72, 73, 74, 75, 76, 77, 78, 79, 80, 81, 82, 83, 84, 85, 86, 87, 88, 89, 90, 91, 92, 93, 94, 95, 96, 97, 98, 99, 100, 101, 102, 103, 104, 105, 106, 107, 108, 109, 110, 111, 112, 113, 114, 115, 116, 117, 118, 119, 120, 121, 122, 123, 124, 125, 126, 127, 128, 129, 130, 131, 132, 133, 134, 135, 136, 137, 138, 139, 140, 141, 142, 143, 1, 2, 3, 4, 5, 6, 7, 8, 9, 10, 11, 12, 13, 14, 15, 16, 17, 18, 19, 20, 21, 22, 23, 24, 25, 26, 27, 28, 29, 30, 31, 32, 33, 34, 35, 36, 37, 38, 39, 40, 41, 42, 43, 44, 45, 46, 47, 48, 49, 50, 51, 52, 53, 54, 55, 56, 57, 58, 59, 60, 61, 62, 63, 64, 65, 66, 67, 68, 69, 70, 71, 72, 73, 74, 75, 76, 77, 78, 79, 80, 81, 82, 83, 84, 85, 86, 87, 88, 89, 90, 91, 92, 93, 94, 95, 96, 97, 98, 99, 100, 101, 102, 103, 104, 105, 106, 107, 108, 109, 110, 111, 112, 113, 114, 115, 116, 117, 118, 119, 120, 121, 122, 123, 124, 125, 126, 127, 128, 129, 130, 131, 132, 133, 134, 135, 136, 137, 138, 139, 140, 141, 142, 143, 1, 2, 3, 4, 5, 6, 7, 8, 9, 10, 11, 12, 13, 14, 15, 16, 17, 18, 19, 20, 21, 22, 23, 24, 25, 26, 27, 28, 29, 30, 31, 32, 33, 34, 35, 36, 37, 38, 39, 40, 41, 42, 43, 44, 45, 46, 47, 48, 49, 50, 51, 52, 53, 54, 55, 56, 57, 58, 59, 60, 61, 62, 63, 64, 65, 66, 67, 68, 69, 70, 71, 72, 73, 74, 75, 76, 77, 78, 79, 80, 81, 82, 83, 84, 85, 86, 87, 88, 89, 90, 91, 92, 93, 94, 95, 96, 97, 98, 99, 100, 101, 102, 103, 104, 105, 106, 107, 108, 109, 110, 111, 112, 113, 114, 115, 116, 117, 118, 119, 120, 121, 122, 123, 124, 125, 126, 127, 128, 129, 130, 131, 132, 133, 134, 135, 136, 137, 138, 139, 140, 141, 142, 143, 1, 2, 3, 4, 5, 6, 7, 8, 9, 10, 11, 12, 13, 14, 15, 16, 17, 18, 19, 20, 21, 22, 23, 24, 25, 26, 27, 28, 29, 30, 31, 32, 33, 34, 35, 36, 37, 38, 39, 40, 41, 42, 43, 44, 45, 46, 47, 48, 49, 50, 51, 52, 53, 54, 55, 56, 57, 58, 59, 60, 61, 62, 63, 64, 65, 66, 67, 68, 69, 70, 71, 72, 73, 74, 75, 76, 77, 78, 79, 80, 81, 82, 83, 84, 85, 86, 87, 88, 89, 90, 91, 92, 93, 94, 95, 96, 97, 98, 99, 100, 101, 102, 103, 104, 105, 106, 107, 108, 109, 110, 111, 112, 113, 114, 115, 116, 117, 118, 119, 120, 121, 122, 123, 124, 125, 126, 127, 128, 129, 130, 131, 132, 133, 134, 135, 136, 137, 138, 139, 140, 141, 142, 143, 1, 2, 3, 4, 5, 6, 7, 8, 9, 10, 11, 12, 13, 14, 15, 16, 17, 18, 19, 20, 21, 22, 23, 24, 25, 26, 27, 28, 29, 30, 31, 32, 33, 34, 35, 36, 37, 38, 39, 40, 41, 42, 43, 44, 45, 46, 47, 48, 49, 50, 51, 52, 53, 54, 55, 56, 57, 58, 59, 60, 61, 62, 63, 64, 65, 66, 67, 68, 69, 70, 71, 72, 73, 74, 75, 76, 77, 78, 79, 80, 81, 82, 83, 84, 85, 86, 87, 88, 89, 90, 91, 92, 93, 94, 95, 96, 97, 98, 99, 100, 101, 102, 103, 104, 105, 106, 107, 108, 109, 110, 111, 112, 113, 114, 115, 116, 117, 118, 119, 120, 121, 122, 123, 124, 125, 126, 127, 128, 129, 130, 131, 132, 133, 134, 135, 136, 137, 138, 139, 140, 141, 142, 143, 1, 2, 3, 4, 5, 6, 7, 8, 9, 10, 11, 12, 13, 14, 15, 16, 17, 18, 19, 20, 21, 22, 23, 24, 25, 26, 27, 28, 29, 30, 31, 32, 33, 34, 35, 36, 37, 38, 39, 40, 41, 42, 43, 44, 45, 46, 47, 48, 49, 50, 51, 52, 53, 54, 55, 56, 57, 58, 59, 60, 61, 62, 63, 64, 65, 66, 67, 68, 69, 70, 71, 72, 73, 74, 75, 76, 77, 78, 79, 80, 81, 82, 83, 84, 85, 86, 87, 88, 89, 90, 91, 92, 93, 94, 95, 96, 97, 98, 99, 100, 101, 102, 103, 104, 105, 106, 107, 108, 109, 110, 111, 112, 113, 114, 115, 116, 117, 118, 119, 120, 121, 122, 123, 124, 125, 126, 127, 128, 129, 130, 131, 132, 133, 134, 135, 136, 137, 138, 139, 140, 141, 142, 143, 1, 2, 3, 4, 5, 6, 7, 8, 9, 10, 11, 12, 13, 14, 15, 16, 17, 18, 19, 20, 21, 22, 23, 24, 25, 26, 27, 28, 29, 30, 31, 32, 33, 34, 35, 36, 37, 38, 39, 40, 41, 42, 43, 44, 45, 46, 47, 48, 49, 50, 51, 52, 53, 54, 55, 56, 57, 58, 59, 60, 61, 62, 63, 64, 65, 66, 67, 68, 69, 70, 71, 72, 73, 74, 75, 76, 77, 78, 79, 80, 81, 82, 83, 84, 85, 86, 87, 88, 89, 90, 91, 92, 93, 94, 95, 96, 97, 98, 99, 100, 101, 102, 103, 104, 105, 106, 107, 108, 109, 110, 111, 112, 113, 114, 115, 116, 117, 118, 119, 120, 121, 122, 123, 124, 125, 126, 127, 128, 129, 130, 131, 132, 133, 134, 135, 136, 137, 138, 139, 140, 141, 142, 143, 1, 2, 3, 4, 5, 6, 7, 8, 9, 10, 11, 12, 13, 14, 15, 16, 17, 18, 19, 20, 21, 22, 23, 24, 25, 26, 27, 28, 29, 30, 31, 32, 33, 34, 35, 36, 37, 38, 39, 40, 41, 42, 43, 44, 45, 46, 47, 48, 49, 50, 51, 52, 53, 54, 55, 56, 57, 58, 59, 60, 61, 62, 63, 64, 65, 66, 67, 68, 69, 70, 71, 72, 73, 74, 75, 76, 77, 78, 79, 80, 81, 82, 83, 84, 85, 86, 87, 88, 89, 90, 91, 92, 93, 94, 95, 96, 97, 98, 99, 100, 101, 102, 103, 104, 105, 106, 107, 108, 109, 110, 111, 112, 113, 114, 115, 116, 117, 118, 119, 120, 121, 122, 123, 124, 125, 126, 127, 128, 129, 130, 131, 132, 133, 134, 135, 136, 137, 138, 139, 140, 141, 142, 143, 1, 2, 3, 4, 5, 6, 7, 8, 9, 10, 11, 12, 13, 14, 15, 16, 17, 18, 19, 20, 21, 22, 23, 24, 25, 26, 27, 28, 29, 30, 31, 32, 33, 34, 35, 36, 37, 38, 39, 40, 41, 42, 43, 44, 45, 46, 47, 48, 49, 50, 51, 52, 53, 54, 55, 56, 57, 58, 59, 60, 61, 62, 63, 64, 65, 66, 67, 68, 69, 70, 71, 72, 73, 74, 75, 76, 77, 78, 79, 80, 81, 82, 83, 84, 85, 86, 87, 88, 89, 90, 91, 92, 93, 94, 95, 96, 97, 98, 99, 100, 101, 102, 103, 104, 105, 106, 107, 108, 109, 110, 111, 112, 113, 114, 115, 116, 117, 118, 119, 120, 121, 122, 123, 124, 125, 126, 127, 128, 129, 130, 131, 132, 133, 134, 135, 136, 137, 138, 139, 140, 141, 142, 143, 1, 2, 3, 4, 5, 6, 7, 8, 9, 10, 11, 12, 13, 14, 15, 16, 17, 18, 19, 20, 21, 22, 23, 24, 25, 26, 27, 28, 29, 30, 31, 32, 33, 34, 35, 36, 37, 38, 39, 40, 41, 42, 43, 44, 45, 46, 47, 48, 49, 50, 51, 52, 53, 54, 55, 56, 57, 58, 59, 60, 61, 62, 63, 64, 65, 66, 67, 68, 69, 70, 71, 72, 73, 74, 75, 76, 77, 78, 79, 80, 81, 82, 83, 84, 85, 86, 87, 88, 89, 90, 91, 92, 93, 94, 95, 96, 97, 98, 99, 100, 101, 102, 103, 104, 105, 106, 107, 108, 109, 110, 111, 112, 113, 114, 115, 116, 117, 118, 119, 120, 121, 122, 123, 124, 125, 126, 127, 128, 129, 130, 131, 132, 133, 134, 135, 136, 137, 138, 139, 140, 141, 142, 143, 1, 2, 3, 4, 5, 6, 7, 8, 9, 10, 11, 12, 13, 14, 15, 16, 17, 18, 19, 20, 21, 22, 23, 24, 25, 26, 27, 28, 29, 30, 31, 32, 33, 34, 35, 36, 37, 38, 39, 40, 41, 42, 43, 44, 45, 46, 47, 48, 49, 50, 51, 52, 53, 54, 55, 56, 57, 58, 59, 60, 61, 62, 63, 64, 65, 66, 67, 68, 69, 70, 71, 72, 73, 74, 75, 76, 77, 78, 79, 80, 81, 82, 83, 84, 85, 86, 87, 88, 89, 90, 91, 92, 93, 94, 95, 96, 97, 98, 99, 100, 101, 102, 103, 104, 105, 106, 107, 108, 109, 110, 111, 112, 113, 114, 115, 116, 117, 118, 119, 120, 121, 122, 123, 124, 125, 126, 127, 128, 129, 130, 131, 132, 133, 134, 135, 136, 137, 138, 139, 140, 141, 142, 143, 1, 2, 3, 4, 5, 6, 7, 8, 9, 10, 11, 12, 13, 14, 15, 16, 17, 18, 19, 20, 21, 22, 23, 24, 25, 26, 27, 28, 29, 30, 31, 32, 33, 34, 35, 36, 37, 38, 39, 40, 41, 42, 43, 44, 45, 46, 47, 48, 49, 50, 51, 52, 53, 54, 55, 56, 57, 58, 59, 60, 61, 62, 63, 64, 65, 66, 67, 68, 69, 70, 71, 72, 73, 74, 75, 76, 77, 78, 79, 80, 81, 82, 83, 84, 85, 86, 87, 88, 89, 90, 91, 92, 93, 94, 95, 96, 97, 98, 99, 100, 101, 102, 103, 104, 105, 106, 107, 108, 109, 110, 111, 112, 113, 114, 115, 116, 117, 118, 119, 120, 121, 122, 123, 124, 125, 126, 127, 128, 129, 130, 131, 132, 133, 134, 135, 136, 137, 138, 139, 140, 141, 142, 143, 1, 2, 3, 4, 5, 6, 7, 8, 9, 10, 11, 12, 13, 14, 15, 16, 17, 18, 19, 20, 21, 22, 23, 24, 25, 26, 27, 28, 29, 30, 31, 32, 33, 34, 35, 36, 37, 38, 39, 40, 41, 42, 43, 44, 45, 46, 47, 48, 49, 50, 51, 52, 53, 54, 55, 56, 57, 58, 59, 60, 61, 62, 63, 64, 65, 66, 67, 68, 69, 70, 71, 72, 73, 74, 75, 76, 77, 78, 79, 80, 81, 82, 83, 84, 85, 86, 87, 88, 89, 90, 91, 92, 93, 94, 95, 96, 97, 98, 99, 100, 101, 102, 103, 104, 105, 106, 107, 108, 109, 110, 111, 112, 113, 114, 115, 116, 117, 118, 119, 120, 121, 122, 123, 124, 125, 126, 127, 128, 129, 130, 131, 132, 133, 134, 135, 136, 137, 138, 139, 140, 141, 142, 143, 1, 2, 3, 4, 5, 6, 7, 8, 9, 10, 11, 12, 13, 14, 15, 16, 17, 18, 19, 20, 21, 22, 23, 24, 25, 26, 27, 28, 29, 30, 31, 32, 33, 34, 35, 36, 37, 38, 39, 40, 41, 42, 43, 44, 45, 46, 47, 48, 49, 50, 51, 52, 53, 54, 55, 56, 57, 58, 59, 60, 61, 62, 63, 64, 65, 66, 67, 68, 69, 70, 71, 72, 73, 74, 75, 76, 77, 78, 79, 80, 81, 82, 83, 84, 85, 86, 87, 88, 89, 90, 91, 92, 93, 94, 95, 96, 97, 98, 99, 100, 101, 102, 103, 104, 105, 106, 107, 108, 109, 110, 111, 112, 113, 114, 115, 116, 117, 118, 119, 120, 121, 122, 123, 124, 125, 126, 127, 128, 129, 130, 131, 132, 133, 134, 135, 136, 137, 138, 139, 140, 141, 142, 143, 1, 2, 3, 4, 5, 6, 7, 8, 9, 10, 11, 12, 13, 14, 15, 16, 17, 18, 19, 20, 21, 22, 23, 24, 25, 26, 27, 28, 29, 30, 31, 32, 33, 34, 35, 36, 37, 38, 39, 40, 41, 42, 43, 44, 45, 46, 47, 48, 49, 50, 51, 52, 53, 54, 55, 56, 57, 58, 59, 60, 61, 62, 63, 64, 65, 66, 67, 68, 69, 70, 71, 72, 73, 74, 75, 76, 77, 78, 79, 80, 81, 82, 83, 84, 85, 86, 87, 88, 89, 90, 91, 92, 93, 94, 95, 96, 97, 98, 99, 100, 101, 102, 103, 104, 105, 106, 107, 108, 109, 110, 111, 112, 113, 114, 115, 116, 117, 118, 119, 120, 121, 122, 123, 124, 125, 126, 127, 128, 129, 130, 131, 132, 133, 134, 135, 136, 137, 138, 139, 140, 141, 142, 143, 1, 2, 3, 4, 5, 6, 7, 8, 9, 10, 11, 12, 13, 14, 15, 16, 17, 18, 19, 20, 21, 22, 23, 24, 25, 26, 27, 28, 29, 30, 31, 32, 33, 34, 35, 36, 37, 38, 39, 40, 41, 42, 43, 44, 45, 46, 47, 48, 49, 50, 51, 52, 53, 54, 55, 56, 57, 58, 59, 60, 61, 62, 63, 64, 65, 66, 67, 68, 69, 70, 71, 72, 73, 74, 75, 76, 77, 78, 79, 80, 81, 82, 83, 84, 85, 86, 87, 88, 89, 90, 91, 92, 93, 94, 95, 96, 97, 98, 99, 100, 101, 102, 103, 104, 105, 106, 107, 108, 109, 110, 111, 112, 113, 114, 115, 116, 117, 118, 119, 120, 121, 122, 123, 124, 125, 126, 127, 128, 129, 130, 131, 132, 133, 134, 135, 136, 137, 138, 139, 140, 141, 142, 143, 1, 2, 3, 4, 5, 6, 7, 8, 9, 10, 11, 12, 13, 14, 15, 16, 17, 18, 19, 20, 21, 22, 23, 24, 25, 26, 27, 28, 29, 30, 31, 32, 33, 34, 35, 36, 37, 38, 39, 40, 41, 42, 43, 44, 45, 46, 47, 48, 49, 50, 51, 52, 53, 54, 55, 56, 57, 58, 59, 60, 61, 62, 63, 64, 65, 66, 67, 68, 69, 70, 71, 72, 73, 74, 75, 76, 77, 78, 79, 80, 81, 82, 83, 84, 85, 86, 87, 88, 89, 90, 91, 92, 93, 94, 95, 96, 97, 98, 99, 100, 101, 102, 103, 104, 105, 106, 107, 108, 109, 110, 111, 112, 113, 114, 115, 116, 117, 118, 119, 120, 121, 122, 123, 124, 125, 126, 127, 128, 129, 130, 131, 132, 133, 134, 135, 136, 137, 138, 139, 140, 141, 142, 143, 1, 2, 3, 4, 5, 6, 7, 8, 9, 10, 11, 12, 13, 14, 15, 16, 17, 18, 19, 20, 21, 22, 23, 24, 25, 26, 27, 28, 29, 30, 31, 32, 33, 34, 35, 36, 37, 38, 39, 40, 41, 42, 43, 44, 45, 46, 47, 48, 49, 50, 51, 52, 53, 54, 55, 56, 57, 58, 59, 60, 61, 62, 63, 64, 65, 66, 67, 68, 69, 70, 71, 72, 73, 74, 75, 76, 77, 78, 79, 80, 81, 82, 83, 84, 85, 86, 87, 88, 89, 90, 91, 92, 93, 94, 95, 96, 97, 98, 99, 100, 101, 102, 103, 104, 105, 106, 107, 108, 109, 110, 111, 112, 113, 114, 115, 116, 117, 118, 119, 120, 121, 122, 123, 124, 125, 126, 127, 128, 129, 130, 131, 132, 133, 134, 135, 136, 137, 138, 139, 140, 141, 142, 143, 1, 2, 3, 4, 5, 6, 7, 8, 9, 10, 11, 12, 13, 14, 15, 16, 17, 18, 19, 20, 21, 22, 23, 24, 25, 26, 27, 28, 29, 30, 31, 32, 33, 34, 35, 36, 37, 38, 39, 40, 41, 42, 43, 44, 45, 46, 47, 48, 49, 50, 51, 52, 53, 54, 55, 56, 57, 58, 59, 60, 61, 62, 63, 64, 65, 66, 67, 68, 69, 70, 71, 72, 73, 74, 75, 76, 77, 78, 79, 80, 81, 82, 83, 84, 85, 86, 87, 88, 89, 90, 91, 92, 93, 94, 95, 96, 97, 98, 99, 100, 101, 102, 103, 104, 105, 106, 107, 108, 109, 110, 111, 112, 113, 114, 115, 116, 117, 118, 119, 120, 121, 122, 123, 124, 125, 126, 127, 128, 129, 130, 131, 132, 133, 134, 135, 136, 137, 138, 139, 140, 141, 142, 143, 1, 2, 3, 4, 5, 6, 7, 8, 9, 10, 11, 12, 13, 14, 15, 16, 17, 18, 19, 20, 21, 22, 23, 24, 25, 26, 27, 28, 29, 30, 31, 32, 33, 34, 35, 36, 37, 38, 39, 40, 41, 42, 43, 44, 45, 46, 47, 48, 49, 50, 51, 52, 53, 54, 55, 56, 57, 58, 59, 60, 61, 62, 63, 64, 65, 66, 67, 68, 69, 70, 71, 72, 73, 74, 75, 76, 77, 78, 79, 80, 81, 82, 83, 84, 85, 86, 87, 88, 89, 90, 91, 92, 93, 94, 95, 96, 97, 98, 99, 100, 101, 102, 103, 104, 105, 106, 107, 108, 109, 110, 111, 112, 113, 114, 115, 116, 117, 118, 119, 120, 121, 122, 123, 124, 125, 126, 127, 128, 129, 130, 131, 132, 133, 134, 135, 136, 137, 138, 139, 140, 141, 142, 143, 1, 2, 3, 4, 5, 6, 7, 8, 9, 10, 11, 12, 13, 14, 15, 16, 17, 18, 19, 20, 21, 22, 23, 24, 25, 26, 27, 28, 29, 30, 31, 32, 33, 34, 35, 36, 37, 38, 39, 40, 41, 42, 43, 44, 45, 46, 47, 48, 49, 50, 51, 52, 53, 54, 55, 56, 57, 58, 59, 60, 61, 62, 63, 64, 65, 66, 67, 68, 69, 70, 71, 72, 73, 74, 75, 76, 77, 78, 79, 80, 81, 82, 83, 84, 85, 86, 87, 88, 89, 90, 91, 92, 93, 94, 95, 96, 97, 98, 99, 100, 101, 102, 103, 104, 105, 106, 107, 108, 109, 110, 111, 112, 113, 114, 115, 116, 117, 118, 119, 120, 121, 122, 123, 124, 125, 126, 127, 128, 129, 130, 131, 132, 133, 134, 135, 136, 137, 138, 139, 140, 141, 142, 143, 1, 2, 3, 4, 5, 6, 7, 8, 9, 10, 11, 12, 13, 14, 15, 16, 17, 18, 19, 20, 21, 22, 23, 24, 25, 26, 27, 28, 29, 30, 31, 32, 33, 34, 35, 36, 37, 38, 39, 40, 41, 42, 43, 44, 45, 46, 47, 48, 49, 50, 51, 52, 53, 54, 55, 56, 57, 58, 59, 60, 61, 62, 63, 64, 65, 66, 67, 68, 69, 70, 71, 72, 73, 74, 75, 76, 77, 78, 79, 80, 81, 82, 83, 84, 85, 86, 87, 88, 89, 90, 91, 92, 93, 94, 95, 96, 97, 98, 99, 100, 101, 102, 103, 104, 105, 106, 107, 108, 109, 110, 111, 112, 113, 114, 115, 116, 117, 118, 119, 120, 121, 122, 123, 124, 125, 126, 127, 128, 129, 130, 131, 132, 133, 134, 135, 136, 137, 138, 139, 140, 141, 142, 143, 1, 2, 3, 4, 5, 6, 7, 8, 9, 10, 11, 12, 13, 14, 15, 16, 17, 18, 19, 20, 21, 22, 23, 24, 25, 26, 27, 28, 29, 30, 31, 32, 33, 34, 35, 36, 37, 38, 39, 40, 41, 42, 43, 44, 45, 46, 47, 48, 49, 50, 51, 52, 53, 54, 55, 56, 57, 58, 59, 60, 61, 62, 63, 64, 65, 66, 67, 68, 69, 70, 71, 72, 73, 74, 75, 76, 77, 78, 79, 80, 81, 82, 83, 84, 85, 86, 87, 88, 89, 90, 91, 92, 93, 94, 95, 96, 97, 98, 99, 100, 101, 102, 103, 104, 105, 106, 107, 108, 109, 110, 111, 112, 113, 114, 115, 116, 117, 118, 119, 120, 121, 122, 123, 124, 125, 126, 127, 128, 129, 130, 131, 132, 133, 134, 135, 136, 137, 138, 139, 140, 141, 142, 143]\n"
     ]
    }
   ],
   "source": [
    "# print the output\n",
    "print(DATE)"
   ]
  },
  {
   "cell_type": "code",
   "execution_count": 74,
   "id": "9d3dea79",
   "metadata": {},
   "outputs": [],
   "source": [
    "# converting into pandas dataframe to merge with walmart data\n",
    "DATE = pd.DataFrame(DATE)"
   ]
  },
  {
   "cell_type": "code",
   "execution_count": 75,
   "id": "3ac789e2",
   "metadata": {},
   "outputs": [
    {
     "data": {
      "text/html": [
       "<div>\n",
       "<style scoped>\n",
       "    .dataframe tbody tr th:only-of-type {\n",
       "        vertical-align: middle;\n",
       "    }\n",
       "\n",
       "    .dataframe tbody tr th {\n",
       "        vertical-align: top;\n",
       "    }\n",
       "\n",
       "    .dataframe thead th {\n",
       "        text-align: right;\n",
       "    }\n",
       "</style>\n",
       "<table border=\"1\" class=\"dataframe\">\n",
       "  <thead>\n",
       "    <tr style=\"text-align: right;\">\n",
       "      <th></th>\n",
       "      <th>Store</th>\n",
       "      <th>Date</th>\n",
       "      <th>Weekly_Sales</th>\n",
       "      <th>Holiday_Flag</th>\n",
       "      <th>Temperature</th>\n",
       "      <th>Fuel_Price</th>\n",
       "      <th>CPI</th>\n",
       "      <th>Unemployment</th>\n",
       "      <th>Day</th>\n",
       "      <th>Month</th>\n",
       "      <th>Year</th>\n",
       "      <th>0</th>\n",
       "    </tr>\n",
       "  </thead>\n",
       "  <tbody>\n",
       "    <tr>\n",
       "      <th>0</th>\n",
       "      <td>1</td>\n",
       "      <td>2010-05-02</td>\n",
       "      <td>1643690.90</td>\n",
       "      <td>0</td>\n",
       "      <td>42.31</td>\n",
       "      <td>2.572</td>\n",
       "      <td>211.096358</td>\n",
       "      <td>8.106</td>\n",
       "      <td>2</td>\n",
       "      <td>5</td>\n",
       "      <td>2010</td>\n",
       "      <td>1</td>\n",
       "    </tr>\n",
       "    <tr>\n",
       "      <th>1</th>\n",
       "      <td>1</td>\n",
       "      <td>2010-12-02</td>\n",
       "      <td>1641957.44</td>\n",
       "      <td>1</td>\n",
       "      <td>38.51</td>\n",
       "      <td>2.548</td>\n",
       "      <td>211.242170</td>\n",
       "      <td>8.106</td>\n",
       "      <td>2</td>\n",
       "      <td>12</td>\n",
       "      <td>2010</td>\n",
       "      <td>2</td>\n",
       "    </tr>\n",
       "    <tr>\n",
       "      <th>2</th>\n",
       "      <td>1</td>\n",
       "      <td>2010-02-19</td>\n",
       "      <td>1611968.17</td>\n",
       "      <td>0</td>\n",
       "      <td>39.93</td>\n",
       "      <td>2.514</td>\n",
       "      <td>211.289143</td>\n",
       "      <td>8.106</td>\n",
       "      <td>19</td>\n",
       "      <td>2</td>\n",
       "      <td>2010</td>\n",
       "      <td>3</td>\n",
       "    </tr>\n",
       "    <tr>\n",
       "      <th>3</th>\n",
       "      <td>1</td>\n",
       "      <td>2010-02-26</td>\n",
       "      <td>1409727.59</td>\n",
       "      <td>0</td>\n",
       "      <td>46.63</td>\n",
       "      <td>2.561</td>\n",
       "      <td>211.319643</td>\n",
       "      <td>8.106</td>\n",
       "      <td>26</td>\n",
       "      <td>2</td>\n",
       "      <td>2010</td>\n",
       "      <td>4</td>\n",
       "    </tr>\n",
       "    <tr>\n",
       "      <th>4</th>\n",
       "      <td>1</td>\n",
       "      <td>2010-05-03</td>\n",
       "      <td>1554806.68</td>\n",
       "      <td>0</td>\n",
       "      <td>46.50</td>\n",
       "      <td>2.625</td>\n",
       "      <td>211.350143</td>\n",
       "      <td>8.106</td>\n",
       "      <td>3</td>\n",
       "      <td>5</td>\n",
       "      <td>2010</td>\n",
       "      <td>5</td>\n",
       "    </tr>\n",
       "  </tbody>\n",
       "</table>\n",
       "</div>"
      ],
      "text/plain": [
       "   Store       Date  Weekly_Sales  Holiday_Flag  Temperature  Fuel_Price  \\\n",
       "0      1 2010-05-02    1643690.90             0        42.31       2.572   \n",
       "1      1 2010-12-02    1641957.44             1        38.51       2.548   \n",
       "2      1 2010-02-19    1611968.17             0        39.93       2.514   \n",
       "3      1 2010-02-26    1409727.59             0        46.63       2.561   \n",
       "4      1 2010-05-03    1554806.68             0        46.50       2.625   \n",
       "\n",
       "          CPI  Unemployment  Day  Month  Year  0  \n",
       "0  211.096358         8.106    2      5  2010  1  \n",
       "1  211.242170         8.106    2     12  2010  2  \n",
       "2  211.289143         8.106   19      2  2010  3  \n",
       "3  211.319643         8.106   26      2  2010  4  \n",
       "4  211.350143         8.106    3      5  2010  5  "
      ]
     },
     "execution_count": 75,
     "metadata": {},
     "output_type": "execute_result"
    }
   ],
   "source": [
    "# merging DATE to walmart data\n",
    "walmart_data_df = pd.concat([walmart_data,DATE],axis=1)\n",
    "walmart_data_df.head()"
   ]
  },
  {
   "cell_type": "code",
   "execution_count": 76,
   "id": "61a4759f",
   "metadata": {},
   "outputs": [],
   "source": [
    "# renaming the column 0 to DATE\n",
    "walmart_data_df.columns = ['DATE' if x==0 else x for x in walmart_data_df.columns]"
   ]
  },
  {
   "cell_type": "code",
   "execution_count": 77,
   "id": "08632176",
   "metadata": {},
   "outputs": [
    {
     "data": {
      "text/html": [
       "<div>\n",
       "<style scoped>\n",
       "    .dataframe tbody tr th:only-of-type {\n",
       "        vertical-align: middle;\n",
       "    }\n",
       "\n",
       "    .dataframe tbody tr th {\n",
       "        vertical-align: top;\n",
       "    }\n",
       "\n",
       "    .dataframe thead th {\n",
       "        text-align: right;\n",
       "    }\n",
       "</style>\n",
       "<table border=\"1\" class=\"dataframe\">\n",
       "  <thead>\n",
       "    <tr style=\"text-align: right;\">\n",
       "      <th></th>\n",
       "      <th>Store</th>\n",
       "      <th>Date</th>\n",
       "      <th>Weekly_Sales</th>\n",
       "      <th>Holiday_Flag</th>\n",
       "      <th>Temperature</th>\n",
       "      <th>Fuel_Price</th>\n",
       "      <th>CPI</th>\n",
       "      <th>Unemployment</th>\n",
       "      <th>Day</th>\n",
       "      <th>Month</th>\n",
       "      <th>Year</th>\n",
       "      <th>DATE</th>\n",
       "    </tr>\n",
       "  </thead>\n",
       "  <tbody>\n",
       "    <tr>\n",
       "      <th>0</th>\n",
       "      <td>1</td>\n",
       "      <td>2010-05-02</td>\n",
       "      <td>1643690.90</td>\n",
       "      <td>0</td>\n",
       "      <td>42.31</td>\n",
       "      <td>2.572</td>\n",
       "      <td>211.096358</td>\n",
       "      <td>8.106</td>\n",
       "      <td>2</td>\n",
       "      <td>5</td>\n",
       "      <td>2010</td>\n",
       "      <td>1</td>\n",
       "    </tr>\n",
       "    <tr>\n",
       "      <th>1</th>\n",
       "      <td>1</td>\n",
       "      <td>2010-12-02</td>\n",
       "      <td>1641957.44</td>\n",
       "      <td>1</td>\n",
       "      <td>38.51</td>\n",
       "      <td>2.548</td>\n",
       "      <td>211.242170</td>\n",
       "      <td>8.106</td>\n",
       "      <td>2</td>\n",
       "      <td>12</td>\n",
       "      <td>2010</td>\n",
       "      <td>2</td>\n",
       "    </tr>\n",
       "    <tr>\n",
       "      <th>2</th>\n",
       "      <td>1</td>\n",
       "      <td>2010-02-19</td>\n",
       "      <td>1611968.17</td>\n",
       "      <td>0</td>\n",
       "      <td>39.93</td>\n",
       "      <td>2.514</td>\n",
       "      <td>211.289143</td>\n",
       "      <td>8.106</td>\n",
       "      <td>19</td>\n",
       "      <td>2</td>\n",
       "      <td>2010</td>\n",
       "      <td>3</td>\n",
       "    </tr>\n",
       "    <tr>\n",
       "      <th>3</th>\n",
       "      <td>1</td>\n",
       "      <td>2010-02-26</td>\n",
       "      <td>1409727.59</td>\n",
       "      <td>0</td>\n",
       "      <td>46.63</td>\n",
       "      <td>2.561</td>\n",
       "      <td>211.319643</td>\n",
       "      <td>8.106</td>\n",
       "      <td>26</td>\n",
       "      <td>2</td>\n",
       "      <td>2010</td>\n",
       "      <td>4</td>\n",
       "    </tr>\n",
       "    <tr>\n",
       "      <th>4</th>\n",
       "      <td>1</td>\n",
       "      <td>2010-05-03</td>\n",
       "      <td>1554806.68</td>\n",
       "      <td>0</td>\n",
       "      <td>46.50</td>\n",
       "      <td>2.625</td>\n",
       "      <td>211.350143</td>\n",
       "      <td>8.106</td>\n",
       "      <td>3</td>\n",
       "      <td>5</td>\n",
       "      <td>2010</td>\n",
       "      <td>5</td>\n",
       "    </tr>\n",
       "  </tbody>\n",
       "</table>\n",
       "</div>"
      ],
      "text/plain": [
       "   Store       Date  Weekly_Sales  Holiday_Flag  Temperature  Fuel_Price  \\\n",
       "0      1 2010-05-02    1643690.90             0        42.31       2.572   \n",
       "1      1 2010-12-02    1641957.44             1        38.51       2.548   \n",
       "2      1 2010-02-19    1611968.17             0        39.93       2.514   \n",
       "3      1 2010-02-26    1409727.59             0        46.63       2.561   \n",
       "4      1 2010-05-03    1554806.68             0        46.50       2.625   \n",
       "\n",
       "          CPI  Unemployment  Day  Month  Year  DATE  \n",
       "0  211.096358         8.106    2      5  2010     1  \n",
       "1  211.242170         8.106    2     12  2010     2  \n",
       "2  211.289143         8.106   19      2  2010     3  \n",
       "3  211.319643         8.106   26      2  2010     4  \n",
       "4  211.350143         8.106    3      5  2010     5  "
      ]
     },
     "execution_count": 77,
     "metadata": {},
     "output_type": "execute_result"
    }
   ],
   "source": [
    "walmart_data_df.head() # to get first five records"
   ]
  },
  {
   "cell_type": "markdown",
   "id": "980d85ec",
   "metadata": {},
   "source": [
    "# So we restructured the date as per the problem statement"
   ]
  },
  {
   "cell_type": "markdown",
   "id": "5b5e979a",
   "metadata": {},
   "source": [
    "# For Store 1 – Build prediction models to forecast demand"
   ]
  },
  {
   "cell_type": "code",
   "execution_count": 78,
   "id": "cc38d0f6",
   "metadata": {},
   "outputs": [
    {
     "data": {
      "text/plain": [
       "(143, 11)"
      ]
     },
     "execution_count": 78,
     "metadata": {},
     "output_type": "execute_result"
    }
   ],
   "source": [
    "# creating a new data for Store 1\n",
    "walmart_data_Store1 = walmart_data_df[walmart_data.Store==1]\n",
    "# we will drop column Date as we already restructed it\n",
    "walmart_data_Store1 = walmart_data_Store1.drop('Date',axis=1)\n",
    "walmart_data_Store1.shape"
   ]
  },
  {
   "cell_type": "code",
   "execution_count": 79,
   "id": "af4dff8d",
   "metadata": {},
   "outputs": [
    {
     "data": {
      "text/html": [
       "<div>\n",
       "<style scoped>\n",
       "    .dataframe tbody tr th:only-of-type {\n",
       "        vertical-align: middle;\n",
       "    }\n",
       "\n",
       "    .dataframe tbody tr th {\n",
       "        vertical-align: top;\n",
       "    }\n",
       "\n",
       "    .dataframe thead th {\n",
       "        text-align: right;\n",
       "    }\n",
       "</style>\n",
       "<table border=\"1\" class=\"dataframe\">\n",
       "  <thead>\n",
       "    <tr style=\"text-align: right;\">\n",
       "      <th></th>\n",
       "      <th>Store</th>\n",
       "      <th>Weekly_Sales</th>\n",
       "      <th>Holiday_Flag</th>\n",
       "      <th>Temperature</th>\n",
       "      <th>Fuel_Price</th>\n",
       "      <th>CPI</th>\n",
       "      <th>Unemployment</th>\n",
       "      <th>Day</th>\n",
       "      <th>Month</th>\n",
       "      <th>Year</th>\n",
       "      <th>DATE</th>\n",
       "    </tr>\n",
       "  </thead>\n",
       "  <tbody>\n",
       "    <tr>\n",
       "      <th>0</th>\n",
       "      <td>1</td>\n",
       "      <td>1643690.90</td>\n",
       "      <td>0</td>\n",
       "      <td>42.31</td>\n",
       "      <td>2.572</td>\n",
       "      <td>211.096358</td>\n",
       "      <td>8.106</td>\n",
       "      <td>2</td>\n",
       "      <td>5</td>\n",
       "      <td>2010</td>\n",
       "      <td>1</td>\n",
       "    </tr>\n",
       "    <tr>\n",
       "      <th>1</th>\n",
       "      <td>1</td>\n",
       "      <td>1641957.44</td>\n",
       "      <td>1</td>\n",
       "      <td>38.51</td>\n",
       "      <td>2.548</td>\n",
       "      <td>211.242170</td>\n",
       "      <td>8.106</td>\n",
       "      <td>2</td>\n",
       "      <td>12</td>\n",
       "      <td>2010</td>\n",
       "      <td>2</td>\n",
       "    </tr>\n",
       "    <tr>\n",
       "      <th>2</th>\n",
       "      <td>1</td>\n",
       "      <td>1611968.17</td>\n",
       "      <td>0</td>\n",
       "      <td>39.93</td>\n",
       "      <td>2.514</td>\n",
       "      <td>211.289143</td>\n",
       "      <td>8.106</td>\n",
       "      <td>19</td>\n",
       "      <td>2</td>\n",
       "      <td>2010</td>\n",
       "      <td>3</td>\n",
       "    </tr>\n",
       "    <tr>\n",
       "      <th>3</th>\n",
       "      <td>1</td>\n",
       "      <td>1409727.59</td>\n",
       "      <td>0</td>\n",
       "      <td>46.63</td>\n",
       "      <td>2.561</td>\n",
       "      <td>211.319643</td>\n",
       "      <td>8.106</td>\n",
       "      <td>26</td>\n",
       "      <td>2</td>\n",
       "      <td>2010</td>\n",
       "      <td>4</td>\n",
       "    </tr>\n",
       "    <tr>\n",
       "      <th>4</th>\n",
       "      <td>1</td>\n",
       "      <td>1554806.68</td>\n",
       "      <td>0</td>\n",
       "      <td>46.50</td>\n",
       "      <td>2.625</td>\n",
       "      <td>211.350143</td>\n",
       "      <td>8.106</td>\n",
       "      <td>3</td>\n",
       "      <td>5</td>\n",
       "      <td>2010</td>\n",
       "      <td>5</td>\n",
       "    </tr>\n",
       "  </tbody>\n",
       "</table>\n",
       "</div>"
      ],
      "text/plain": [
       "   Store  Weekly_Sales  Holiday_Flag  Temperature  Fuel_Price         CPI  \\\n",
       "0      1    1643690.90             0        42.31       2.572  211.096358   \n",
       "1      1    1641957.44             1        38.51       2.548  211.242170   \n",
       "2      1    1611968.17             0        39.93       2.514  211.289143   \n",
       "3      1    1409727.59             0        46.63       2.561  211.319643   \n",
       "4      1    1554806.68             0        46.50       2.625  211.350143   \n",
       "\n",
       "   Unemployment  Day  Month  Year  DATE  \n",
       "0         8.106    2      5  2010     1  \n",
       "1         8.106    2     12  2010     2  \n",
       "2         8.106   19      2  2010     3  \n",
       "3         8.106   26      2  2010     4  \n",
       "4         8.106    3      5  2010     5  "
      ]
     },
     "execution_count": 79,
     "metadata": {},
     "output_type": "execute_result"
    }
   ],
   "source": [
    "walmart_data_Store1.head() # to get first five records"
   ]
  },
  {
   "cell_type": "code",
   "execution_count": 80,
   "id": "121c027c",
   "metadata": {},
   "outputs": [
    {
     "data": {
      "text/plain": [
       "Store             int64\n",
       "Weekly_Sales    float64\n",
       "Holiday_Flag      int64\n",
       "Temperature     float64\n",
       "Fuel_Price      float64\n",
       "CPI             float64\n",
       "Unemployment    float64\n",
       "Day               int64\n",
       "Month             int64\n",
       "Year              int64\n",
       "DATE              int64\n",
       "dtype: object"
      ]
     },
     "execution_count": 80,
     "metadata": {},
     "output_type": "execute_result"
    }
   ],
   "source": [
    "walmart_data_Store1.dtypes # to check type of variables in the data "
   ]
  },
  {
   "cell_type": "code",
   "execution_count": 81,
   "id": "3213fd6d",
   "metadata": {},
   "outputs": [],
   "source": [
    "# Creating a Dependent and Independent variables \n",
    "y = walmart_data_Store1.Weekly_Sales\n",
    "X = walmart_data_Store1.drop('Weekly_Sales',axis=1)"
   ]
  },
  {
   "cell_type": "code",
   "execution_count": 82,
   "id": "c3b0bf73",
   "metadata": {},
   "outputs": [],
   "source": [
    "# split the data into train and test\n",
    "from sklearn.model_selection import train_test_split\n",
    "X_train,X_test,y_train,y_test = train_test_split(X,y,test_size=0.20,random_state=111)"
   ]
  },
  {
   "cell_type": "code",
   "execution_count": 83,
   "id": "3c8255f4",
   "metadata": {},
   "outputs": [
    {
     "name": "stdout",
     "output_type": "stream",
     "text": [
      "(114, 10)\n",
      "(29, 10)\n",
      "(114,)\n",
      "(29,)\n"
     ]
    }
   ],
   "source": [
    "# Check the shape of train and test data\n",
    "print(X_train.shape)\n",
    "print(X_test.shape)\n",
    "print(y_train.shape)\n",
    "print(y_test.shape)"
   ]
  },
  {
   "cell_type": "code",
   "execution_count": 84,
   "id": "168abd7b",
   "metadata": {},
   "outputs": [],
   "source": [
    "# Linear Regression Model\n",
    "from sklearn.linear_model import LinearRegression\n",
    "LR = LinearRegression()"
   ]
  },
  {
   "cell_type": "code",
   "execution_count": 85,
   "id": "81221b36",
   "metadata": {},
   "outputs": [],
   "source": [
    "LRmodel = LR.fit(X_train,y_train)"
   ]
  },
  {
   "cell_type": "code",
   "execution_count": 86,
   "id": "9fd1edfc",
   "metadata": {},
   "outputs": [
    {
     "data": {
      "text/plain": [
       "0.3196902801084288"
      ]
     },
     "execution_count": 86,
     "metadata": {},
     "output_type": "execute_result"
    }
   ],
   "source": [
    "LRmodel.score(X_train,y_train)"
   ]
  },
  {
   "cell_type": "code",
   "execution_count": 87,
   "id": "6146887e",
   "metadata": {},
   "outputs": [],
   "source": [
    "# Decision Tree Model\n",
    "from sklearn.tree import DecisionTreeRegressor\n",
    "DT = DecisionTreeRegressor()"
   ]
  },
  {
   "cell_type": "code",
   "execution_count": 88,
   "id": "80b557f1",
   "metadata": {},
   "outputs": [],
   "source": [
    "DTmodel = DT.fit(X_train,y_train)"
   ]
  },
  {
   "cell_type": "code",
   "execution_count": 89,
   "id": "b9387194",
   "metadata": {},
   "outputs": [
    {
     "data": {
      "text/plain": [
       "1.0"
      ]
     },
     "execution_count": 89,
     "metadata": {},
     "output_type": "execute_result"
    }
   ],
   "source": [
    "DTmodel.score(X_train,y_train)"
   ]
  },
  {
   "cell_type": "code",
   "execution_count": 90,
   "id": "78407104",
   "metadata": {},
   "outputs": [],
   "source": [
    "# Random Forest Regressor\n",
    "from sklearn.ensemble import RandomForestRegressor\n",
    "RF = RandomForestRegressor(n_estimators=2000)"
   ]
  },
  {
   "cell_type": "code",
   "execution_count": 91,
   "id": "3342fc2e",
   "metadata": {},
   "outputs": [],
   "source": [
    "RFmodel = RF.fit(X_train,y_train)"
   ]
  },
  {
   "cell_type": "code",
   "execution_count": 92,
   "id": "f106df57",
   "metadata": {},
   "outputs": [
    {
     "data": {
      "text/plain": [
       "0.9056733609765377"
      ]
     },
     "execution_count": 92,
     "metadata": {},
     "output_type": "execute_result"
    }
   ],
   "source": [
    "RFmodel.score(X_train,y_train)"
   ]
  },
  {
   "cell_type": "code",
   "execution_count": 93,
   "id": "9f10c466",
   "metadata": {},
   "outputs": [],
   "source": [
    "# Gradient Boosting Regressor\n",
    "from sklearn.ensemble import GradientBoostingRegressor\n",
    "GBR = GradientBoostingRegressor(n_estimators=2000)"
   ]
  },
  {
   "cell_type": "code",
   "execution_count": 94,
   "id": "0f7193ce",
   "metadata": {},
   "outputs": [],
   "source": [
    "GBRmodel = GBR.fit(X_train,y_train)"
   ]
  },
  {
   "cell_type": "code",
   "execution_count": 95,
   "id": "bc0a59e4",
   "metadata": {},
   "outputs": [
    {
     "data": {
      "text/plain": [
       "0.9999999999999996"
      ]
     },
     "execution_count": 95,
     "metadata": {},
     "output_type": "execute_result"
    }
   ],
   "source": [
    "GBRmodel.score(X_train,y_train)"
   ]
  },
  {
   "cell_type": "markdown",
   "id": "747106ef",
   "metadata": {},
   "source": [
    "# So from above analysis we found that Random Forest is the best model with a score of 90.56%"
   ]
  },
  {
   "cell_type": "code",
   "execution_count": 96,
   "id": "fa8877f5",
   "metadata": {},
   "outputs": [
    {
     "name": "stdout",
     "output_type": "stream",
     "text": [
      "[1542417.54200502 1405266.11342499 1439339.42863498 1611634.52541499\n",
      " 1577788.49832497 1485203.466335   1666050.38716002 1520361.28539503\n",
      " 1653561.29865999 1530147.89916499 1567260.29938498 1587595.06625502\n",
      " 1624832.92929999 2009252.58384995 1685907.55000503 1666297.19462503\n",
      " 1527752.75742001 1511247.32502498 1652638.77249997 1515648.92061998\n",
      " 1460643.98556499 1474460.228045   1513291.56645499 1573837.967995\n",
      " 1447421.924435   1613773.36685503 1413214.46146499 1517788.74871502\n",
      " 1516488.33070002]\n"
     ]
    }
   ],
   "source": [
    "# predicted values for Store 1 \n",
    "RFpredict = RFmodel.predict(X_test)\n",
    "print(RFpredict)"
   ]
  },
  {
   "cell_type": "code",
   "execution_count": 97,
   "id": "47eb5c51",
   "metadata": {},
   "outputs": [
    {
     "data": {
      "text/html": [
       "<div>\n",
       "<style scoped>\n",
       "    .dataframe tbody tr th:only-of-type {\n",
       "        vertical-align: middle;\n",
       "    }\n",
       "\n",
       "    .dataframe tbody tr th {\n",
       "        vertical-align: top;\n",
       "    }\n",
       "\n",
       "    .dataframe thead th {\n",
       "        text-align: right;\n",
       "    }\n",
       "</style>\n",
       "<table border=\"1\" class=\"dataframe\">\n",
       "  <thead>\n",
       "    <tr style=\"text-align: right;\">\n",
       "      <th></th>\n",
       "      <th>Actual</th>\n",
       "      <th>Predicted</th>\n",
       "    </tr>\n",
       "  </thead>\n",
       "  <tbody>\n",
       "    <tr>\n",
       "      <th>39</th>\n",
       "      <td>1551659.28</td>\n",
       "      <td>1542417.500</td>\n",
       "    </tr>\n",
       "    <tr>\n",
       "      <th>24</th>\n",
       "      <td>1385065.20</td>\n",
       "      <td>1405266.125</td>\n",
       "    </tr>\n",
       "    <tr>\n",
       "      <th>15</th>\n",
       "      <td>1399662.07</td>\n",
       "      <td>1439339.375</td>\n",
       "    </tr>\n",
       "    <tr>\n",
       "      <th>57</th>\n",
       "      <td>1553191.63</td>\n",
       "      <td>1611634.500</td>\n",
       "    </tr>\n",
       "    <tr>\n",
       "      <th>87</th>\n",
       "      <td>1630989.95</td>\n",
       "      <td>1577788.500</td>\n",
       "    </tr>\n",
       "    <tr>\n",
       "      <th>36</th>\n",
       "      <td>1459409.10</td>\n",
       "      <td>1485203.500</td>\n",
       "    </tr>\n",
       "    <tr>\n",
       "      <th>105</th>\n",
       "      <td>1802477.43</td>\n",
       "      <td>1666050.375</td>\n",
       "    </tr>\n",
       "    <tr>\n",
       "      <th>26</th>\n",
       "      <td>1605491.78</td>\n",
       "      <td>1520361.250</td>\n",
       "    </tr>\n",
       "    <tr>\n",
       "      <th>65</th>\n",
       "      <td>1629391.28</td>\n",
       "      <td>1653561.250</td>\n",
       "    </tr>\n",
       "    <tr>\n",
       "      <th>67</th>\n",
       "      <td>1428218.27</td>\n",
       "      <td>1530147.875</td>\n",
       "    </tr>\n",
       "    <tr>\n",
       "      <th>132</th>\n",
       "      <td>1597868.05</td>\n",
       "      <td>1567260.250</td>\n",
       "    </tr>\n",
       "    <tr>\n",
       "      <th>0</th>\n",
       "      <td>1643690.90</td>\n",
       "      <td>1587595.125</td>\n",
       "    </tr>\n",
       "    <tr>\n",
       "      <th>110</th>\n",
       "      <td>1677472.78</td>\n",
       "      <td>1624832.875</td>\n",
       "    </tr>\n",
       "    <tr>\n",
       "      <th>47</th>\n",
       "      <td>1367320.01</td>\n",
       "      <td>2009252.625</td>\n",
       "    </tr>\n",
       "    <tr>\n",
       "      <th>109</th>\n",
       "      <td>1675431.16</td>\n",
       "      <td>1685907.500</td>\n",
       "    </tr>\n",
       "    <tr>\n",
       "      <th>104</th>\n",
       "      <td>1636339.65</td>\n",
       "      <td>1666297.250</td>\n",
       "    </tr>\n",
       "    <tr>\n",
       "      <th>133</th>\n",
       "      <td>1494122.38</td>\n",
       "      <td>1527752.750</td>\n",
       "    </tr>\n",
       "    <tr>\n",
       "      <th>138</th>\n",
       "      <td>1437059.26</td>\n",
       "      <td>1511247.375</td>\n",
       "    </tr>\n",
       "    <tr>\n",
       "      <th>130</th>\n",
       "      <td>1631135.79</td>\n",
       "      <td>1652638.750</td>\n",
       "    </tr>\n",
       "    <tr>\n",
       "      <th>137</th>\n",
       "      <td>1506126.06</td>\n",
       "      <td>1515648.875</td>\n",
       "    </tr>\n",
       "    <tr>\n",
       "      <th>89</th>\n",
       "      <td>1502562.78</td>\n",
       "      <td>1460644.000</td>\n",
       "    </tr>\n",
       "    <tr>\n",
       "      <th>2</th>\n",
       "      <td>1611968.17</td>\n",
       "      <td>1474460.250</td>\n",
       "    </tr>\n",
       "    <tr>\n",
       "      <th>129</th>\n",
       "      <td>1439123.71</td>\n",
       "      <td>1513291.625</td>\n",
       "    </tr>\n",
       "    <tr>\n",
       "      <th>60</th>\n",
       "      <td>1495064.75</td>\n",
       "      <td>1573838.000</td>\n",
       "    </tr>\n",
       "    <tr>\n",
       "      <th>85</th>\n",
       "      <td>1380020.27</td>\n",
       "      <td>1447421.875</td>\n",
       "    </tr>\n",
       "    <tr>\n",
       "      <th>52</th>\n",
       "      <td>1606629.58</td>\n",
       "      <td>1613773.375</td>\n",
       "    </tr>\n",
       "    <tr>\n",
       "      <th>16</th>\n",
       "      <td>1432069.95</td>\n",
       "      <td>1413214.500</td>\n",
       "    </tr>\n",
       "    <tr>\n",
       "      <th>22</th>\n",
       "      <td>1546074.18</td>\n",
       "      <td>1517788.750</td>\n",
       "    </tr>\n",
       "    <tr>\n",
       "      <th>35</th>\n",
       "      <td>1508239.93</td>\n",
       "      <td>1516488.375</td>\n",
       "    </tr>\n",
       "  </tbody>\n",
       "</table>\n",
       "</div>"
      ],
      "text/plain": [
       "         Actual    Predicted\n",
       "39   1551659.28  1542417.500\n",
       "24   1385065.20  1405266.125\n",
       "15   1399662.07  1439339.375\n",
       "57   1553191.63  1611634.500\n",
       "87   1630989.95  1577788.500\n",
       "36   1459409.10  1485203.500\n",
       "105  1802477.43  1666050.375\n",
       "26   1605491.78  1520361.250\n",
       "65   1629391.28  1653561.250\n",
       "67   1428218.27  1530147.875\n",
       "132  1597868.05  1567260.250\n",
       "0    1643690.90  1587595.125\n",
       "110  1677472.78  1624832.875\n",
       "47   1367320.01  2009252.625\n",
       "109  1675431.16  1685907.500\n",
       "104  1636339.65  1666297.250\n",
       "133  1494122.38  1527752.750\n",
       "138  1437059.26  1511247.375\n",
       "130  1631135.79  1652638.750\n",
       "137  1506126.06  1515648.875\n",
       "89   1502562.78  1460644.000\n",
       "2    1611968.17  1474460.250\n",
       "129  1439123.71  1513291.625\n",
       "60   1495064.75  1573838.000\n",
       "85   1380020.27  1447421.875\n",
       "52   1606629.58  1613773.375\n",
       "16   1432069.95  1413214.500\n",
       "22   1546074.18  1517788.750\n",
       "35   1508239.93  1516488.375"
      ]
     },
     "execution_count": 97,
     "metadata": {},
     "output_type": "execute_result"
    }
   ],
   "source": [
    "# compare actual values with predicted \n",
    "predicted = pd.DataFrame({'Actual':y_test,'Predicted':RFpredict})\n",
    "predicted.Predicted = pd.to_numeric(predicted.Predicted,downcast='float')\n",
    "predicted"
   ]
  },
  {
   "cell_type": "markdown",
   "id": "4b6632ef",
   "metadata": {},
   "source": [
    "# Now we will Build prediction models on whole data"
   ]
  },
  {
   "cell_type": "code",
   "execution_count": 98,
   "id": "44f61309",
   "metadata": {},
   "outputs": [
    {
     "data": {
      "text/html": [
       "<div>\n",
       "<style scoped>\n",
       "    .dataframe tbody tr th:only-of-type {\n",
       "        vertical-align: middle;\n",
       "    }\n",
       "\n",
       "    .dataframe tbody tr th {\n",
       "        vertical-align: top;\n",
       "    }\n",
       "\n",
       "    .dataframe thead th {\n",
       "        text-align: right;\n",
       "    }\n",
       "</style>\n",
       "<table border=\"1\" class=\"dataframe\">\n",
       "  <thead>\n",
       "    <tr style=\"text-align: right;\">\n",
       "      <th></th>\n",
       "      <th>Store</th>\n",
       "      <th>Date</th>\n",
       "      <th>Weekly_Sales</th>\n",
       "      <th>Holiday_Flag</th>\n",
       "      <th>Temperature</th>\n",
       "      <th>Fuel_Price</th>\n",
       "      <th>CPI</th>\n",
       "      <th>Unemployment</th>\n",
       "      <th>Day</th>\n",
       "      <th>Month</th>\n",
       "      <th>Year</th>\n",
       "      <th>DATE</th>\n",
       "    </tr>\n",
       "  </thead>\n",
       "  <tbody>\n",
       "    <tr>\n",
       "      <th>0</th>\n",
       "      <td>1</td>\n",
       "      <td>2010-05-02</td>\n",
       "      <td>1643690.90</td>\n",
       "      <td>0</td>\n",
       "      <td>42.31</td>\n",
       "      <td>2.572</td>\n",
       "      <td>211.096358</td>\n",
       "      <td>8.106</td>\n",
       "      <td>2</td>\n",
       "      <td>5</td>\n",
       "      <td>2010</td>\n",
       "      <td>1</td>\n",
       "    </tr>\n",
       "    <tr>\n",
       "      <th>1</th>\n",
       "      <td>1</td>\n",
       "      <td>2010-12-02</td>\n",
       "      <td>1641957.44</td>\n",
       "      <td>1</td>\n",
       "      <td>38.51</td>\n",
       "      <td>2.548</td>\n",
       "      <td>211.242170</td>\n",
       "      <td>8.106</td>\n",
       "      <td>2</td>\n",
       "      <td>12</td>\n",
       "      <td>2010</td>\n",
       "      <td>2</td>\n",
       "    </tr>\n",
       "    <tr>\n",
       "      <th>2</th>\n",
       "      <td>1</td>\n",
       "      <td>2010-02-19</td>\n",
       "      <td>1611968.17</td>\n",
       "      <td>0</td>\n",
       "      <td>39.93</td>\n",
       "      <td>2.514</td>\n",
       "      <td>211.289143</td>\n",
       "      <td>8.106</td>\n",
       "      <td>19</td>\n",
       "      <td>2</td>\n",
       "      <td>2010</td>\n",
       "      <td>3</td>\n",
       "    </tr>\n",
       "    <tr>\n",
       "      <th>3</th>\n",
       "      <td>1</td>\n",
       "      <td>2010-02-26</td>\n",
       "      <td>1409727.59</td>\n",
       "      <td>0</td>\n",
       "      <td>46.63</td>\n",
       "      <td>2.561</td>\n",
       "      <td>211.319643</td>\n",
       "      <td>8.106</td>\n",
       "      <td>26</td>\n",
       "      <td>2</td>\n",
       "      <td>2010</td>\n",
       "      <td>4</td>\n",
       "    </tr>\n",
       "    <tr>\n",
       "      <th>4</th>\n",
       "      <td>1</td>\n",
       "      <td>2010-05-03</td>\n",
       "      <td>1554806.68</td>\n",
       "      <td>0</td>\n",
       "      <td>46.50</td>\n",
       "      <td>2.625</td>\n",
       "      <td>211.350143</td>\n",
       "      <td>8.106</td>\n",
       "      <td>3</td>\n",
       "      <td>5</td>\n",
       "      <td>2010</td>\n",
       "      <td>5</td>\n",
       "    </tr>\n",
       "  </tbody>\n",
       "</table>\n",
       "</div>"
      ],
      "text/plain": [
       "   Store       Date  Weekly_Sales  Holiday_Flag  Temperature  Fuel_Price  \\\n",
       "0      1 2010-05-02    1643690.90             0        42.31       2.572   \n",
       "1      1 2010-12-02    1641957.44             1        38.51       2.548   \n",
       "2      1 2010-02-19    1611968.17             0        39.93       2.514   \n",
       "3      1 2010-02-26    1409727.59             0        46.63       2.561   \n",
       "4      1 2010-05-03    1554806.68             0        46.50       2.625   \n",
       "\n",
       "          CPI  Unemployment  Day  Month  Year  DATE  \n",
       "0  211.096358         8.106    2      5  2010     1  \n",
       "1  211.242170         8.106    2     12  2010     2  \n",
       "2  211.289143         8.106   19      2  2010     3  \n",
       "3  211.319643         8.106   26      2  2010     4  \n",
       "4  211.350143         8.106    3      5  2010     5  "
      ]
     },
     "execution_count": 98,
     "metadata": {},
     "output_type": "execute_result"
    }
   ],
   "source": [
    "walmart_data_df.head() # to get first five records"
   ]
  },
  {
   "cell_type": "code",
   "execution_count": 99,
   "id": "d6f07b83",
   "metadata": {},
   "outputs": [
    {
     "data": {
      "text/plain": [
       "(6435, 12)"
      ]
     },
     "execution_count": 99,
     "metadata": {},
     "output_type": "execute_result"
    }
   ],
   "source": [
    "walmart_data_df.shape # to see rows and columns"
   ]
  },
  {
   "cell_type": "code",
   "execution_count": 100,
   "id": "797d25b9",
   "metadata": {},
   "outputs": [
    {
     "data": {
      "text/plain": [
       "(6435, 11)"
      ]
     },
     "execution_count": 100,
     "metadata": {},
     "output_type": "execute_result"
    }
   ],
   "source": [
    "# Drop the Date variable as it is restructured\n",
    "walmart_data_final = walmart_data_df.drop(['Date'],axis=1)\n",
    "walmart_data_final.shape"
   ]
  },
  {
   "cell_type": "code",
   "execution_count": 101,
   "id": "c997b66d",
   "metadata": {},
   "outputs": [
    {
     "data": {
      "image/png": "[encoded data removed]",
      "text/plain": [
       "<Figure size 432x288 with 1 Axes>"
      ]
     },
     "metadata": {
      "needs_background": "light"
     },
     "output_type": "display_data"
    },
    {
     "data": {
      "image/png": "[encoded data removed]",
      "text/plain": [
       "<Figure size 432x288 with 1 Axes>"
      ]
     },
     "metadata": {
      "needs_background": "light"
     },
     "output_type": "display_data"
    },
    {
     "data": {
      "image/png": "[encoded data removed]",
      "text/plain": [
       "<Figure size 432x288 with 1 Axes>"
      ]
     },
     "metadata": {
      "needs_background": "light"
     },
     "output_type": "display_data"
    },
    {
     "data": {
      "image/png": "[encoded data removed]",
      "text/plain": [
       "<Figure size 432x288 with 1 Axes>"
      ]
     },
     "metadata": {
      "needs_background": "light"
     },
     "output_type": "display_data"
    }
   ],
   "source": [
    "# Check for outliers\n",
    "\n",
    "# Temperature\n",
    "plt.boxplot(walmart_data_final.Temperature,vert=False)\n",
    "plt.title('Boxplot of Temperature Price')\n",
    "plt.grid(True)\n",
    "plt.show()\n",
    "\n",
    "# Fuel Price\n",
    "plt.boxplot(walmart_data_final.Fuel_Price,vert=False)\n",
    "plt.title('Boxplot of Fuel Price')\n",
    "plt.grid(True)\n",
    "plt.show()\n",
    "\n",
    "# CPI\n",
    "plt.boxplot(walmart_data_final.CPI,vert=False)\n",
    "plt.title('Boxplot of CPI')\n",
    "plt.grid(True)\n",
    "plt.show()\n",
    "\n",
    "# Unemployment\n",
    "plt.boxplot(walmart_data_final.Unemployment,vert=False)\n",
    "plt.title('Boxplot of Unemployment')\n",
    "plt.grid(True)\n",
    "plt.show()"
   ]
  },
  {
   "cell_type": "markdown",
   "id": "cb581d4e",
   "metadata": {},
   "source": [
    "# There are some outliers in Unemployment and Temperature column so we will delete outliers as it affects the model performance"
   ]
  },
  {
   "cell_type": "code",
   "execution_count": 102,
   "id": "6ddd9541",
   "metadata": {},
   "outputs": [],
   "source": [
    "# Removing Outlier\n",
    "walmart_data_final = walmart_data_final[(walmart_data_final.Unemployment<10)&(walmart_data_final.Unemployment>4.5)\n",
    "                                    &(walmart_data_final.Temperature>10)]"
   ]
  },
  {
   "cell_type": "code",
   "execution_count": 103,
   "id": "74814723",
   "metadata": {},
   "outputs": [
    {
     "data": {
      "text/plain": [
       "(5658, 11)"
      ]
     },
     "execution_count": 103,
     "metadata": {},
     "output_type": "execute_result"
    }
   ],
   "source": [
    "walmart_data_final.shape"
   ]
  },
  {
   "cell_type": "code",
   "execution_count": 104,
   "id": "79b68f73",
   "metadata": {},
   "outputs": [
    {
     "data": {
      "image/png": "[encoded data removed]",
      "text/plain": [
       "<Figure size 432x288 with 1 Axes>"
      ]
     },
     "metadata": {
      "needs_background": "light"
     },
     "output_type": "display_data"
    },
    {
     "data": {
      "image/png": "[encoded data removed]",
      "text/plain": [
       "<Figure size 432x288 with 1 Axes>"
      ]
     },
     "metadata": {
      "needs_background": "light"
     },
     "output_type": "display_data"
    }
   ],
   "source": [
    "# Check if outliers are removed\n",
    "# Temperature\n",
    "plt.boxplot(walmart_data_final.Temperature,vert=False)\n",
    "plt.title('Boxplot of Temperature Price')\n",
    "plt.grid(True)\n",
    "plt.show()\n",
    "\n",
    "# Unemployment\n",
    "plt.boxplot(walmart_data_final.Unemployment,vert=False)\n",
    "plt.title('Boxplot of Unemployment')\n",
    "plt.grid(True)\n",
    "plt.show()"
   ]
  },
  {
   "cell_type": "markdown",
   "id": "1baedd0d",
   "metadata": {},
   "source": [
    "# Now we can see that the outliers are removed"
   ]
  },
  {
   "cell_type": "code",
   "execution_count": 105,
   "id": "01b7d691",
   "metadata": {},
   "outputs": [],
   "source": [
    "# Creating a Dependent and Independent variables \n",
    "y1 = walmart_data_final.Weekly_Sales\n",
    "X1 = walmart_data_final.drop(['Weekly_Sales'],axis=1)"
   ]
  },
  {
   "cell_type": "code",
   "execution_count": 106,
   "id": "8ab6297b",
   "metadata": {},
   "outputs": [],
   "source": [
    "# split the data into train and test\n",
    "X1_train,X1_test,y1_train,y1_test = train_test_split(X1,y1,test_size=0.20,random_state=111)"
   ]
  },
  {
   "cell_type": "code",
   "execution_count": 107,
   "id": "6b3b3676",
   "metadata": {},
   "outputs": [
    {
     "name": "stdout",
     "output_type": "stream",
     "text": [
      "(4526, 10)\n",
      "(1132, 10)\n",
      "(4526,)\n",
      "(1132,)\n"
     ]
    }
   ],
   "source": [
    "# Check shape of train and test data\n",
    "print(X1_train.shape)\n",
    "print(X1_test.shape)\n",
    "print(y1_train.shape)\n",
    "print(y1_test.shape)"
   ]
  },
  {
   "cell_type": "code",
   "execution_count": 108,
   "id": "d564219f",
   "metadata": {},
   "outputs": [],
   "source": [
    "# Linear Regression Model\n",
    "from sklearn.linear_model import LinearRegression\n",
    "LR = LinearRegression()\n",
    "LRmodel1 = LR.fit(X1_train,y1_train)"
   ]
  },
  {
   "cell_type": "code",
   "execution_count": 109,
   "id": "bf00a967",
   "metadata": {},
   "outputs": [
    {
     "data": {
      "text/plain": [
       "0.1392828266511137"
      ]
     },
     "execution_count": 109,
     "metadata": {},
     "output_type": "execute_result"
    }
   ],
   "source": [
    "LRmodel1.score(X1_train,y1_train)"
   ]
  },
  {
   "cell_type": "code",
   "execution_count": 110,
   "id": "4d7d9bf3",
   "metadata": {},
   "outputs": [],
   "source": [
    "# Decision Tree Model\n",
    "from sklearn.tree import DecisionTreeRegressor\n",
    "DT = DecisionTreeRegressor()\n",
    "DTmodel1 = DT.fit(X1_train,y1_train)"
   ]
  },
  {
   "cell_type": "code",
   "execution_count": 111,
   "id": "ec0af2ed",
   "metadata": {},
   "outputs": [
    {
     "data": {
      "text/plain": [
       "1.0"
      ]
     },
     "execution_count": 111,
     "metadata": {},
     "output_type": "execute_result"
    }
   ],
   "source": [
    "DTmodel1.score(X1_train,y1_train)"
   ]
  },
  {
   "cell_type": "code",
   "execution_count": 112,
   "id": "9b4b2d72",
   "metadata": {},
   "outputs": [],
   "source": [
    "# Random Forest Model\n",
    "from sklearn.ensemble import RandomForestRegressor\n",
    "RF = RandomForestRegressor(n_estimators = 1000,max_depth=15,n_jobs=5)\n",
    "RFmodel1 = RF.fit(X1_train,y1_train)"
   ]
  },
  {
   "cell_type": "code",
   "execution_count": 113,
   "id": "7bc9effb",
   "metadata": {},
   "outputs": [
    {
     "data": {
      "text/plain": [
       "0.9902499160064397"
      ]
     },
     "execution_count": 113,
     "metadata": {},
     "output_type": "execute_result"
    }
   ],
   "source": [
    "RFmodel1.score(X1_train,y1_train)"
   ]
  },
  {
   "cell_type": "code",
   "execution_count": 114,
   "id": "3c5bbb5d",
   "metadata": {},
   "outputs": [],
   "source": [
    "# Gradient Boosting Regressor\n",
    "from sklearn.ensemble import GradientBoostingRegressor\n",
    "GBR = GradientBoostingRegressor(n_estimators=1000)\n",
    "GBRmodel1 = GBR.fit(X1_train,y1_train)"
   ]
  },
  {
   "cell_type": "code",
   "execution_count": 115,
   "id": "840688d0",
   "metadata": {},
   "outputs": [
    {
     "data": {
      "text/plain": [
       "0.9903927533005779"
      ]
     },
     "execution_count": 115,
     "metadata": {},
     "output_type": "execute_result"
    }
   ],
   "source": [
    "GBRmodel1.score(X1_train,y1_train)"
   ]
  },
  {
   "cell_type": "markdown",
   "id": "a93840af",
   "metadata": {},
   "source": [
    "# So from above analysis we found that none of the model is best fit so we will use feature reduction techniques and select specific columns to see if we get a best fit model"
   ]
  },
  {
   "cell_type": "markdown",
   "id": "20ad1790",
   "metadata": {},
   "source": [
    "# Here we will also use sklearn.metrics to get MAE,MSE,RMSE of the models"
   ]
  },
  {
   "cell_type": "code",
   "execution_count": 116,
   "id": "84a0f80f",
   "metadata": {},
   "outputs": [],
   "source": [
    "# Import sklearn \n",
    "from sklearn.ensemble import RandomForestRegressor\n",
    "from sklearn.model_selection import train_test_split\n",
    "from sklearn import metrics\n",
    "from sklearn.linear_model import LinearRegression\n",
    "from sklearn.tree import DecisionTreeRegressor\n",
    "from sklearn.ensemble import GradientBoostingRegressor"
   ]
  },
  {
   "cell_type": "code",
   "execution_count": 117,
   "id": "e8538df3",
   "metadata": {},
   "outputs": [],
   "source": [
    "# Select Dependent and Independent Variable \n",
    "X = walmart_data_final[['Store','Fuel_Price','CPI','Unemployment','Day','Month','Year']]\n",
    "y = walmart_data_final['Weekly_Sales']\n",
    "\n",
    "# Split data to train and test (0.80:0.20)\n",
    "X_train, X_test, y_train, y_test = train_test_split(X,y,test_size=0.2,random_state=111)"
   ]
  },
  {
   "cell_type": "code",
   "execution_count": 118,
   "id": "2116b0a8",
   "metadata": {},
   "outputs": [
    {
     "name": "stdout",
     "output_type": "stream",
     "text": [
      "Linear Regression:\n",
      "\n",
      "Accuracy: 13.532117397405907\n",
      "Mean Absolute Error: 447950.57687547826\n",
      "Mean Squared Error: 290005188223.1115\n",
      "Root Mean Squared Error: 538521.2978361315\n"
     ]
    }
   ],
   "source": [
    "# Linear Regression model\n",
    "print('Linear Regression:')\n",
    "print()\n",
    "reg = LinearRegression()\n",
    "reg.fit(X_train, y_train)\n",
    "reg_pred = reg.predict(X_test)\n",
    "print('Accuracy:',reg.score(X_train, y_train)*100)\n",
    "\n",
    "\n",
    "print('Mean Absolute Error:', metrics.mean_absolute_error(y_test, reg_pred))\n",
    "print('Mean Squared Error:', metrics.mean_squared_error(y_test, reg_pred))\n",
    "print('Root Mean Squared Error:', np.sqrt(metrics.mean_squared_error(y_test, reg_pred)))"
   ]
  },
  {
   "cell_type": "code",
   "execution_count": 119,
   "id": "cae7e247",
   "metadata": {},
   "outputs": [
    {
     "name": "stdout",
     "output_type": "stream",
     "text": [
      "Decision Tree:\n",
      "\n",
      "Accuracy: 100.0\n",
      "Mean Absolute Error: 79476.36668727915\n",
      "Mean Squared Error: 20026881036.07893\n",
      "Root Mean Squared Error: 141516.3631389633\n"
     ]
    }
   ],
   "source": [
    "# Decision Tree model\n",
    "print('Decision Tree:')\n",
    "print()\n",
    "dt = DecisionTreeRegressor()\n",
    "dt.fit(X_train, y_train)\n",
    "dt_pred = dt.predict(X_test)\n",
    "print('Accuracy:',dt.score(X_train, y_train)*100)\n",
    "\n",
    "\n",
    "print('Mean Absolute Error:', metrics.mean_absolute_error(y_test, dt_pred))\n",
    "print('Mean Squared Error:', metrics.mean_squared_error(y_test, dt_pred))\n",
    "print('Root Mean Squared Error:', np.sqrt(metrics.mean_squared_error(y_test, dt_pred)))"
   ]
  },
  {
   "cell_type": "code",
   "execution_count": 120,
   "id": "4be6b01d",
   "metadata": {},
   "outputs": [
    {
     "name": "stdout",
     "output_type": "stream",
     "text": [
      "Random Forest Regressor:\n",
      "\n",
      "Accuracy: 94.69823793959632\n",
      "Mean Absolute Error: 70472.67690208786\n",
      "Mean Squared Error: 17124210128.252043\n",
      "Root Mean Squared Error: 130859.50530340562\n"
     ]
    }
   ],
   "source": [
    "# Random Forest Model\n",
    "print('Random Forest Regressor:')\n",
    "print()\n",
    "rf = RandomForestRegressor(n_estimators = 400,max_depth=15,n_jobs=5)        \n",
    "rf.fit(X_train,y_train)\n",
    "rf_pred=rf.predict(X_test)\n",
    "print('Accuracy:',rf.score(X_test, y_test)*100)\n",
    "\n",
    "print('Mean Absolute Error:', metrics.mean_absolute_error(y_test, rf_pred))\n",
    "print('Mean Squared Error:', metrics.mean_squared_error(y_test, rf_pred))\n",
    "print('Root Mean Squared Error:', np.sqrt(metrics.mean_squared_error(y_test, rf_pred)))"
   ]
  },
  {
   "cell_type": "code",
   "execution_count": 121,
   "id": "d9913d3f",
   "metadata": {},
   "outputs": [
    {
     "name": "stdout",
     "output_type": "stream",
     "text": [
      "Gradient Boosting Regressor:\n",
      "\n",
      "Accuracy: 96.67426006213536\n",
      "Mean Absolute Error: 65466.73175640061\n",
      "Mean Squared Error: 10741838067.998434\n",
      "Root Mean Squared Error: 103642.83896149523\n"
     ]
    }
   ],
   "source": [
    "# Gradient Boosting Model\n",
    "print('Gradient Boosting Regressor:')\n",
    "print()\n",
    "gbr = GradientBoostingRegressor(n_estimators = 400)        \n",
    "gbr.fit(X_train,y_train)\n",
    "gbr_pred=gbr.predict(X_test)\n",
    "print('Accuracy:',gbr.score(X_test, y_test)*100)\n",
    "\n",
    "print('Mean Absolute Error:', metrics.mean_absolute_error(y_test, gbr_pred))\n",
    "print('Mean Squared Error:', metrics.mean_squared_error(y_test, gbr_pred))\n",
    "print('Root Mean Squared Error:', np.sqrt(metrics.mean_squared_error(y_test, gbr_pred)))"
   ]
  },
  {
   "cell_type": "markdown",
   "id": "ebbdbf4d",
   "metadata": {},
   "source": [
    "# So from above analysis we found that Random Forest is the best model with a score of 94.69%"
   ]
  },
  {
   "cell_type": "code",
   "execution_count": 122,
   "id": "ffbc4294",
   "metadata": {},
   "outputs": [
    {
     "data": {
      "text/html": [
       "<div>\n",
       "<style scoped>\n",
       "    .dataframe tbody tr th:only-of-type {\n",
       "        vertical-align: middle;\n",
       "    }\n",
       "\n",
       "    .dataframe tbody tr th {\n",
       "        vertical-align: top;\n",
       "    }\n",
       "\n",
       "    .dataframe thead th {\n",
       "        text-align: right;\n",
       "    }\n",
       "</style>\n",
       "<table border=\"1\" class=\"dataframe\">\n",
       "  <thead>\n",
       "    <tr style=\"text-align: right;\">\n",
       "      <th></th>\n",
       "      <th>Actual</th>\n",
       "      <th>Predicted</th>\n",
       "    </tr>\n",
       "  </thead>\n",
       "  <tbody>\n",
       "    <tr>\n",
       "      <th>2920</th>\n",
       "      <td>732056.37</td>\n",
       "      <td>7.315326e+05</td>\n",
       "    </tr>\n",
       "    <tr>\n",
       "      <th>2682</th>\n",
       "      <td>1308977.05</td>\n",
       "      <td>1.419986e+06</td>\n",
       "    </tr>\n",
       "    <tr>\n",
       "      <th>4453</th>\n",
       "      <td>1124763.74</td>\n",
       "      <td>1.170106e+06</td>\n",
       "    </tr>\n",
       "    <tr>\n",
       "      <th>2161</th>\n",
       "      <td>479430.00</td>\n",
       "      <td>4.466028e+05</td>\n",
       "    </tr>\n",
       "    <tr>\n",
       "      <th>3359</th>\n",
       "      <td>1373841.91</td>\n",
       "      <td>1.416658e+06</td>\n",
       "    </tr>\n",
       "    <tr>\n",
       "      <th>6230</th>\n",
       "      <td>324174.79</td>\n",
       "      <td>2.917946e+05</td>\n",
       "    </tr>\n",
       "    <tr>\n",
       "      <th>4875</th>\n",
       "      <td>1182099.88</td>\n",
       "      <td>1.171478e+06</td>\n",
       "    </tr>\n",
       "    <tr>\n",
       "      <th>1206</th>\n",
       "      <td>528420.28</td>\n",
       "      <td>5.433805e+05</td>\n",
       "    </tr>\n",
       "    <tr>\n",
       "      <th>4467</th>\n",
       "      <td>1061089.56</td>\n",
       "      <td>1.086240e+06</td>\n",
       "    </tr>\n",
       "    <tr>\n",
       "      <th>3844</th>\n",
       "      <td>2062224.92</td>\n",
       "      <td>1.827990e+06</td>\n",
       "    </tr>\n",
       "    <tr>\n",
       "      <th>5036</th>\n",
       "      <td>434471.38</td>\n",
       "      <td>4.584942e+05</td>\n",
       "    </tr>\n",
       "    <tr>\n",
       "      <th>5542</th>\n",
       "      <td>1453047.02</td>\n",
       "      <td>1.468222e+06</td>\n",
       "    </tr>\n",
       "    <tr>\n",
       "      <th>5832</th>\n",
       "      <td>1239423.19</td>\n",
       "      <td>1.308470e+06</td>\n",
       "    </tr>\n",
       "    <tr>\n",
       "      <th>1015</th>\n",
       "      <td>873337.84</td>\n",
       "      <td>9.071921e+05</td>\n",
       "    </tr>\n",
       "    <tr>\n",
       "      <th>2698</th>\n",
       "      <td>1468350.36</td>\n",
       "      <td>1.392513e+06</td>\n",
       "    </tr>\n",
       "    <tr>\n",
       "      <th>2762</th>\n",
       "      <td>2819193.17</td>\n",
       "      <td>2.795834e+06</td>\n",
       "    </tr>\n",
       "    <tr>\n",
       "      <th>4498</th>\n",
       "      <td>1181793.55</td>\n",
       "      <td>1.170312e+06</td>\n",
       "    </tr>\n",
       "    <tr>\n",
       "      <th>1267</th>\n",
       "      <td>564606.10</td>\n",
       "      <td>5.579352e+05</td>\n",
       "    </tr>\n",
       "    <tr>\n",
       "      <th>2362</th>\n",
       "      <td>915064.22</td>\n",
       "      <td>8.587627e+05</td>\n",
       "    </tr>\n",
       "    <tr>\n",
       "      <th>5957</th>\n",
       "      <td>577698.37</td>\n",
       "      <td>5.317541e+05</td>\n",
       "    </tr>\n",
       "    <tr>\n",
       "      <th>1211</th>\n",
       "      <td>518266.90</td>\n",
       "      <td>5.339898e+05</td>\n",
       "    </tr>\n",
       "    <tr>\n",
       "      <th>909</th>\n",
       "      <td>513372.17</td>\n",
       "      <td>5.428375e+05</td>\n",
       "    </tr>\n",
       "    <tr>\n",
       "      <th>1541</th>\n",
       "      <td>1300593.61</td>\n",
       "      <td>1.352491e+06</td>\n",
       "    </tr>\n",
       "    <tr>\n",
       "      <th>4475</th>\n",
       "      <td>1634635.86</td>\n",
       "      <td>1.150359e+06</td>\n",
       "    </tr>\n",
       "    <tr>\n",
       "      <th>457</th>\n",
       "      <td>1997181.09</td>\n",
       "      <td>1.900364e+06</td>\n",
       "    </tr>\n",
       "  </tbody>\n",
       "</table>\n",
       "</div>"
      ],
      "text/plain": [
       "          Actual     Predicted\n",
       "2920   732056.37  7.315326e+05\n",
       "2682  1308977.05  1.419986e+06\n",
       "4453  1124763.74  1.170106e+06\n",
       "2161   479430.00  4.466028e+05\n",
       "3359  1373841.91  1.416658e+06\n",
       "6230   324174.79  2.917946e+05\n",
       "4875  1182099.88  1.171478e+06\n",
       "1206   528420.28  5.433805e+05\n",
       "4467  1061089.56  1.086240e+06\n",
       "3844  2062224.92  1.827990e+06\n",
       "5036   434471.38  4.584942e+05\n",
       "5542  1453047.02  1.468222e+06\n",
       "5832  1239423.19  1.308470e+06\n",
       "1015   873337.84  9.071921e+05\n",
       "2698  1468350.36  1.392513e+06\n",
       "2762  2819193.17  2.795834e+06\n",
       "4498  1181793.55  1.170312e+06\n",
       "1267   564606.10  5.579352e+05\n",
       "2362   915064.22  8.587627e+05\n",
       "5957   577698.37  5.317541e+05\n",
       "1211   518266.90  5.339898e+05\n",
       "909    513372.17  5.428375e+05\n",
       "1541  1300593.61  1.352491e+06\n",
       "4475  1634635.86  1.150359e+06\n",
       "457   1997181.09  1.900364e+06"
      ]
     },
     "execution_count": 122,
     "metadata": {},
     "output_type": "execute_result"
    }
   ],
   "source": [
    "# compare actual values with predicted \n",
    "predicted1 = pd.DataFrame({'Actual':y_test,'Predicted':rf_pred})\n",
    "predicted1.Predicted = pd.to_numeric(predicted1.Predicted,downcast='float')\n",
    "predicted1.head(25)"
   ]
  },
  {
   "cell_type": "code",
   "execution_count": 123,
   "id": "49d0e9b5",
   "metadata": {},
   "outputs": [
    {
     "name": "stdout",
     "output_type": "stream",
     "text": [
      "[('Store', 0.6817835817003797), ('Fuel_Price', 0.011535361160497212), ('CPI', 0.20278973201083741), ('Unemployment', 0.05754106169068641), ('Day', 0.025305946977143133), ('Month', 0.020494628362391718), ('Year', 0.000549688098064405)]\n"
     ]
    }
   ],
   "source": [
    "# we will use random forest model to see if CPI, unemployment, and fuel price have any impact on sales\n",
    "print(list(zip(X_train.columns,rf.fit(X_train,y_train).feature_importances_)))"
   ]
  },
  {
   "cell_type": "markdown",
   "id": "48a4b78f",
   "metadata": {},
   "source": [
    "# From above analysis we found that CPI has more impact on sales than unemployment, and fuel price"
   ]
  },
  {
   "cell_type": "markdown",
   "id": "6fde4f5f",
   "metadata": {},
   "source": [
    "# Change dates into days by creating new variable."
   ]
  },
  {
   "cell_type": "code",
   "execution_count": 124,
   "id": "abbca861",
   "metadata": {},
   "outputs": [],
   "source": [
    "walmart_data['Days'] = pd.DatetimeIndex(walmart_data['Date']).day_name()"
   ]
  },
  {
   "cell_type": "code",
   "execution_count": 125,
   "id": "fa01fd12",
   "metadata": {},
   "outputs": [
    {
     "data": {
      "text/html": [
       "<div>\n",
       "<style scoped>\n",
       "    .dataframe tbody tr th:only-of-type {\n",
       "        vertical-align: middle;\n",
       "    }\n",
       "\n",
       "    .dataframe tbody tr th {\n",
       "        vertical-align: top;\n",
       "    }\n",
       "\n",
       "    .dataframe thead th {\n",
       "        text-align: right;\n",
       "    }\n",
       "</style>\n",
       "<table border=\"1\" class=\"dataframe\">\n",
       "  <thead>\n",
       "    <tr style=\"text-align: right;\">\n",
       "      <th></th>\n",
       "      <th>Store</th>\n",
       "      <th>Date</th>\n",
       "      <th>Weekly_Sales</th>\n",
       "      <th>Holiday_Flag</th>\n",
       "      <th>Temperature</th>\n",
       "      <th>Fuel_Price</th>\n",
       "      <th>CPI</th>\n",
       "      <th>Unemployment</th>\n",
       "      <th>Day</th>\n",
       "      <th>Month</th>\n",
       "      <th>Year</th>\n",
       "      <th>Days</th>\n",
       "    </tr>\n",
       "  </thead>\n",
       "  <tbody>\n",
       "    <tr>\n",
       "      <th>0</th>\n",
       "      <td>1</td>\n",
       "      <td>2010-05-02</td>\n",
       "      <td>1643690.90</td>\n",
       "      <td>0</td>\n",
       "      <td>42.31</td>\n",
       "      <td>2.572</td>\n",
       "      <td>211.096358</td>\n",
       "      <td>8.106</td>\n",
       "      <td>2</td>\n",
       "      <td>5</td>\n",
       "      <td>2010</td>\n",
       "      <td>Sunday</td>\n",
       "    </tr>\n",
       "    <tr>\n",
       "      <th>1</th>\n",
       "      <td>1</td>\n",
       "      <td>2010-12-02</td>\n",
       "      <td>1641957.44</td>\n",
       "      <td>1</td>\n",
       "      <td>38.51</td>\n",
       "      <td>2.548</td>\n",
       "      <td>211.242170</td>\n",
       "      <td>8.106</td>\n",
       "      <td>2</td>\n",
       "      <td>12</td>\n",
       "      <td>2010</td>\n",
       "      <td>Thursday</td>\n",
       "    </tr>\n",
       "    <tr>\n",
       "      <th>2</th>\n",
       "      <td>1</td>\n",
       "      <td>2010-02-19</td>\n",
       "      <td>1611968.17</td>\n",
       "      <td>0</td>\n",
       "      <td>39.93</td>\n",
       "      <td>2.514</td>\n",
       "      <td>211.289143</td>\n",
       "      <td>8.106</td>\n",
       "      <td>19</td>\n",
       "      <td>2</td>\n",
       "      <td>2010</td>\n",
       "      <td>Friday</td>\n",
       "    </tr>\n",
       "    <tr>\n",
       "      <th>3</th>\n",
       "      <td>1</td>\n",
       "      <td>2010-02-26</td>\n",
       "      <td>1409727.59</td>\n",
       "      <td>0</td>\n",
       "      <td>46.63</td>\n",
       "      <td>2.561</td>\n",
       "      <td>211.319643</td>\n",
       "      <td>8.106</td>\n",
       "      <td>26</td>\n",
       "      <td>2</td>\n",
       "      <td>2010</td>\n",
       "      <td>Friday</td>\n",
       "    </tr>\n",
       "    <tr>\n",
       "      <th>4</th>\n",
       "      <td>1</td>\n",
       "      <td>2010-05-03</td>\n",
       "      <td>1554806.68</td>\n",
       "      <td>0</td>\n",
       "      <td>46.50</td>\n",
       "      <td>2.625</td>\n",
       "      <td>211.350143</td>\n",
       "      <td>8.106</td>\n",
       "      <td>3</td>\n",
       "      <td>5</td>\n",
       "      <td>2010</td>\n",
       "      <td>Monday</td>\n",
       "    </tr>\n",
       "  </tbody>\n",
       "</table>\n",
       "</div>"
      ],
      "text/plain": [
       "   Store       Date  Weekly_Sales  Holiday_Flag  Temperature  Fuel_Price  \\\n",
       "0      1 2010-05-02    1643690.90             0        42.31       2.572   \n",
       "1      1 2010-12-02    1641957.44             1        38.51       2.548   \n",
       "2      1 2010-02-19    1611968.17             0        39.93       2.514   \n",
       "3      1 2010-02-26    1409727.59             0        46.63       2.561   \n",
       "4      1 2010-05-03    1554806.68             0        46.50       2.625   \n",
       "\n",
       "          CPI  Unemployment  Day  Month  Year      Days  \n",
       "0  211.096358         8.106    2      5  2010    Sunday  \n",
       "1  211.242170         8.106    2     12  2010  Thursday  \n",
       "2  211.289143         8.106   19      2  2010    Friday  \n",
       "3  211.319643         8.106   26      2  2010    Friday  \n",
       "4  211.350143         8.106    3      5  2010    Monday  "
      ]
     },
     "execution_count": 125,
     "metadata": {},
     "output_type": "execute_result"
    }
   ],
   "source": [
    "walmart_data.head()"
   ]
  },
  {
   "cell_type": "markdown",
   "id": "7c64b7db",
   "metadata": {},
   "source": [
    "# Summary :\n",
    "# 1. Store 20 has the maximum sales of 301397800.0 \n",
    "# 2. Store 14 has maximum Standard Deviation of 317569.949476\n",
    "# 3. Store 35 has the maximum coefficient of mean to standard deviation of 0.229681\n",
    "# 4. Store 4 has highest quarterly growth in Q3'2012 of 25652119.35\n",
    "# 5. The sales are higher for Super Bowl, Labour Day, Thanksgiving Day but it decreases during Christmas Day\n",
    "# 6. The maximum weekly sales are in December month of 2010 and mimimum weekly sales are in January month on 2010\n",
    "# 7. The maximum weekly sales are in April month of 2011 and minimum weekly sales are in March month of 2011\n",
    "# 8. The maximum weekly sales are in June month of 2012 minimum weekly sales are in December month of 2012\n",
    "# 9. Store 14 has maximum sales during semester 1 and semester 2 of the year 2010 \n",
    "# 10. Store 20 has maximum sales in 1st semester and Store 4 has maximum sales in the 2nd semester of the year 2011\n",
    "# 11. Store 4 has maximum sales during semester 1 and semester 2 of the year 2012\n",
    "# 12. Store 33 has minimum sales during semester 1 and semester 2 of the year 2010,2011,2012\n",
    "# 13. We restructured the date as per the problem statement\n",
    "# 14. Random Forest is the best model for both store 1 and the whole data sales prediction  \n",
    "# 15. CPI has more impact on sales than unemployment, and fuel price\n",
    "# 16. Created a new variable that gives day name from the date"
   ]
  }
 ],
 "metadata": {
  "kernelspec": {
   "display_name": "Python 3",
   "language": "python",
   "name": "python3"
  },
  "language_info": {
   "codemirror_mode": {
    "name": "ipython",
    "version": 3
   },
   "file_extension": ".py",
   "mimetype": "text/x-python",
   "name": "python",
   "nbconvert_exporter": "python",
   "pygments_lexer": "ipython3",
   "version": "3.8.8"
  }
 },
 "nbformat": 4,
 "nbformat_minor": 5
}
